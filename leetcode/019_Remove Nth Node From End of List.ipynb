{
 "metadata": {
  "language_info": {
   "codemirror_mode": {
    "name": "ipython",
    "version": 3
   },
   "file_extension": ".py",
   "mimetype": "text/x-python",
   "name": "python",
   "nbconvert_exporter": "python",
   "pygments_lexer": "ipython3",
   "version": "3.8.5"
  },
  "orig_nbformat": 2,
  "kernelspec": {
   "name": "python3",
   "display_name": "Python 3.8.5 64-bit ('algorithm': conda)"
  },
  "metadata": {
   "interpreter": {
    "hash": "337f1a600d345c50cd007a2461b073851b5ec4b77bc6c65adb33d085b42175ad"
   }
  },
  "interpreter": {
   "hash": "6d1a3e62e6baacc997e7fd515824b0551567c542b1e37c125c97fb608db7a38d"
  }
 },
 "nbformat": 4,
 "nbformat_minor": 2,
 "cells": [
  {
   "cell_type": "code",
   "execution_count": 1,
   "source": [
    "class ListNode():\r\n",
    "    def __init__(self, val=0, next=None):\r\n",
    "        self.val = val\r\n",
    "        self.next = next"
   ],
   "outputs": [],
   "metadata": {}
  },
  {
   "cell_type": "code",
   "execution_count": 2,
   "source": [
    "def listToListNode(array: list):\r\n",
    "    head = ListNode(array[0])\r\n",
    "    node = head\r\n",
    "    for nextNode in array[1:]:\r\n",
    "        node.next = ListNode(nextNode)\r\n",
    "        node = node.next\r\n",
    "    return head"
   ],
   "outputs": [],
   "metadata": {}
  },
  {
   "cell_type": "code",
   "execution_count": 3,
   "source": [
    "def listNodeToList(head: ListNode) -> list:\r\n",
    "    result = []\r\n",
    "    node = head\r\n",
    "    while node:\r\n",
    "        result.append(node.val)\r\n",
    "        node = node.next\r\n",
    "    return result"
   ],
   "outputs": [],
   "metadata": {}
  },
  {
   "cell_type": "code",
   "execution_count": 13,
   "source": [
    "head = listToListNode([1, 2, 3, 4, 5]); n = 2"
   ],
   "outputs": [],
   "metadata": {}
  },
  {
   "cell_type": "code",
   "execution_count": 14,
   "source": [
    "#내 풀이, 리스트 이용\r\n",
    "def removeNthFromEnd(head: ListNode, n: int) -> ListNode:\r\n",
    "    def listToListNode(array: list):\r\n",
    "        head = ListNode(array[0])\r\n",
    "        node = head\r\n",
    "        for nextNode in array[1:]:\r\n",
    "            node.next = ListNode(nextNode)\r\n",
    "            node = node.next\r\n",
    "        return head\r\n",
    "\r\n",
    "    def listNodeToList(head: ListNode) -> list:\r\n",
    "        result = []\r\n",
    "        node = head\r\n",
    "        while node:\r\n",
    "            result.append(node.val)\r\n",
    "            node = node.next\r\n",
    "        return result\r\n",
    "\r\n",
    "    array = listNodeToList(head)\r\n",
    "    del array[-n]\r\n",
    "    if not array:\r\n",
    "        return None\r\n",
    "    return listToListNode(array)"
   ],
   "outputs": [],
   "metadata": {}
  },
  {
   "cell_type": "code",
   "execution_count": 19,
   "source": [
    "new_head = removeNthFromEnd(head, n)\r\n",
    "listNodeToList(new_head)"
   ],
   "outputs": [
    {
     "output_type": "execute_result",
     "data": {
      "text/plain": [
       "[1, 2, 3, 5]"
      ]
     },
     "metadata": {},
     "execution_count": 19
    }
   ],
   "metadata": {}
  },
  {
   "cell_type": "code",
   "execution_count": null,
   "source": [],
   "outputs": [],
   "metadata": {}
  },
  {
   "cell_type": "code",
   "execution_count": null,
   "source": [],
   "outputs": [],
   "metadata": {}
  }
 ]
}