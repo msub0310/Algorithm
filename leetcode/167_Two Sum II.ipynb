{
 "metadata": {
  "language_info": {
   "codemirror_mode": {
    "name": "ipython",
    "version": 3
   },
   "file_extension": ".py",
   "mimetype": "text/x-python",
   "name": "python",
   "nbconvert_exporter": "python",
   "pygments_lexer": "ipython3",
   "version": "3.8.5"
  },
  "orig_nbformat": 2,
  "kernelspec": {
   "name": "python3",
   "display_name": "Python 3.8.5 64-bit ('algorithm': conda)"
  },
  "metadata": {
   "interpreter": {
    "hash": "337f1a600d345c50cd007a2461b073851b5ec4b77bc6c65adb33d085b42175ad"
   }
  },
  "interpreter": {
   "hash": "6d1a3e62e6baacc997e7fd515824b0551567c542b1e37c125c97fb608db7a38d"
  }
 },
 "nbformat": 4,
 "nbformat_minor": 2,
 "cells": [
  {
   "cell_type": "code",
   "execution_count": 35,
   "source": [
    "numbers = [2, 7, 11, 15]; target = 9"
   ],
   "outputs": [],
   "metadata": {}
  },
  {
   "cell_type": "code",
   "execution_count": 36,
   "source": [
    "# 내 풀이 Brute Force, Timeout\r\n",
    "def twoSumBrute(numbers: [int], target: int) -> [int]:\r\n",
    "    for i in range(len(numbers)):\r\n",
    "        for j in range(i+1, len(numbers)):\r\n",
    "            if numbers[i] + numbers[j] == target:\r\n",
    "                return [i + 1, j + 1]"
   ],
   "outputs": [],
   "metadata": {}
  },
  {
   "cell_type": "code",
   "execution_count": 37,
   "source": [
    "twoSumBrute(numbers, target)"
   ],
   "outputs": [
    {
     "output_type": "execute_result",
     "data": {
      "text/plain": [
       "[1, 2]"
      ]
     },
     "metadata": {},
     "execution_count": 37
    }
   ],
   "metadata": {}
  },
  {
   "cell_type": "code",
   "execution_count": 44,
   "source": [
    "# 내 풀이, Binary Search\r\n",
    "import bisect\r\n",
    "def twoSumBinary(numbers: [int], target: int) -> [int]:\r\n",
    "    for i, num in enumerate(numbers):\r\n",
    "        if target - num in numbers:\r\n",
    "            j = bisect.bisect_left(numbers[i+1:], target - num)\r\n",
    "            return [i + 1, i + j + 2]"
   ],
   "outputs": [],
   "metadata": {}
  },
  {
   "cell_type": "code",
   "execution_count": 45,
   "source": [
    "twoSumBinary([5, 25, 75], 100)"
   ],
   "outputs": [
    {
     "output_type": "execute_result",
     "data": {
      "text/plain": [
       "[2, 3]"
      ]
     },
     "metadata": {},
     "execution_count": 45
    }
   ],
   "metadata": {}
  }
 ]
}