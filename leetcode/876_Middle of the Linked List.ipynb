{
 "metadata": {
  "language_info": {
   "codemirror_mode": {
    "name": "ipython",
    "version": 3
   },
   "file_extension": ".py",
   "mimetype": "text/x-python",
   "name": "python",
   "nbconvert_exporter": "python",
   "pygments_lexer": "ipython3",
   "version": "3.8.5"
  },
  "orig_nbformat": 2,
  "kernelspec": {
   "name": "python3",
   "display_name": "Python 3.8.5 64-bit ('algorithm': conda)"
  },
  "metadata": {
   "interpreter": {
    "hash": "337f1a600d345c50cd007a2461b073851b5ec4b77bc6c65adb33d085b42175ad"
   }
  },
  "interpreter": {
   "hash": "6d1a3e62e6baacc997e7fd515824b0551567c542b1e37c125c97fb608db7a38d"
  }
 },
 "nbformat": 4,
 "nbformat_minor": 2,
 "cells": [
  {
   "cell_type": "code",
   "execution_count": 26,
   "source": [
    "class ListNode():\r\n",
    "    def __init__(self, val=0, next=None):\r\n",
    "        self.val = val\r\n",
    "        self.next = next"
   ],
   "outputs": [],
   "metadata": {}
  },
  {
   "cell_type": "code",
   "execution_count": 27,
   "source": [
    "def listToListNode(array: list):\r\n",
    "    head = ListNode(array[0])\r\n",
    "    node = head\r\n",
    "    for nextNode in array[1:]:\r\n",
    "        node.next = ListNode(nextNode)\r\n",
    "        node = node.next\r\n",
    "    return head"
   ],
   "outputs": [],
   "metadata": {}
  },
  {
   "cell_type": "code",
   "execution_count": 28,
   "source": [
    "def listNodeToList(head: ListNode) -> list:\r\n",
    "    result = []\r\n",
    "    node = head\r\n",
    "    while node:\r\n",
    "        result.append(node.val)\r\n",
    "        node = node.next\r\n",
    "    return result"
   ],
   "outputs": [],
   "metadata": {}
  },
  {
   "cell_type": "code",
   "execution_count": 29,
   "source": [
    "head = listToListNode([1, 2, 3, 4, 5, 6])"
   ],
   "outputs": [],
   "metadata": {}
  },
  {
   "cell_type": "code",
   "execution_count": 30,
   "source": [
    "def middlePoint(head: ListNode) -> ListNode:\r\n",
    "    fast = slow = head\r\n",
    "    while fast and fast.next:\r\n",
    "        fast = fast.next.next\r\n",
    "        slow = slow.next\r\n",
    "    return slow"
   ],
   "outputs": [],
   "metadata": {}
  },
  {
   "cell_type": "code",
   "execution_count": 31,
   "source": [
    "result = middlePoint(head)\r\n",
    "listNodeToList(result)"
   ],
   "outputs": [
    {
     "output_type": "execute_result",
     "data": {
      "text/plain": [
       "[4, 5, 6]"
      ]
     },
     "metadata": {},
     "execution_count": 31
    }
   ],
   "metadata": {}
  },
  {
   "cell_type": "code",
   "execution_count": null,
   "source": [],
   "outputs": [],
   "metadata": {}
  }
 ]
}