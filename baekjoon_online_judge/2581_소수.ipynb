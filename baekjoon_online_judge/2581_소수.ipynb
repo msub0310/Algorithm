{
 "metadata": {
  "language_info": {
   "codemirror_mode": {
    "name": "ipython",
    "version": 3
   },
   "file_extension": ".py",
   "mimetype": "text/x-python",
   "name": "python",
   "nbconvert_exporter": "python",
   "pygments_lexer": "ipython3",
   "version": "3.8.5"
  },
  "orig_nbformat": 2,
  "kernelspec": {
   "name": "python3",
   "display_name": "Python 3.8.5 64-bit ('algorithm': conda)"
  },
  "metadata": {
   "interpreter": {
    "hash": "337f1a600d345c50cd007a2461b073851b5ec4b77bc6c65adb33d085b42175ad"
   }
  },
  "interpreter": {
   "hash": "6d1a3e62e6baacc997e7fd515824b0551567c542b1e37c125c97fb608db7a38d"
  }
 },
 "nbformat": 4,
 "nbformat_minor": 2,
 "cells": [
  {
   "cell_type": "code",
   "execution_count": 14,
   "source": [
    "# 내 풀이\r\n",
    "m, n = 1, 100\r\n",
    "m, n = int(input()), int(input())\r\n",
    "seqPrime = []\r\n",
    "for num in range(m, n + 1):\r\n",
    "    if num == 1:\r\n",
    "        continue\r\n",
    "    if all([num % i != 0 for i in range(2, (num // 2)+1)]):\r\n",
    "        seqPrime.append(num)\r\n",
    "if len(seqPrime) > 0:\r\n",
    "    print(sum(seqPrime))\r\n",
    "    print(min(seqPrime))\r\n",
    "else:\r\n",
    "    print(-1)"
   ],
   "outputs": [
    {
     "output_type": "stream",
     "name": "stdout",
     "text": [
      "620\n",
      "61\n"
     ]
    }
   ],
   "metadata": {}
  },
  {
   "cell_type": "code",
   "execution_count": null,
   "source": [],
   "outputs": [],
   "metadata": {}
  }
 ]
}