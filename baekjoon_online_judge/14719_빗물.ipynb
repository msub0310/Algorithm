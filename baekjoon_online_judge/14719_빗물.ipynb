{
 "metadata": {
  "language_info": {
   "codemirror_mode": {
    "name": "ipython",
    "version": 3
   },
   "file_extension": ".py",
   "mimetype": "text/x-python",
   "name": "python",
   "nbconvert_exporter": "python",
   "pygments_lexer": "ipython3",
   "version": "3.8.5"
  },
  "orig_nbformat": 2,
  "kernelspec": {
   "name": "python3",
   "display_name": "Python 3.8.5 64-bit ('algorithm': conda)"
  },
  "metadata": {
   "interpreter": {
    "hash": "337f1a600d345c50cd007a2461b073851b5ec4b77bc6c65adb33d085b42175ad"
   }
  },
  "interpreter": {
   "hash": "6d1a3e62e6baacc997e7fd515824b0551567c542b1e37c125c97fb608db7a38d"
  }
 },
 "nbformat": 4,
 "nbformat_minor": 2,
 "cells": [
  {
   "cell_type": "code",
   "execution_count": 216,
   "source": [
    "index = \"4 4\"\r\n",
    "block = \"3 0 1 4\""
   ],
   "outputs": [],
   "metadata": {}
  },
  {
   "cell_type": "code",
   "execution_count": 222,
   "source": [
    "index = \"4 8\"\r\n",
    "block = \"3 1 2 3 4 1 1 2\""
   ],
   "outputs": [],
   "metadata": {}
  },
  {
   "cell_type": "code",
   "execution_count": 258,
   "source": [
    "index = \"3 5\"\r\n",
    "block = \"0 1 0 1 4 1 2 1 1\""
   ],
   "outputs": [],
   "metadata": {}
  },
  {
   "cell_type": "code",
   "execution_count": 230,
   "source": [
    "index = \"3 5\"\r\n",
    "block = \"0 0 0 2 0\""
   ],
   "outputs": [],
   "metadata": {}
  },
  {
   "cell_type": "code",
   "execution_count": 255,
   "source": [
    "index = \"3 5\"\r\n",
    "block = \"3 2 1 2 1 0 3 2\""
   ],
   "outputs": [],
   "metadata": {}
  },
  {
   "cell_type": "code",
   "execution_count": 259,
   "source": [
    "index = list(map(int, index.split()))\r\n",
    "block = list(map(int, block.split()))\r\n",
    "print(index)\r\n",
    "print(block)"
   ],
   "outputs": [
    {
     "output_type": "stream",
     "name": "stdout",
     "text": [
      "[3, 5]\n",
      "[0, 1, 0, 1, 4, 1, 2, 1, 1]\n"
     ]
    }
   ],
   "metadata": {}
  },
  {
   "cell_type": "code",
   "execution_count": 261,
   "source": [
    "# 내 풀이, Two Pointer, 틀림\r\n",
    "#index = list(map(int, input().split()))\r\n",
    "#block = list(map(int, input().split()))\r\n",
    "\r\n",
    "left, right, val = 0, 0, 0\r\n",
    "while left < len(block) - 2 and right < len(block) - 1:\r\n",
    "    while block[left + 1] > block[left]:\r\n",
    "        if left == len(block) - 2:\r\n",
    "            break\r\n",
    "        left += 1\r\n",
    "\r\n",
    "    right = left + 1\r\n",
    "    while block[right] < block[left]:\r\n",
    "        if right == len(block) - 1:\r\n",
    "            break\r\n",
    "        right += 1\r\n",
    "\r\n",
    "    val += sum([max(min(block[left], block[right]) - i, 0) for i in block[left+1 : right]])\r\n",
    "    left = right\r\n",
    "    \r\n",
    "print(val)"
   ],
   "outputs": [
    {
     "output_type": "stream",
     "name": "stdout",
     "text": [
      "1\n"
     ]
    }
   ],
   "metadata": {}
  },
  {
   "cell_type": "code",
   "execution_count": 263,
   "source": [
    "# 파이썬 알고리즘 인터뷰, Two Pointer\r\n",
    "#_ = input()\r\n",
    "#height = list(map(int, input().split()))\r\n",
    "height = block\r\n",
    "def trap(height: [int]) -> int:\r\n",
    "    if not height:\r\n",
    "        return 0\r\n",
    "    \r\n",
    "    volume = 0\r\n",
    "    left, right = 0, len(height) - 1\r\n",
    "    left_max, right_max = height[left], height[right]\r\n",
    "\r\n",
    "    while left < right:\r\n",
    "        left_max, right_max = max(height[left], left_max), max(height[right], right_max)\r\n",
    "\r\n",
    "        if left_max <= right_max:\r\n",
    "            volume += left_max - height[left]\r\n",
    "            left += 1\r\n",
    "        else:\r\n",
    "            volume += right_max - height[right]\r\n",
    "            right -= 1\r\n",
    "    return volume\r\n",
    "print(trap(height))"
   ],
   "outputs": [
    {
     "output_type": "stream",
     "name": "stdout",
     "text": [
      "2\n"
     ]
    }
   ],
   "metadata": {}
  },
  {
   "cell_type": "code",
   "execution_count": null,
   "source": [],
   "outputs": [],
   "metadata": {}
  }
 ]
}