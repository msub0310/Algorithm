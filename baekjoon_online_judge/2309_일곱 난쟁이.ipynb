{
 "metadata": {
  "language_info": {
   "codemirror_mode": {
    "name": "ipython",
    "version": 3
   },
   "file_extension": ".py",
   "mimetype": "text/x-python",
   "name": "python",
   "nbconvert_exporter": "python",
   "pygments_lexer": "ipython3",
   "version": "3.8.5"
  },
  "orig_nbformat": 2,
  "kernelspec": {
   "name": "python3",
   "display_name": "Python 3.8.5 64-bit ('algorithm': conda)"
  },
  "metadata": {
   "interpreter": {
    "hash": "337f1a600d345c50cd007a2461b073851b5ec4b77bc6c65adb33d085b42175ad"
   }
  },
  "interpreter": {
   "hash": "6d1a3e62e6baacc997e7fd515824b0551567c542b1e37c125c97fb608db7a38d"
  }
 },
 "nbformat": 4,
 "nbformat_minor": 2,
 "cells": [
  {
   "cell_type": "code",
   "execution_count": null,
   "source": [
    "input_ = []\r\n",
    "for _ in range(9):\r\n",
    "    input_.append(int(input()))\r\n",
    "input_.sort()"
   ],
   "outputs": [],
   "metadata": {}
  },
  {
   "cell_type": "code",
   "execution_count": 21,
   "source": [
    "input_ = sorted([20, 7, 23, 19, 10, 15, 25, 8, 13])\r\n",
    "input_"
   ],
   "outputs": [
    {
     "output_type": "execute_result",
     "data": {
      "text/plain": [
       "[7, 8, 10, 13, 15, 19, 20, 23, 25]"
      ]
     },
     "metadata": {},
     "execution_count": 21
    }
   ],
   "metadata": {}
  },
  {
   "cell_type": "code",
   "execution_count": 22,
   "source": [
    "# 내 풀이, Brute Force\r\n",
    "\r\n",
    "input_ = []\r\n",
    "for _ in range(9):\r\n",
    "    input_.append(int(input()))\r\n",
    "input_.sort()\r\n",
    "\r\n",
    "for i in input_:\r\n",
    "    for j in input_[input_.index(i)+1:]:\r\n",
    "        check = input_.copy()\r\n",
    "        check.remove(i)\r\n",
    "        check.remove(j)\r\n",
    "        if sum(check) == 100:\r\n",
    "            break\r\n",
    "    if sum(check) == 100:\r\n",
    "        break\r\n",
    "for i in check:\r\n",
    "    print(i)"
   ],
   "outputs": [
    {
     "output_type": "stream",
     "name": "stdout",
     "text": [
      "7\n",
      "8\n",
      "10\n",
      "13\n",
      "19\n",
      "20\n",
      "23\n"
     ]
    }
   ],
   "metadata": {}
  },
  {
   "cell_type": "code",
   "execution_count": 28,
   "source": [
    "# Clean, Brute Force\r\n",
    "\r\n",
    "s = []\r\n",
    "for _ in range(9):\r\n",
    "    s.append(int(input()))\r\n",
    "\r\n",
    "for i in range(8):\r\n",
    "    for j in range(1, 9):\r\n",
    "        if sum(s) - (s[i] + s[j]) == 100:\r\n",
    "            one, two = s[i], s[j]\r\n",
    "            break\r\n",
    "    if sum(s) - (s[i] + s[j]) == 100:\r\n",
    "        break\r\n",
    "s.remove(one)\r\n",
    "s.remove(two)\r\n",
    "s.sort()\r\n",
    "for i in s:\r\n",
    "    print(i)"
   ],
   "outputs": [
    {
     "output_type": "stream",
     "name": "stdout",
     "text": [
      "7\n",
      "8\n",
      "10\n",
      "13\n",
      "19\n",
      "20\n",
      "23\n"
     ]
    }
   ],
   "metadata": {}
  },
  {
   "cell_type": "code",
   "execution_count": null,
   "source": [],
   "outputs": [],
   "metadata": {}
  }
 ]
}