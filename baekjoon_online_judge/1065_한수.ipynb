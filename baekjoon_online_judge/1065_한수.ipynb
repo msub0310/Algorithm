{
 "metadata": {
  "language_info": {
   "codemirror_mode": {
    "name": "ipython",
    "version": 3
   },
   "file_extension": ".py",
   "mimetype": "text/x-python",
   "name": "python",
   "nbconvert_exporter": "python",
   "pygments_lexer": "ipython3",
   "version": "3.8.5"
  },
  "orig_nbformat": 2,
  "kernelspec": {
   "name": "python3",
   "display_name": "Python 3.8.5 64-bit ('algorithm': conda)"
  },
  "metadata": {
   "interpreter": {
    "hash": "337f1a600d345c50cd007a2461b073851b5ec4b77bc6c65adb33d085b42175ad"
   }
  },
  "interpreter": {
   "hash": "6d1a3e62e6baacc997e7fd515824b0551567c542b1e37c125c97fb608db7a38d"
  }
 },
 "nbformat": 4,
 "nbformat_minor": 2,
 "cells": [
  {
   "cell_type": "code",
   "execution_count": 1,
   "source": [
    "# 내 풀이\r\n",
    "def check(num):\r\n",
    "    if len(str(num)) >= 3:\r\n",
    "        result = True\r\n",
    "        for i in range(len(str(num))-2):\r\n",
    "            diff_1 = int(str(num)[i+1]) - int(str(num)[i])\r\n",
    "            diff_2 = int(str(num)[i+2]) - int(str(num)[i+1])\r\n",
    "            result = result and (diff_1 == diff_2)\r\n",
    "        return result\r\n",
    "    else:\r\n",
    "        return True\r\n",
    "num = int(input())\r\n",
    "count = 0\r\n",
    "for n in range(1, num+1):\r\n",
    "    if check(n):\r\n",
    "        count += 1\r\n",
    "print(count)"
   ],
   "outputs": [
    {
     "output_type": "stream",
     "name": "stdout",
     "text": [
      "144\n"
     ]
    }
   ],
   "metadata": {}
  },
  {
   "cell_type": "code",
   "execution_count": 31,
   "source": [
    "num = 1000\r\n",
    "count = 0\r\n",
    "for n in range(1, num+1):\r\n",
    "    if check(n):\r\n",
    "        count += 1\r\n",
    "count"
   ],
   "outputs": [
    {
     "output_type": "execute_result",
     "data": {
      "text/plain": [
       "144"
      ]
     },
     "metadata": {},
     "execution_count": 31
    }
   ],
   "metadata": {}
  },
  {
   "cell_type": "code",
   "execution_count": null,
   "source": [],
   "outputs": [],
   "metadata": {}
  }
 ]
}