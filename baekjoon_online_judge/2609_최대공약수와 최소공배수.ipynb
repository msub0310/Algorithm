{
 "metadata": {
  "language_info": {
   "codemirror_mode": {
    "name": "ipython",
    "version": 3
   },
   "file_extension": ".py",
   "mimetype": "text/x-python",
   "name": "python",
   "nbconvert_exporter": "python",
   "pygments_lexer": "ipython3",
   "version": "3.8.5"
  },
  "orig_nbformat": 2,
  "kernelspec": {
   "name": "python3",
   "display_name": "Python 3.8.5 64-bit ('base': conda)"
  },
  "metadata": {
   "interpreter": {
    "hash": "337f1a600d345c50cd007a2461b073851b5ec4b77bc6c65adb33d085b42175ad"
   }
  },
  "interpreter": {
   "hash": "337f1a600d345c50cd007a2461b073851b5ec4b77bc6c65adb33d085b42175ad"
  }
 },
 "nbformat": 4,
 "nbformat_minor": 2,
 "cells": [
  {
   "cell_type": "code",
   "execution_count": 15,
   "source": [
    "num1, num2 = 24, 18"
   ],
   "outputs": [],
   "metadata": {}
  },
  {
   "cell_type": "code",
   "execution_count": 20,
   "source": [
    "# 내 풀이, 매우 지저분\r\n",
    "import collections\r\n",
    "#num1, num2 = map(int, input().split())\r\n",
    "def div(num):\r\n",
    "    return [i for i in range(1, num+1) if num/i == int(num/i)]\r\n",
    "def prime(num):\r\n",
    "    divNum = div(num)\r\n",
    "    primeNum = []\r\n",
    "    for i, n in enumerate(divNum):\r\n",
    "        if all([n % j != 0 for j in divNum[1:i]]):\r\n",
    "            count = 1\r\n",
    "            if n != 1:\r\n",
    "                while num % (n ** count) == 0:\r\n",
    "                    count += 1\r\n",
    "            primeNum += [n] * (count - 1)\r\n",
    "    return primeNum\r\n",
    "primeNum1, primeNum2 = prime(num1), prime(num2)\r\n",
    "counter1, counter2 = collections.Counter(primeNum1), collections.Counter(primeNum2)\r\n",
    "\r\n",
    "minMult = collections.defaultdict(int)\r\n",
    "maxDiv = collections.defaultdict(int)\r\n",
    "for key in counter1.keys():\r\n",
    "    minMult[key] = counter1[key]\r\n",
    "    if key in counter2.keys():\r\n",
    "        maxDiv[key] = counter1[key]\r\n",
    "\r\n",
    "for key in counter2.keys():\r\n",
    "    if key in maxDiv.keys():\r\n",
    "        maxDiv[key] = min(counter2[key], maxDiv[key])    \r\n",
    "    minMult[key] = max(counter2[key], minMult[key])\r\n",
    "\r\n",
    "mult = div = 1\r\n",
    "for key in maxDiv.keys():\r\n",
    "    div *= (key ** maxDiv[key])\r\n",
    "for key in minMult.keys():\r\n",
    "    mult *= (key ** minMult[key])\r\n",
    "print(div)\r\n",
    "print(mult)"
   ],
   "outputs": [
    {
     "output_type": "stream",
     "name": "stdout",
     "text": [
      "6\n",
      "72\n"
     ]
    }
   ],
   "metadata": {}
  },
  {
   "cell_type": "code",
   "execution_count": 27,
   "source": [
    "# 깔끔한 풀이\r\n",
    "\r\n",
    "num1, num2 = 24, 18\r\n",
    "#num1, num2 = map(int, input().split())\r\n",
    "b, a = sorted([num1, num2])\r\n",
    "while b != 0:\r\n",
    "    a = a % b\r\n",
    "    a, b = b, a\r\n",
    "\r\n",
    "print(a)\r\n",
    "print(num1 * num2 // a)"
   ],
   "outputs": [
    {
     "output_type": "stream",
     "name": "stdout",
     "text": [
      "6\n",
      "72\n"
     ]
    }
   ],
   "metadata": {}
  },
  {
   "cell_type": "code",
   "execution_count": null,
   "source": [],
   "outputs": [],
   "metadata": {}
  }
 ]
}