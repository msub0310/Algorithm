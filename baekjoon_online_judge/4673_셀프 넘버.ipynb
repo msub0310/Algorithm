{
 "metadata": {
  "language_info": {
   "codemirror_mode": {
    "name": "ipython",
    "version": 3
   },
   "file_extension": ".py",
   "mimetype": "text/x-python",
   "name": "python",
   "nbconvert_exporter": "python",
   "pygments_lexer": "ipython3",
   "version": "3.8.5"
  },
  "orig_nbformat": 2,
  "kernelspec": {
   "name": "python3",
   "display_name": "Python 3.8.5 64-bit ('algorithm': conda)"
  },
  "metadata": {
   "interpreter": {
    "hash": "337f1a600d345c50cd007a2461b073851b5ec4b77bc6c65adb33d085b42175ad"
   }
  },
  "interpreter": {
   "hash": "6d1a3e62e6baacc997e7fd515824b0551567c542b1e37c125c97fb608db7a38d"
  }
 },
 "nbformat": 4,
 "nbformat_minor": 2,
 "cells": [
  {
   "cell_type": "code",
   "execution_count": 1,
   "source": [
    "# 내 풀이\r\n",
    "result = [i for i in range(1, 10001)]\r\n",
    "for n in range(1, 10001):\r\n",
    "    selfNum = n + sum(int(i) for i in str(n))\r\n",
    "    if selfNum in result:\r\n",
    "        result.remove(selfNum)\r\n",
    "#for num in result:\r\n",
    "#    print(num)"
   ],
   "outputs": [],
   "metadata": {}
  },
  {
   "cell_type": "code",
   "execution_count": 7,
   "source": [
    "# 집합을 이용한 풀이\r\n",
    "natural_num = set(range(1, 10001))\r\n",
    "generated_num = set()\r\n",
    "\r\n",
    "for i in range(1, 10001):\r\n",
    "    generated_num.add(i + sum([int(j) for j in str(i)]))\r\n",
    "\r\n",
    "self_num = sorted(natural_num - generated_num)\r\n",
    "for i in self_num:\r\n",
    "    print(i)"
   ],
   "outputs": [],
   "metadata": {}
  },
  {
   "cell_type": "code",
   "execution_count": null,
   "source": [],
   "outputs": [],
   "metadata": {}
  }
 ]
}