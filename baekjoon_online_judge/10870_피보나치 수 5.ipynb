{
 "metadata": {
  "language_info": {
   "codemirror_mode": {
    "name": "ipython",
    "version": 3
   },
   "file_extension": ".py",
   "mimetype": "text/x-python",
   "name": "python",
   "nbconvert_exporter": "python",
   "pygments_lexer": "ipython3",
   "version": "3.8.5"
  },
  "orig_nbformat": 2,
  "kernelspec": {
   "name": "python3",
   "display_name": "Python 3.8.5 64-bit ('algorithm': conda)"
  },
  "metadata": {
   "interpreter": {
    "hash": "337f1a600d345c50cd007a2461b073851b5ec4b77bc6c65adb33d085b42175ad"
   }
  },
  "interpreter": {
   "hash": "6d1a3e62e6baacc997e7fd515824b0551567c542b1e37c125c97fb608db7a38d"
  }
 },
 "nbformat": 4,
 "nbformat_minor": 2,
 "cells": [
  {
   "cell_type": "code",
   "execution_count": 8,
   "source": [
    "# 내 풀이, Memoization\r\n",
    "import collections\r\n",
    "n = int(input())\r\n",
    "dp = collections.defaultdict(int)\r\n",
    "def fib(n):\r\n",
    "    if n <= 1:\r\n",
    "        dp[n] = n\r\n",
    "        return dp[n]\r\n",
    "    dp[n] = fib(n-1) + fib(n-2)\r\n",
    "    return dp[n]\r\n",
    "print(fib(n))"
   ],
   "outputs": [
    {
     "output_type": "stream",
     "name": "stdout",
     "text": [
      "55\n"
     ]
    }
   ],
   "metadata": {}
  },
  {
   "cell_type": "code",
   "execution_count": 21,
   "source": [
    "# 내 풀이, Tabulation\r\n",
    "import collections\r\n",
    "n = int(input())\r\n",
    "dp = collections.defaultdict(int)\r\n",
    "def fib(n):\r\n",
    "    dp[1] = 1\r\n",
    "    for i in range(2, n + 1):\r\n",
    "        dp[i] = dp[i-1] + dp[i-2]\r\n",
    "    return dp[n]\r\n",
    "print(fib(n))"
   ],
   "outputs": [
    {
     "output_type": "stream",
     "name": "stdout",
     "text": [
      "55\n"
     ]
    }
   ],
   "metadata": {}
  },
  {
   "cell_type": "code",
   "execution_count": null,
   "source": [],
   "outputs": [],
   "metadata": {}
  }
 ]
}