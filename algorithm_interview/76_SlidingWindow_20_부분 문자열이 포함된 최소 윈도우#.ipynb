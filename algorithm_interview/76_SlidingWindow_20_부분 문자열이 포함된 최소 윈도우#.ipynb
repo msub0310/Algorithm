{
 "metadata": {
  "language_info": {
   "codemirror_mode": {
    "name": "ipython",
    "version": 3
   },
   "file_extension": ".py",
   "mimetype": "text/x-python",
   "name": "python",
   "nbconvert_exporter": "python",
   "pygments_lexer": "ipython3",
   "version": "3.8.5"
  },
  "orig_nbformat": 2,
  "kernelspec": {
   "name": "python3",
   "display_name": "Python 3.8.5 64-bit ('algorithm': conda)"
  },
  "interpreter": {
   "hash": "6d1a3e62e6baacc997e7fd515824b0551567c542b1e37c125c97fb608db7a38d"
  }
 },
 "nbformat": 4,
 "nbformat_minor": 2,
 "cells": [
  {
   "cell_type": "code",
   "execution_count": 128,
   "source": [
    "S = \"ADOBBANCECODE\"\r\n",
    "T = \"ABC\"\r\n",
    "\r\n",
    "print(S, T)"
   ],
   "outputs": [
    {
     "output_type": "stream",
     "name": "stdout",
     "text": [
      "ADOBBANCECODE ABC\n"
     ]
    }
   ],
   "metadata": {}
  },
  {
   "cell_type": "code",
   "execution_count": 106,
   "source": [
    "# 내 풀이, Brute Force\r\n",
    "def minWindow(s: str, t: str) -> str:\r\n",
    "    result = \"\"\r\n",
    "    for i in range(len(s)):\r\n",
    "        for j in range(len(t), len(s) - i + 1):\r\n",
    "            if all(char in s[i:i+j] for char in t):\r\n",
    "                if result == \"\":\r\n",
    "                    result = s[i:i+j]\r\n",
    "                elif len(result) > len(s[i:i+j]):\r\n",
    "                    result = s[i:i+j]\r\n",
    "    return result"
   ],
   "outputs": [],
   "metadata": {}
  },
  {
   "cell_type": "code",
   "execution_count": 107,
   "source": [
    "minWindow(S, T)"
   ],
   "outputs": [
    {
     "output_type": "execute_result",
     "data": {
      "text/plain": [
       "'BANC'"
      ]
     },
     "metadata": {},
     "execution_count": 107
    }
   ],
   "metadata": {}
  },
  {
   "cell_type": "code",
   "execution_count": 108,
   "source": [
    "# 내 풀이, DFS\r\n",
    "class Solution():\r\n",
    "    result = \"\"\r\n",
    "    def minWindowTwoPoints(self, s: str, t: str) -> str:\r\n",
    "\r\n",
    "        def dfs(left, right):\r\n",
    "            print(left, right, self.result)\r\n",
    "            if left < right and all(char in s[left:right] for char in t):\r\n",
    "                self.result = s[left:right]\r\n",
    "                if len(self.result) < len(dfs(left + 1, right)):\r\n",
    "                    return self.result\r\n",
    "                elif len(self.result) < len(dfs(left, right - 1)):\r\n",
    "                    return self.result\r\n",
    "                else:\r\n",
    "                    return \"a\"*(len(s)+1)\r\n",
    "            #else:\r\n",
    "            #    return \"\"\r\n",
    "                \r\n",
    "        dfs(0, len(s))\r\n",
    "        return self.result"
   ],
   "outputs": [],
   "metadata": {}
  },
  {
   "cell_type": "code",
   "execution_count": 110,
   "source": [
    "# 안 풀림\r\n",
    "# Solution().minWindowTwoPoints(S, T)"
   ],
   "outputs": [],
   "metadata": {}
  },
  {
   "cell_type": "code",
   "execution_count": 135,
   "source": [
    "# 다시 보기\r\n",
    "import collections\r\n",
    "def minWindowOptim(s: str, t: str) -> str:\r\n",
    "    need = collections.Counter(t)\r\n",
    "    missing = len(t)\r\n",
    "    left = start = end = 0\r\n",
    "\r\n",
    "    for right, char in enumerate(s, 1):\r\n",
    "        missing -= need[char] > 0\r\n",
    "        need[char] -= 1\r\n",
    "\r\n",
    "        if missing == 0:\r\n",
    "            while left < right and need[s[left]] < 0:\r\n",
    "                need[s[left]] += 1\r\n",
    "                left += 1\r\n",
    "\r\n",
    "            if not end or right - left <= end - start:\r\n",
    "                start, end = left, right\r\n",
    "            \r\n",
    "            need[s[left]] += 1\r\n",
    "            missing += 1\r\n",
    "            left += 1\r\n",
    "        \r\n",
    "    return s[start:end]"
   ],
   "outputs": [],
   "metadata": {}
  },
  {
   "cell_type": "code",
   "execution_count": 136,
   "source": [
    "minWindowOptim(S, T)"
   ],
   "outputs": [
    {
     "output_type": "execute_result",
     "data": {
      "text/plain": [
       "'BANC'"
      ]
     },
     "metadata": {},
     "execution_count": 136
    }
   ],
   "metadata": {}
  },
  {
   "cell_type": "code",
   "execution_count": 125,
   "source": [
    "need = collections.Counter(T)\r\n",
    "char = \"A\"\r\n",
    "missing = len(T)\r\n",
    "missing -= need[char] > 0\r\n",
    "missing"
   ],
   "outputs": [
    {
     "output_type": "execute_result",
     "data": {
      "text/plain": [
       "2"
      ]
     },
     "metadata": {},
     "execution_count": 125
    }
   ],
   "metadata": {}
  },
  {
   "cell_type": "code",
   "execution_count": null,
   "source": [],
   "outputs": [],
   "metadata": {}
  }
 ]
}