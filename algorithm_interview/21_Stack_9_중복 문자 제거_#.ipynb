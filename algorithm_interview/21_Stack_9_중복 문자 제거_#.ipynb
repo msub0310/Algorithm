{
 "metadata": {
  "language_info": {
   "codemirror_mode": {
    "name": "ipython",
    "version": 3
   },
   "file_extension": ".py",
   "mimetype": "text/x-python",
   "name": "python",
   "nbconvert_exporter": "python",
   "pygments_lexer": "ipython3",
   "version": "3.8.5"
  },
  "orig_nbformat": 2,
  "kernelspec": {
   "name": "python3",
   "display_name": "Python 3.8.5 64-bit ('at_augmentation': conda)"
  },
  "interpreter": {
   "hash": "828202fa85a8b396542176841487990126fada61002bf35be36a9dd70b81875f"
  }
 },
 "nbformat": 4,
 "nbformat_minor": 2,
 "cells": [
  {
   "cell_type": "code",
   "execution_count": 12,
   "source": [
    "input_1 = \"bcabc\"\r\n",
    "input_2 = \"cbacdcbc\""
   ],
   "outputs": [],
   "metadata": {}
  },
  {
   "cell_type": "code",
   "execution_count": 13,
   "source": [
    "s = input_1\r\n",
    "\r\n",
    "char_list = sorted(set(s))\r\n",
    "\r\n",
    "char = char_list[0]\r\n",
    "\r\n",
    "char"
   ],
   "outputs": [
    {
     "output_type": "execute_result",
     "data": {
      "text/plain": [
       "'a'"
      ]
     },
     "metadata": {},
     "execution_count": 13
    }
   ],
   "metadata": {}
  },
  {
   "cell_type": "code",
   "execution_count": 14,
   "source": [
    "suffix = s[s.index(char):]\r\n",
    "\r\n",
    "suffix"
   ],
   "outputs": [
    {
     "output_type": "execute_result",
     "data": {
      "text/plain": [
       "'abc'"
      ]
     },
     "metadata": {},
     "execution_count": 14
    }
   ],
   "metadata": {}
  },
  {
   "cell_type": "code",
   "execution_count": 15,
   "source": [
    "suffix.replace(char, \"\")"
   ],
   "outputs": [
    {
     "output_type": "execute_result",
     "data": {
      "text/plain": [
       "'bc'"
      ]
     },
     "metadata": {},
     "execution_count": 15
    }
   ],
   "metadata": {}
  },
  {
   "cell_type": "code",
   "execution_count": 23,
   "source": [
    "def removeDuplicateLetters(s: str) -> str:\r\n",
    "    for char in sorted(set(s)):\r\n",
    "\r\n",
    "        suffix = s[s.index(char):]\r\n",
    "\r\n",
    "        print(suffix)\r\n",
    "\r\n",
    "        if set(s) == set(suffix):\r\n",
    "            return char + removeDuplicateLetters(suffix.replace(char, \"\"))\r\n",
    "\r\n",
    "    return \"\""
   ],
   "outputs": [],
   "metadata": {}
  },
  {
   "cell_type": "code",
   "execution_count": 27,
   "source": [
    "import collections\r\n",
    "\r\n",
    "collections.Counter(input_1)"
   ],
   "outputs": [
    {
     "output_type": "execute_result",
     "data": {
      "text/plain": [
       "Counter({'b': 2, 'c': 2, 'a': 1})"
      ]
     },
     "metadata": {},
     "execution_count": 27
    }
   ],
   "metadata": {}
  },
  {
   "cell_type": "code",
   "execution_count": 31,
   "source": [
    "import collections\r\n",
    "\r\n",
    "def removeDuplicateLetters(s: str) -> str:\r\n",
    "    counter, seen, stack = collections.Counter(s), set(), []\r\n",
    "\r\n",
    "    for char in s:\r\n",
    "        counter[char] -= 1\r\n",
    "        if char in seen:\r\n",
    "            continue\r\n",
    "\r\n",
    "        #print(\" \")\r\n",
    "        #print(\"counter\", counter)\r\n",
    "        #print(\"char\", char)\r\n",
    "        #print(\"seen\", seen)\r\n",
    "        #print(\" \")\r\n",
    "    \r\n",
    "        while stack and char < stack[-1] and counter[stack[-1]] > 0:\r\n",
    "            seen.remove(stack.pop())\r\n",
    "        stack.append(char)\r\n",
    "        seen.add(char)\r\n",
    "\r\n",
    "        #print(\"counter\", counter)\r\n",
    "        #print(\"char\", char)\r\n",
    "        #print(\"seen\", seen)\r\n",
    "        #print(\"stack\", stack)\r\n",
    "        #print(\" \")\r\n",
    "\r\n",
    "    return \"\".join(stack)"
   ],
   "outputs": [],
   "metadata": {}
  },
  {
   "cell_type": "code",
   "execution_count": 32,
   "source": [
    "removeDuplicateLetters(input_1)"
   ],
   "outputs": [
    {
     "output_type": "execute_result",
     "data": {
      "text/plain": [
       "'abc'"
      ]
     },
     "metadata": {},
     "execution_count": 32
    }
   ],
   "metadata": {}
  },
  {
   "cell_type": "code",
   "execution_count": null,
   "source": [],
   "outputs": [],
   "metadata": {}
  }
 ]
}