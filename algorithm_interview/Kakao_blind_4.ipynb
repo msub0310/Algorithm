{
 "metadata": {
  "language_info": {
   "codemirror_mode": {
    "name": "ipython",
    "version": 3
   },
   "file_extension": ".py",
   "mimetype": "text/x-python",
   "name": "python",
   "nbconvert_exporter": "python",
   "pygments_lexer": "ipython3",
   "version": "3.8.5"
  },
  "orig_nbformat": 2,
  "kernelspec": {
   "name": "python3",
   "display_name": "Python 3.8.5 64-bit ('algorithm': conda)"
  },
  "interpreter": {
   "hash": "6d1a3e62e6baacc997e7fd515824b0551567c542b1e37c125c97fb608db7a38d"
  }
 },
 "nbformat": 4,
 "nbformat_minor": 2,
 "cells": [
  {
   "cell_type": "code",
   "execution_count": 1,
   "source": [
    "\"\"\"\r\n",
    "4.\r\n",
    "양궁 문제, 앞에서 n발을 쏜 뒤 이길 수 있는 방법을 반환\r\n",
    "info는 10-i 점에 맞힌 화살의 갯수\r\n",
    "이길 수 없으면 [-1] 리턴\r\n",
    "더 많이 맞힌 사람이 점수를 가져감, 맞힌 갯수가 같으면 상대 점수\r\n",
    "동점이면 상대 승리\r\n",
    "최대 점수차이를 내는 방법 찾기, 점수차이가 같으면 낮은 점수에 많이 맞힌 경우 찾기\r\n",
    "\"\"\""
   ],
   "outputs": [
    {
     "output_type": "execute_result",
     "data": {
      "text/plain": [
       "'\\n3.\\n[기본 시간, 기본 요금, 단위 시간, 단위 요금] (분, 원) 주어짐\\n입출차 기록 주어짐, 출차 기록 없으면 23:59 출차로 간주\\n누적 시간을 계산해서 기본요금 + 추가요금 부과\\n차량 번호가 작은 순서로 최종 요금 반환\\n'"
      ]
     },
     "metadata": {},
     "execution_count": 1
    }
   ],
   "metadata": {}
  },
  {
   "cell_type": "code",
   "execution_count": 2,
   "source": [
    "n = 5\r\n",
    "info = [2, 1, 1, 1, 0, 0, 0, 0, 0, 0, 0]\r\n",
    "#result = [0, 2, 2, 0, 1, 0, 0, 0, 0, 0, 0]"
   ],
   "outputs": [],
   "metadata": {}
  },
  {
   "cell_type": "code",
   "execution_count": 33,
   "source": [
    "score_table = [[10-i, arrow+1] for i, arrow in enumerate(info)]\r\n",
    "n = 5\r\n",
    "print(score_table)"
   ],
   "outputs": [
    {
     "output_type": "stream",
     "name": "stdout",
     "text": [
      "[[10, 3], [9, 2], [8, 2], [7, 2], [6, 1], [5, 1], [4, 1], [3, 1], [2, 1], [1, 1], [0, 1]]\n"
     ]
    }
   ],
   "metadata": {}
  },
  {
   "cell_type": "code",
   "execution_count": 29,
   "source": [
    "answer = [0] * 11\r\n",
    "answer"
   ],
   "outputs": [
    {
     "output_type": "execute_result",
     "data": {
      "text/plain": [
       "[0, 0, 0, 0, 0, 0, 0, 0, 0, 0, 0]"
      ]
     },
     "metadata": {},
     "execution_count": 29
    }
   ],
   "metadata": {}
  },
  {
   "cell_type": "code",
   "execution_count": 110,
   "source": [
    "score_apeach = 0\r\n",
    "for i, val in enumerate(info):\r\n",
    "    if val > 0:\r\n",
    "        score_apeach += 10-i\r\n",
    "score_apeach"
   ],
   "outputs": [
    {
     "output_type": "execute_result",
     "data": {
      "text/plain": [
       "34"
      ]
     },
     "metadata": {},
     "execution_count": 110
    }
   ],
   "metadata": {}
  },
  {
   "cell_type": "code",
   "execution_count": 107,
   "source": [
    "import collections\r\n",
    "dp = collections.defaultdict(list)\r\n",
    "scores = collections.defaultdict(int)\r\n",
    "def searching(remain, i, score_ramain):\r\n",
    "    if remain == 0 or i == 0:\r\n",
    "        return 0\r\n",
    "    if score_table[i-1][1] > remain:\r\n",
    "        return searching(remain, i-1)\r\n",
    "    else:\r\n",
    "        if score_table[i-1][0] + searching(remain - score_table[i-1][1], i-1) > searching(remain, i-1):\r\n",
    "            dp[score_table[i-1][0]] = score_table[i-1][0] + searching(remain - score_table[i-1][1], i-1)\r\n",
    "            if scores[score_table[i-1][0]] == 0:\r\n",
    "                scores[score_table[i-1][0]] = score_table[i-1][1]\r\n",
    "        else:\r\n",
    "            dp[score_table[i-1][0]] = searching(remain, i-1)\r\n",
    "\r\n",
    "        return dp[score_table[i-1][0]]"
   ],
   "outputs": [],
   "metadata": {}
  },
  {
   "cell_type": "code",
   "execution_count": 108,
   "source": [
    "searching(5, 11, score_apeach)"
   ],
   "outputs": [
    {
     "output_type": "execute_result",
     "data": {
      "text/plain": [
       "24"
      ]
     },
     "metadata": {},
     "execution_count": 108
    }
   ],
   "metadata": {}
  },
  {
   "cell_type": "code",
   "execution_count": 109,
   "source": [
    "scores"
   ],
   "outputs": [
    {
     "output_type": "execute_result",
     "data": {
      "text/plain": [
       "defaultdict(int, {6: 1, 9: 2, 5: 1, 10: 3, 8: 2, 4: 1})"
      ]
     },
     "metadata": {},
     "execution_count": 109
    }
   ],
   "metadata": {}
  },
  {
   "cell_type": "code",
   "execution_count": null,
   "source": [],
   "outputs": [],
   "metadata": {}
  }
 ]
}