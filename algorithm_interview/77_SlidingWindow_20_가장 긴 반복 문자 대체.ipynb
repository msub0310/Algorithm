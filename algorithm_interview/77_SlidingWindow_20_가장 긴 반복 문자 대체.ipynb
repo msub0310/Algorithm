{
 "metadata": {
  "language_info": {
   "codemirror_mode": {
    "name": "ipython",
    "version": 3
   },
   "file_extension": ".py",
   "mimetype": "text/x-python",
   "name": "python",
   "nbconvert_exporter": "python",
   "pygments_lexer": "ipython3",
   "version": "3.8.5"
  },
  "orig_nbformat": 2,
  "kernelspec": {
   "name": "python3",
   "display_name": "Python 3.8.5 64-bit ('algorithm': conda)"
  },
  "interpreter": {
   "hash": "6d1a3e62e6baacc997e7fd515824b0551567c542b1e37c125c97fb608db7a38d"
  }
 },
 "nbformat": 4,
 "nbformat_minor": 2,
 "cells": [
  {
   "cell_type": "code",
   "execution_count": 1,
   "source": [
    "s = \"AAABBC\"\r\n",
    "k = 2\r\n",
    "\r\n",
    "print(s, k)"
   ],
   "outputs": [
    {
     "output_type": "stream",
     "name": "stdout",
     "text": [
      "AAABBC 2\n"
     ]
    }
   ],
   "metadata": {}
  },
  {
   "cell_type": "code",
   "execution_count": 2,
   "source": [
    "import collections\r\n",
    "def characterReplacement(s: str, k: int):\r\n",
    "    left = right = 0\r\n",
    "    counts = collections.Counter()\r\n",
    "    for right in range(1, len(s) + 1):\r\n",
    "        counts[s[right-1]] += 1\r\n",
    "\r\n",
    "        max_char_n = counts.most_common(1)[0][1]\r\n",
    "\r\n",
    "        if right - left - max_char_n > k:\r\n",
    "            counts[s[left]] -= 1\r\n",
    "            left += 1\r\n",
    "    return right - left"
   ],
   "outputs": [],
   "metadata": {}
  },
  {
   "cell_type": "code",
   "execution_count": 3,
   "source": [
    "characterReplacement(s, k)"
   ],
   "outputs": [
    {
     "output_type": "execute_result",
     "data": {
      "text/plain": [
       "5"
      ]
     },
     "metadata": {},
     "execution_count": 3
    }
   ],
   "metadata": {}
  },
  {
   "cell_type": "code",
   "execution_count": null,
   "source": [],
   "outputs": [],
   "metadata": {}
  }
 ]
}