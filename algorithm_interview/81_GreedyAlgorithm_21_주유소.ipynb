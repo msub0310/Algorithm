{
 "metadata": {
  "language_info": {
   "codemirror_mode": {
    "name": "ipython",
    "version": 3
   },
   "file_extension": ".py",
   "mimetype": "text/x-python",
   "name": "python",
   "nbconvert_exporter": "python",
   "pygments_lexer": "ipython3",
   "version": "3.8.5"
  },
  "orig_nbformat": 2,
  "kernelspec": {
   "name": "python3",
   "display_name": "Python 3.8.5 64-bit ('algorithm': conda)"
  },
  "interpreter": {
   "hash": "6d1a3e62e6baacc997e7fd515824b0551567c542b1e37c125c97fb608db7a38d"
  }
 },
 "nbformat": 4,
 "nbformat_minor": 2,
 "cells": [
  {
   "cell_type": "code",
   "execution_count": 17,
   "source": [
    "gas = [1, 2, 3, 4, 5]\r\n",
    "cost = [3, 4, 5, 1, 2]\r\n",
    "\r\n",
    "print(gas)\r\n",
    "print(cost)"
   ],
   "outputs": [
    {
     "output_type": "stream",
     "name": "stdout",
     "text": [
      "[1, 2, 3, 4, 5]\n",
      "[3, 4, 5, 1, 2]\n"
     ]
    }
   ],
   "metadata": {}
  },
  {
   "cell_type": "code",
   "execution_count": 16,
   "source": [
    "def canCompleteCircuit(gas: [int], cost: [int]) -> int:\r\n",
    "    for start in range(len(gas)):\r\n",
    "        fuel = 0\r\n",
    "        for i in range(start, len(gas) + start):\r\n",
    "            index = i % len(gas)\r\n",
    "\r\n",
    "            can_travel = True\r\n",
    "            if gas[index] + fuel < cost[index]:\r\n",
    "                can_travel = False\r\n",
    "                break\r\n",
    "            else:\r\n",
    "                fuel += gas[index] - cost[index]\r\n",
    "        if can_travel:\r\n",
    "            return start\r\n",
    "    return -1"
   ],
   "outputs": [],
   "metadata": {}
  },
  {
   "cell_type": "code",
   "execution_count": 18,
   "source": [
    "canCompleteCircuit(gas, cost)"
   ],
   "outputs": [
    {
     "output_type": "execute_result",
     "data": {
      "text/plain": [
       "3"
      ]
     },
     "metadata": {},
     "execution_count": 18
    }
   ],
   "metadata": {}
  },
  {
   "cell_type": "code",
   "execution_count": 19,
   "source": [
    "def canCompleteCircuitOptim(gas: [int], cost: [int]) -> int:\r\n",
    "    if sum(gas) < sum(cost):\r\n",
    "        return -1\r\n",
    "\r\n",
    "    start = fuel = 0\r\n",
    "    for i in range(len(gas)):\r\n",
    "        if gas[i] + fuel < cost[i]:\r\n",
    "            start = i + 1\r\n",
    "            fuel = 0\r\n",
    "        else:\r\n",
    "            fuel += gas[i] - cost[i]\r\n",
    "    return start"
   ],
   "outputs": [],
   "metadata": {}
  },
  {
   "cell_type": "code",
   "execution_count": 20,
   "source": [
    "canCompleteCircuitOptim(gas, cost)"
   ],
   "outputs": [
    {
     "output_type": "execute_result",
     "data": {
      "text/plain": [
       "3"
      ]
     },
     "metadata": {},
     "execution_count": 20
    }
   ],
   "metadata": {}
  },
  {
   "cell_type": "code",
   "execution_count": null,
   "source": [],
   "outputs": [],
   "metadata": {}
  }
 ]
}