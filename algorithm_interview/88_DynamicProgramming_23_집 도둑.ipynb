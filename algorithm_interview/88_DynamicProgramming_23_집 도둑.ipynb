{
 "metadata": {
  "language_info": {
   "codemirror_mode": {
    "name": "ipython",
    "version": 3
   },
   "file_extension": ".py",
   "mimetype": "text/x-python",
   "name": "python",
   "nbconvert_exporter": "python",
   "pygments_lexer": "ipython3",
   "version": "3.8.5"
  },
  "orig_nbformat": 2,
  "kernelspec": {
   "name": "python3",
   "display_name": "Python 3.8.5 64-bit ('algorithm': conda)"
  },
  "interpreter": {
   "hash": "6d1a3e62e6baacc997e7fd515824b0551567c542b1e37c125c97fb608db7a38d"
  }
 },
 "nbformat": 4,
 "nbformat_minor": 2,
 "cells": [
  {
   "cell_type": "code",
   "execution_count": 1,
   "source": [
    "input_1 = [1, 2, 3, 1]\r\n",
    "input_2 = [2, 7, 9, 3, 1]\r\n",
    "\r\n",
    "print(input_1)\r\n",
    "print(input_2)"
   ],
   "outputs": [
    {
     "output_type": "stream",
     "name": "stdout",
     "text": [
      "[1, 2, 3, 1]\n",
      "[2, 7, 9, 3, 1]\n"
     ]
    }
   ],
   "metadata": {}
  },
  {
   "cell_type": "code",
   "execution_count": 2,
   "source": [
    "def rob(nums: [int]) -> int:\r\n",
    "    def _rob(i: int) -> int:\r\n",
    "        if i < 0:\r\n",
    "            return 0\r\n",
    "        return max(_rob(i - 1), _rob(i - 2) + nums[i])\r\n",
    "    return _rob(len(nums) - 1)"
   ],
   "outputs": [],
   "metadata": {}
  },
  {
   "cell_type": "code",
   "execution_count": 3,
   "source": [
    "print(rob(input_1))\r\n",
    "print(rob(input_2))"
   ],
   "outputs": [
    {
     "output_type": "stream",
     "name": "stdout",
     "text": [
      "4\n",
      "12\n"
     ]
    }
   ],
   "metadata": {}
  },
  {
   "cell_type": "code",
   "execution_count": 4,
   "source": [
    "import collections\r\n",
    "def robT(nums: [int]) -> int:\r\n",
    "    if not nums:\r\n",
    "        return 0\r\n",
    "    if len(nums) <= 2:\r\n",
    "        return max(nums)\r\n",
    "    \r\n",
    "    dp = collections.OrderedDict()\r\n",
    "    dp[0], dp[1] = nums[0], max(nums[0], nums[1])\r\n",
    "\r\n",
    "    for i in range(2, len(nums)):\r\n",
    "        dp[i] = max(dp[i - 1], dp[i - 2] + nums[i])\r\n",
    "    \r\n",
    "    return dp.popitem()[1]"
   ],
   "outputs": [],
   "metadata": {}
  },
  {
   "cell_type": "code",
   "execution_count": 6,
   "source": [
    "print(robT(input_1))\r\n",
    "print(robT(input_2))"
   ],
   "outputs": [
    {
     "output_type": "stream",
     "name": "stdout",
     "text": [
      "4\n",
      "12\n"
     ]
    }
   ],
   "metadata": {}
  },
  {
   "cell_type": "code",
   "execution_count": null,
   "source": [],
   "outputs": [],
   "metadata": {}
  }
 ]
}