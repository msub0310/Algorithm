{
 "metadata": {
  "language_info": {
   "codemirror_mode": {
    "name": "ipython",
    "version": 3
   },
   "file_extension": ".py",
   "mimetype": "text/x-python",
   "name": "python",
   "nbconvert_exporter": "python",
   "pygments_lexer": "ipython3",
   "version": "3.8.5"
  },
  "orig_nbformat": 2,
  "kernelspec": {
   "name": "python3",
   "display_name": "Python 3.8.5 64-bit ('algorithm': conda)"
  },
  "interpreter": {
   "hash": "6d1a3e62e6baacc997e7fd515824b0551567c542b1e37c125c97fb608db7a38d"
  }
 },
 "nbformat": 4,
 "nbformat_minor": 2,
 "cells": [
  {
   "cell_type": "code",
   "execution_count": 1,
   "source": [
    "class TrieNode:\r\n",
    "    def __init__(self):\r\n",
    "        self.word = False\r\n",
    "        self.children = {}"
   ],
   "outputs": [],
   "metadata": {}
  },
  {
   "cell_type": "code",
   "execution_count": 2,
   "source": [
    "class Trie:\r\n",
    "    def __init__(self):\r\n",
    "        self.root = TrieNode()\r\n",
    "\r\n",
    "    def insert(self, word: str) -> None:\r\n",
    "        node = self.root\r\n",
    "        for char in word:\r\n",
    "            if char not in node.children:\r\n",
    "                node.children[char] = TrieNode\r\n",
    "            node = node.children[char]\r\n",
    "        node.word = True\r\n",
    "\r\n",
    "    def search(self, word: str) -> bool:\r\n",
    "        node = self.root\r\n",
    "        for char in word:\r\n",
    "            if char not in node.children:\r\n",
    "                return False\r\n",
    "            node = node.children[char]\r\n",
    "        \r\n",
    "        return node.word\r\n",
    "\r\n",
    "    def startWith(self, prefix: str) -> bool:\r\n",
    "        node = self.node\r\n",
    "        for char in prefix:\r\n",
    "            if char not in node.children[char]:\r\n",
    "                return False\r\n",
    "            node = node.children[char]\r\n",
    "        \r\n",
    "        return True"
   ],
   "outputs": [],
   "metadata": {}
  },
  {
   "cell_type": "code",
   "execution_count": null,
   "source": [],
   "outputs": [],
   "metadata": {}
  }
 ]
}