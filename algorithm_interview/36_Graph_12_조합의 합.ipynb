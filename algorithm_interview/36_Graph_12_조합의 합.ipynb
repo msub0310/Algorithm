{
 "metadata": {
  "language_info": {
   "codemirror_mode": {
    "name": "ipython",
    "version": 3
   },
   "file_extension": ".py",
   "mimetype": "text/x-python",
   "name": "python",
   "nbconvert_exporter": "python",
   "pygments_lexer": "ipython3",
   "version": "3.8.5"
  },
  "orig_nbformat": 2,
  "kernelspec": {
   "name": "python3",
   "display_name": "Python 3.8.5 64-bit ('algorithm': conda)"
  },
  "interpreter": {
   "hash": "6d1a3e62e6baacc997e7fd515824b0551567c542b1e37c125c97fb608db7a38d"
  }
 },
 "nbformat": 4,
 "nbformat_minor": 2,
 "cells": [
  {
   "cell_type": "code",
   "execution_count": 1,
   "source": [
    "candidates_1 = [2, 3, 6, 7]\r\n",
    "target_1 = 7\r\n",
    "\r\n",
    "candidates_2 = [2, 3, 5]\r\n",
    "target_2 = 8"
   ],
   "outputs": [],
   "metadata": {}
  },
  {
   "cell_type": "code",
   "execution_count": 2,
   "source": [
    "def combinationSum(candidates: [int], target: int) -> [[int]]:\r\n",
    "    result = []\r\n",
    "\r\n",
    "    def dfs(csum, index, path):\r\n",
    "        if csum < 0:\r\n",
    "            return\r\n",
    "        if csum == 0:\r\n",
    "            result.append(path)\r\n",
    "            return\r\n",
    "\r\n",
    "        for i in range(index, len(candidates)):\r\n",
    "            dfs(csum - candidates[i], i, path + [candidates[i]])\r\n",
    "\r\n",
    "    dfs(target, 0, [])\r\n",
    "    return result"
   ],
   "outputs": [],
   "metadata": {}
  },
  {
   "cell_type": "code",
   "execution_count": 3,
   "source": [
    "combinationSum(candidates_1, target_1)"
   ],
   "outputs": [
    {
     "output_type": "execute_result",
     "data": {
      "text/plain": [
       "[[2, 2, 3], [7]]"
      ]
     },
     "metadata": {},
     "execution_count": 3
    }
   ],
   "metadata": {}
  },
  {
   "cell_type": "code",
   "execution_count": 4,
   "source": [
    "combinationSum(candidates_2, target_2)"
   ],
   "outputs": [
    {
     "output_type": "execute_result",
     "data": {
      "text/plain": [
       "[[2, 2, 2, 2], [2, 3, 3], [3, 5]]"
      ]
     },
     "metadata": {},
     "execution_count": 4
    }
   ],
   "metadata": {}
  },
  {
   "cell_type": "code",
   "execution_count": null,
   "source": [],
   "outputs": [],
   "metadata": {}
  }
 ]
}