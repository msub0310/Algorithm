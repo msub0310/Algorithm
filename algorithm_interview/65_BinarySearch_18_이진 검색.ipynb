{
 "metadata": {
  "language_info": {
   "codemirror_mode": {
    "name": "ipython",
    "version": 3
   },
   "file_extension": ".py",
   "mimetype": "text/x-python",
   "name": "python",
   "nbconvert_exporter": "python",
   "pygments_lexer": "ipython3",
   "version": "3.8.5"
  },
  "orig_nbformat": 2,
  "kernelspec": {
   "name": "python3",
   "display_name": "Python 3.8.5 64-bit ('algorithm': conda)"
  },
  "interpreter": {
   "hash": "6d1a3e62e6baacc997e7fd515824b0551567c542b1e37c125c97fb608db7a38d"
  }
 },
 "nbformat": 4,
 "nbformat_minor": 2,
 "cells": [
  {
   "cell_type": "code",
   "execution_count": 1,
   "source": [
    "nums = [-1, 0, 3, 5, 9, 12]\r\n",
    "target = 9"
   ],
   "outputs": [],
   "metadata": {}
  },
  {
   "cell_type": "code",
   "execution_count": 2,
   "source": [
    "def search(nums: [int], target: int) -> int:\r\n",
    "    def binary_search(left, right):\r\n",
    "        if left <= right:\r\n",
    "            mid = (right - left) // 2 + left\r\n",
    "\r\n",
    "            if nums[mid] < target:\r\n",
    "                return binary_search(mid + 1, right)\r\n",
    "            elif nums[mid] > target:\r\n",
    "                return binary_search(left, mid - 1)\r\n",
    "            else:\r\n",
    "                return mid\r\n",
    "        else:\r\n",
    "            return -1\r\n",
    "    return binary_search(0, len(nums) - 1)"
   ],
   "outputs": [],
   "metadata": {}
  },
  {
   "cell_type": "code",
   "execution_count": 3,
   "source": [
    "search(nums, target)"
   ],
   "outputs": [
    {
     "output_type": "execute_result",
     "data": {
      "text/plain": [
       "4"
      ]
     },
     "metadata": {},
     "execution_count": 3
    }
   ],
   "metadata": {}
  },
  {
   "cell_type": "code",
   "execution_count": 11,
   "source": [
    "def searchIter(nums: [int], target: int) -> int:\r\n",
    "    left, right = 0, len(nums) - 1\r\n",
    "\r\n",
    "    while left <= right:\r\n",
    "        mid = (right - left) // 2 + left\r\n",
    "\r\n",
    "        if nums[mid] < target:\r\n",
    "            left = mid + 1\r\n",
    "        elif nums[mid] > target:\r\n",
    "            right = mid - 1\r\n",
    "        else:\r\n",
    "            return mid\r\n",
    "    return -1"
   ],
   "outputs": [],
   "metadata": {}
  },
  {
   "cell_type": "code",
   "execution_count": 12,
   "source": [
    "searchIter(nums, target)"
   ],
   "outputs": [
    {
     "output_type": "execute_result",
     "data": {
      "text/plain": [
       "4"
      ]
     },
     "metadata": {},
     "execution_count": 12
    }
   ],
   "metadata": {}
  },
  {
   "cell_type": "code",
   "execution_count": 15,
   "source": [
    "import bisect\r\n",
    "def searchModule(nums: [int], target: int) -> int:\r\n",
    "    index = bisect.bisect_left(nums, target)\r\n",
    "\r\n",
    "    if index < len(nums) and nums[index] == target:\r\n",
    "        return index\r\n",
    "    else:\r\n",
    "        return -1"
   ],
   "outputs": [],
   "metadata": {}
  },
  {
   "cell_type": "code",
   "execution_count": 16,
   "source": [
    "searchModule(nums, target)"
   ],
   "outputs": [
    {
     "output_type": "execute_result",
     "data": {
      "text/plain": [
       "4"
      ]
     },
     "metadata": {},
     "execution_count": 16
    }
   ],
   "metadata": {}
  },
  {
   "cell_type": "code",
   "execution_count": 17,
   "source": [
    "def searchIndexing(nums, target):\r\n",
    "    try:\r\n",
    "        return nums.index(target)\r\n",
    "    except:\r\n",
    "        return -1"
   ],
   "outputs": [],
   "metadata": {}
  },
  {
   "cell_type": "code",
   "execution_count": 18,
   "source": [
    "searchIndexing(nums, target)"
   ],
   "outputs": [
    {
     "output_type": "execute_result",
     "data": {
      "text/plain": [
       "4"
      ]
     },
     "metadata": {},
     "execution_count": 18
    }
   ],
   "metadata": {}
  },
  {
   "cell_type": "code",
   "execution_count": null,
   "source": [],
   "outputs": [],
   "metadata": {}
  }
 ]
}