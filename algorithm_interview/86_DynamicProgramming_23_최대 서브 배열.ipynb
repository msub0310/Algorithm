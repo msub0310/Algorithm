{
 "metadata": {
  "language_info": {
   "codemirror_mode": {
    "name": "ipython",
    "version": 3
   },
   "file_extension": ".py",
   "mimetype": "text/x-python",
   "name": "python",
   "nbconvert_exporter": "python",
   "pygments_lexer": "ipython3",
   "version": "3.8.5"
  },
  "orig_nbformat": 2,
  "kernelspec": {
   "name": "python3",
   "display_name": "Python 3.8.5 64-bit ('algorithm': conda)"
  },
  "interpreter": {
   "hash": "6d1a3e62e6baacc997e7fd515824b0551567c542b1e37c125c97fb608db7a38d"
  }
 },
 "nbformat": 4,
 "nbformat_minor": 2,
 "cells": [
  {
   "cell_type": "code",
   "execution_count": 1,
   "source": [
    "input_1 = [-2, 1, -3, 4, -1, 2, 1, -5, 4]\r\n",
    "input_1"
   ],
   "outputs": [
    {
     "output_type": "execute_result",
     "data": {
      "text/plain": [
       "[-2, 1, -3, 4, -1, 2, 1, -5, 4]"
      ]
     },
     "metadata": {},
     "execution_count": 1
    }
   ],
   "metadata": {}
  },
  {
   "cell_type": "code",
   "execution_count": 2,
   "source": [
    "def maxSubArray(nums: [int]) -> int:\r\n",
    "    sums = [nums[0]]\r\n",
    "    for i in range(1, len(nums)):\r\n",
    "        if nums[i] > sums[i-1]:\r\n",
    "            sums.append(nums[i])\r\n",
    "        else:\r\n",
    "            sums.append(sums[i-1] + nums[i])\r\n",
    "    return max(sums)"
   ],
   "outputs": [],
   "metadata": {}
  },
  {
   "cell_type": "code",
   "execution_count": 3,
   "source": [
    "maxSubArray(input_1)"
   ],
   "outputs": [
    {
     "output_type": "execute_result",
     "data": {
      "text/plain": [
       "6"
      ]
     },
     "metadata": {},
     "execution_count": 3
    }
   ],
   "metadata": {}
  },
  {
   "cell_type": "code",
   "execution_count": 4,
   "source": [
    "def maxSubArrayClean(nums: [int]) -> int:\r\n",
    "    sums = [nums[0]]\r\n",
    "    for i in range(1, len(nums)):\r\n",
    "        sums.append(nums[i] + (sums[i - 1] if sums[i - 1] > 0 else 0))\r\n",
    "    return max(sums)"
   ],
   "outputs": [],
   "metadata": {}
  },
  {
   "cell_type": "code",
   "execution_count": 5,
   "source": [
    "maxSubArrayClean(input_1)"
   ],
   "outputs": [
    {
     "output_type": "execute_result",
     "data": {
      "text/plain": [
       "6"
      ]
     },
     "metadata": {},
     "execution_count": 5
    }
   ],
   "metadata": {}
  },
  {
   "cell_type": "code",
   "execution_count": 6,
   "source": [
    "def maxSubArrayVeryClean(nums: [int]) -> int:\r\n",
    "    for i in range(1, len(nums)):\r\n",
    "        nums[i] += nums[i - 1] if nums[i - 1] > 0 else 0\r\n",
    "    return max(nums)"
   ],
   "outputs": [],
   "metadata": {}
  },
  {
   "cell_type": "code",
   "execution_count": 7,
   "source": [
    "maxSubArrayVeryClean(input_1)"
   ],
   "outputs": [
    {
     "output_type": "execute_result",
     "data": {
      "text/plain": [
       "6"
      ]
     },
     "metadata": {},
     "execution_count": 7
    }
   ],
   "metadata": {}
  },
  {
   "cell_type": "code",
   "execution_count": 8,
   "source": [
    "import sys\r\n",
    "def maxSubArrayKadane(nums: [int]) -> int:\r\n",
    "    #best_sum = -sys.maxsize\r\n",
    "    best_sum = -float(\"inf\")\r\n",
    "    current_sum = 0\r\n",
    "    for num in nums:\r\n",
    "        current_sum = max(num, current_sum + num)\r\n",
    "        best_sum = max(best_sum, current_sum)\r\n",
    "    \r\n",
    "    return best_sum"
   ],
   "outputs": [],
   "metadata": {}
  },
  {
   "cell_type": "code",
   "execution_count": 9,
   "source": [
    "input_1 = [-2, 1, -3, 4, -1, 2, 1, -5, 4]\r\n",
    "maxSubArrayKadane(input_1)"
   ],
   "outputs": [
    {
     "output_type": "execute_result",
     "data": {
      "text/plain": [
       "6"
      ]
     },
     "metadata": {},
     "execution_count": 9
    }
   ],
   "metadata": {}
  },
  {
   "cell_type": "code",
   "execution_count": null,
   "source": [],
   "outputs": [],
   "metadata": {}
  }
 ]
}