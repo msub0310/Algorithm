{
 "metadata": {
  "language_info": {
   "codemirror_mode": {
    "name": "ipython",
    "version": 3
   },
   "file_extension": ".py",
   "mimetype": "text/x-python",
   "name": "python",
   "nbconvert_exporter": "python",
   "pygments_lexer": "ipython3",
   "version": "3.8.5"
  },
  "orig_nbformat": 2,
  "kernelspec": {
   "name": "python3",
   "display_name": "Python 3.8.5 64-bit ('algorithm': conda)"
  },
  "interpreter": {
   "hash": "6d1a3e62e6baacc997e7fd515824b0551567c542b1e37c125c97fb608db7a38d"
  }
 },
 "nbformat": 4,
 "nbformat_minor": 2,
 "cells": [
  {
   "cell_type": "code",
   "execution_count": 22,
   "source": [
    "input_1 = [[1, 1, 1, 1, 0],\r\n",
    "           [1, 1, 0, 1, 0],\r\n",
    "           [1, 1, 0, 0, 0],\r\n",
    "           [0, 0, 0, 0, 0]]\r\n",
    "\r\n",
    "input_2 = [[1, 1, 0, 0, 0],\r\n",
    "           [1, 1, 0, 0, 0],\r\n",
    "           [0, 0, 1, 0, 0],\r\n",
    "           [0, 0, 0, 1, 1]]"
   ],
   "outputs": [],
   "metadata": {}
  },
  {
   "cell_type": "code",
   "execution_count": 23,
   "source": [
    "def numIslands(grid: [[int]]) -> int:\r\n",
    "    def dfs(i, j):\r\n",
    "        if i < 0 or i >= len(grid) or \\\r\n",
    "            j < 0 or j >= len(grid[0]) or \\\r\n",
    "                grid[i][j] != 1:\r\n",
    "            return\r\n",
    "\r\n",
    "        grid[i][j] = 0\r\n",
    "\r\n",
    "        dfs(i + 1, j)\r\n",
    "        dfs(i - 1, j)\r\n",
    "        dfs(i, j + 1)\r\n",
    "        dfs(i, j - 1)\r\n",
    "\r\n",
    "    count = 0\r\n",
    "    for i in range(len(grid)):\r\n",
    "        for j in range(len(grid[0])):\r\n",
    "            if grid[i][j] == 1:\r\n",
    "                dfs(i, j)\r\n",
    "\r\n",
    "                count += 1\r\n",
    "\r\n",
    "    return count\r\n",
    "\r\n",
    "print(numIslands(input_1))\r\n",
    "print(numIslands(input_2))"
   ],
   "outputs": [
    {
     "output_type": "stream",
     "name": "stdout",
     "text": [
      "1\n",
      "3\n"
     ]
    }
   ],
   "metadata": {}
  },
  {
   "cell_type": "code",
   "execution_count": null,
   "source": [],
   "outputs": [],
   "metadata": {}
  }
 ]
}