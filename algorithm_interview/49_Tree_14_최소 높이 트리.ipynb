{
 "metadata": {
  "language_info": {
   "codemirror_mode": {
    "name": "ipython",
    "version": 3
   },
   "file_extension": ".py",
   "mimetype": "text/x-python",
   "name": "python",
   "nbconvert_exporter": "python",
   "pygments_lexer": "ipython3",
   "version": "3.8.5"
  },
  "orig_nbformat": 2,
  "kernelspec": {
   "name": "python3",
   "display_name": "Python 3.8.5 64-bit ('algorithm': conda)"
  },
  "interpreter": {
   "hash": "6d1a3e62e6baacc997e7fd515824b0551567c542b1e37c125c97fb608db7a38d"
  }
 },
 "nbformat": 4,
 "nbformat_minor": 2,
 "cells": [
  {
   "cell_type": "code",
   "execution_count": 1,
   "source": [
    "n_1, edges_1 = 4, [[1, 0], [1, 2], [1, 3]]\r\n",
    "n_2, edges_2 = 6, [[0, 3], [1, 3], [2, 3], [4, 3], [5, 4]]"
   ],
   "outputs": [],
   "metadata": {}
  },
  {
   "cell_type": "code",
   "execution_count": 2,
   "source": [
    "import collections\r\n",
    "\r\n",
    "def findMinHeightTrees(n: int, edges: [[int]]) -> [int]:\r\n",
    "    if n <= 1:\r\n",
    "        return [0]\r\n",
    "    \r\n",
    "    graph = collections.defaultdict(list)\r\n",
    "    for i, j in edges:\r\n",
    "        graph[i].append(j)\r\n",
    "        graph[j].append(i)\r\n",
    "\r\n",
    "    leaves = []\r\n",
    "    for i in range(n + 1):\r\n",
    "        if len(graph[i]) == 1:\r\n",
    "            leaves.append(i)\r\n",
    "\r\n",
    "    while n > 2:\r\n",
    "        n -= len(leaves)\r\n",
    "        new_leaves = []\r\n",
    "        for leaf in leaves:\r\n",
    "            neighbor = graph[leaf].pop()\r\n",
    "            graph[neighbor].remove(leaf)\r\n",
    "\r\n",
    "            if len(graph[neighbor]) == 1:\r\n",
    "                new_leaves.append(neighbor)\r\n",
    "        \r\n",
    "        leaves = new_leaves\r\n",
    "\r\n",
    "    return leaves"
   ],
   "outputs": [],
   "metadata": {}
  },
  {
   "cell_type": "code",
   "execution_count": 3,
   "source": [
    "print(findMinHeightTrees(n_1, edges_1))\r\n",
    "print(findMinHeightTrees(n_2, edges_2))"
   ],
   "outputs": [
    {
     "output_type": "stream",
     "name": "stdout",
     "text": [
      "[1]\n",
      "[3, 4]\n"
     ]
    }
   ],
   "metadata": {}
  },
  {
   "cell_type": "code",
   "execution_count": null,
   "source": [],
   "outputs": [],
   "metadata": {}
  }
 ]
}