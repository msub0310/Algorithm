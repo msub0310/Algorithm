{
 "metadata": {
  "language_info": {
   "codemirror_mode": {
    "name": "ipython",
    "version": 3
   },
   "file_extension": ".py",
   "mimetype": "text/x-python",
   "name": "python",
   "nbconvert_exporter": "python",
   "pygments_lexer": "ipython3",
   "version": "3.8.5"
  },
  "orig_nbformat": 2,
  "kernelspec": {
   "name": "python3",
   "display_name": "Python 3.8.5 64-bit ('algorithm': conda)"
  },
  "interpreter": {
   "hash": "6d1a3e62e6baacc997e7fd515824b0551567c542b1e37c125c97fb608db7a38d"
  }
 },
 "nbformat": 4,
 "nbformat_minor": 2,
 "cells": [
  {
   "cell_type": "markdown",
   "source": [
    "## 직사각형을 만드는데 필요한 3개의 점을 주면 나머지 점을 반환\r\n",
    "## 직사각형의 각 변은 x, y축에 평행\r\n",
    "## 각 점의 원소는 [x좌표, y좌표] 순으로 주어짐"
   ],
   "metadata": {}
  },
  {
   "cell_type": "code",
   "execution_count": 13,
   "source": [
    "input_1 = [[1, 4], [3, 4], [3, 10]]\r\n",
    "input_2 = [[1, 1], [2, 2], [1, 2]]"
   ],
   "outputs": [],
   "metadata": {}
  },
  {
   "cell_type": "code",
   "execution_count": 14,
   "source": [
    "def findPoint(nums: [[int]]) -> [int]:\r\n",
    "    x = y = 0\r\n",
    "    for i in nums:\r\n",
    "        x ^= i[0]\r\n",
    "        y ^= i[1]\r\n",
    "    \r\n",
    "    return [x, y]"
   ],
   "outputs": [],
   "metadata": {}
  },
  {
   "cell_type": "code",
   "execution_count": 15,
   "source": [
    "print(findPoint(input_1))\r\n",
    "print(findPoint(input_2))"
   ],
   "outputs": [
    {
     "output_type": "stream",
     "name": "stdout",
     "text": [
      "[1, 10]\n",
      "[2, 1]\n"
     ]
    }
   ],
   "metadata": {}
  },
  {
   "cell_type": "code",
   "execution_count": null,
   "source": [],
   "outputs": [],
   "metadata": {}
  }
 ]
}