{
 "metadata": {
  "language_info": {
   "codemirror_mode": {
    "name": "ipython",
    "version": 3
   },
   "file_extension": ".py",
   "mimetype": "text/x-python",
   "name": "python",
   "nbconvert_exporter": "python",
   "pygments_lexer": "ipython3",
   "version": "3.8.5"
  },
  "orig_nbformat": 2,
  "kernelspec": {
   "name": "python3",
   "display_name": "Python 3.8.5 64-bit ('algorithm': conda)"
  },
  "interpreter": {
   "hash": "6d1a3e62e6baacc997e7fd515824b0551567c542b1e37c125c97fb608db7a38d"
  }
 },
 "nbformat": 4,
 "nbformat_minor": 2,
 "cells": [
  {
   "cell_type": "code",
   "execution_count": 34,
   "source": [
    "graph = {\r\n",
    "    1: [2, 3, 4],\r\n",
    "    2: [5],\r\n",
    "    3: [5],\r\n",
    "    4: [],\r\n",
    "    5: [6, 7],\r\n",
    "    6: [],\r\n",
    "    7: [3],\r\n",
    "}"
   ],
   "outputs": [],
   "metadata": {}
  },
  {
   "cell_type": "code",
   "execution_count": 40,
   "source": [
    "def recursive_dfs(v, discovered=[]):\r\n",
    "    discovered.append(v)\r\n",
    "    for w in graph[v]:\r\n",
    "        if not w in discovered:\r\n",
    "            discovered = recursive_dfs(w, discovered)\r\n",
    "    return discovered\r\n",
    "\r\n",
    "recursive_dfs(1)"
   ],
   "outputs": [
    {
     "output_type": "execute_result",
     "data": {
      "text/plain": [
       "[1, 2, 5, 6, 7, 3, 4]"
      ]
     },
     "metadata": {},
     "execution_count": 40
    }
   ],
   "metadata": {}
  },
  {
   "cell_type": "code",
   "execution_count": 39,
   "source": [
    "def iterative_dfs(start_v):\r\n",
    "    discovered = []\r\n",
    "    stack = [start_v]\r\n",
    "    while stack:\r\n",
    "        v = stack.pop()\r\n",
    "        if v not in discovered:\r\n",
    "            discovered.append(v)\r\n",
    "            for w in graph[v]:\r\n",
    "                stack.append(w)\r\n",
    "\r\n",
    "    return discovered\r\n",
    "\r\n",
    "iterative_dfs(1)"
   ],
   "outputs": [
    {
     "output_type": "execute_result",
     "data": {
      "text/plain": [
       "[1, 4, 3, 5, 7, 6, 2]"
      ]
     },
     "metadata": {},
     "execution_count": 39
    }
   ],
   "metadata": {}
  },
  {
   "cell_type": "code",
   "execution_count": 41,
   "source": [
    "def iterative_bfs(start_v):\r\n",
    "    discovered = [start_v]\r\n",
    "    queue = [start_v]\r\n",
    "    while queue:\r\n",
    "        v = queue.pop(0)\r\n",
    "        for w in graph[v]:\r\n",
    "            if w not in discovered:\r\n",
    "                discovered.append(w)\r\n",
    "                queue.append(w)\r\n",
    "    return discovered\r\n",
    "\r\n",
    "iterative_bfs(1)"
   ],
   "outputs": [
    {
     "output_type": "execute_result",
     "data": {
      "text/plain": [
       "[1, 2, 3, 4, 5, 6, 7]"
      ]
     },
     "metadata": {},
     "execution_count": 41
    }
   ],
   "metadata": {}
  },
  {
   "cell_type": "code",
   "execution_count": null,
   "source": [],
   "outputs": [],
   "metadata": {}
  }
 ]
}