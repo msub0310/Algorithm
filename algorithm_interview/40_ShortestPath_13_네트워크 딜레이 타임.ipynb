{
 "metadata": {
  "language_info": {
   "codemirror_mode": {
    "name": "ipython",
    "version": 3
   },
   "file_extension": ".py",
   "mimetype": "text/x-python",
   "name": "python",
   "nbconvert_exporter": "python",
   "pygments_lexer": "ipython3",
   "version": "3.8.5"
  },
  "orig_nbformat": 2,
  "kernelspec": {
   "name": "python3",
   "display_name": "Python 3.8.5 64-bit ('algorithm': conda)"
  },
  "interpreter": {
   "hash": "6d1a3e62e6baacc997e7fd515824b0551567c542b1e37c125c97fb608db7a38d"
  }
 },
 "nbformat": 4,
 "nbformat_minor": 2,
 "cells": [
  {
   "cell_type": "code",
   "execution_count": 1,
   "source": [
    "times = [[2, 1, 1], [2, 3, 1], [3, 4, 1]]\r\n",
    "N, K = 4, 2"
   ],
   "outputs": [],
   "metadata": {}
  },
  {
   "cell_type": "code",
   "execution_count": 2,
   "source": [
    "import collections\r\n",
    "\r\n",
    "graph = collections.defaultdict(list)\r\n",
    "for u, v, w in times:\r\n",
    "    graph[u].append((v, w))\r\n",
    "\r\n",
    "graph"
   ],
   "outputs": [
    {
     "output_type": "execute_result",
     "data": {
      "text/plain": [
       "defaultdict(list, {2: [(1, 1), (3, 1)], 3: [(4, 1)]})"
      ]
     },
     "metadata": {},
     "execution_count": 2
    }
   ],
   "metadata": {}
  },
  {
   "cell_type": "code",
   "execution_count": 12,
   "source": [
    "import collections\r\n",
    "import heapq\r\n",
    "\r\n",
    "def networkDelayTime(times: [[int]], N: int, K: int) -> int:\r\n",
    "    graph = collections.defaultdict(list)\r\n",
    "    for u, v, w in times:\r\n",
    "        graph[u].append((v, w))\r\n",
    "    \r\n",
    "    Q = [(0, K)]\r\n",
    "    dist = collections.defaultdict(list)\r\n",
    "\r\n",
    "    while Q:\r\n",
    "        time, node = heapq.heappop(Q)\r\n",
    "        if node not in dist:\r\n",
    "            dist[node] = time\r\n",
    "            for v, w, in graph[node]:\r\n",
    "                alt = time + w\r\n",
    "                heapq.heappush(Q, (alt, v))\r\n",
    "\r\n",
    "    if len(dist) == N:\r\n",
    "        return max(dist.values())\r\n",
    "    return -1"
   ],
   "outputs": [],
   "metadata": {}
  },
  {
   "cell_type": "code",
   "execution_count": 13,
   "source": [
    "networkDelayTime(times, N, K)"
   ],
   "outputs": [
    {
     "output_type": "execute_result",
     "data": {
      "text/plain": [
       "2"
      ]
     },
     "metadata": {},
     "execution_count": 13
    }
   ],
   "metadata": {}
  },
  {
   "cell_type": "code",
   "execution_count": null,
   "source": [],
   "outputs": [],
   "metadata": {}
  }
 ]
}