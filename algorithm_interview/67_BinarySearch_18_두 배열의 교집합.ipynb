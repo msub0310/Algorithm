{
 "metadata": {
  "language_info": {
   "codemirror_mode": {
    "name": "ipython",
    "version": 3
   },
   "file_extension": ".py",
   "mimetype": "text/x-python",
   "name": "python",
   "nbconvert_exporter": "python",
   "pygments_lexer": "ipython3",
   "version": "3.8.5"
  },
  "orig_nbformat": 2,
  "kernelspec": {
   "name": "python3",
   "display_name": "Python 3.8.5 64-bit ('algorithm': conda)"
  },
  "interpreter": {
   "hash": "6d1a3e62e6baacc997e7fd515824b0551567c542b1e37c125c97fb608db7a38d"
  }
 },
 "nbformat": 4,
 "nbformat_minor": 2,
 "cells": [
  {
   "cell_type": "code",
   "execution_count": 1,
   "source": [
    "nums_11, nums_12 = [1, 2, 2, 1], [2, 2]\r\n",
    "nums_21, nums_22 = [4, 9, 5], [9, 4, 9, 8, 4]\r\n",
    "\r\n",
    "print(nums_11, nums_12)\r\n",
    "print(nums_21, nums_22)"
   ],
   "outputs": [
    {
     "output_type": "stream",
     "name": "stdout",
     "text": [
      "[1, 2, 2, 1] [2, 2]\n",
      "[4, 9, 5] [9, 4, 9, 8, 4]\n"
     ]
    }
   ],
   "metadata": {}
  },
  {
   "cell_type": "code",
   "execution_count": 2,
   "source": [
    "# 내 풀이, Brute Force\r\n",
    "def intersection(nums1: [int], nums2: [int]) -> [int]:\r\n",
    "    output = []\r\n",
    "    def search(source, target):\r\n",
    "        for i in source:\r\n",
    "            if i in target and i not in output:\r\n",
    "                output.append(i)\r\n",
    "\r\n",
    "    nums1, nums2 = set(nums1), set(nums2)\r\n",
    "    if len(nums1) <= len(nums2):\r\n",
    "        search(nums1, nums2)\r\n",
    "    else:\r\n",
    "        search(nums2, nums1)\r\n",
    "\r\n",
    "    return output"
   ],
   "outputs": [],
   "metadata": {}
  },
  {
   "cell_type": "code",
   "execution_count": 3,
   "source": [
    "print(intersection(nums_11, nums_12))\r\n",
    "print(intersection(nums_21, nums_22))"
   ],
   "outputs": [
    {
     "output_type": "stream",
     "name": "stdout",
     "text": [
      "[2]\n",
      "[9, 4]\n"
     ]
    }
   ],
   "metadata": {}
  },
  {
   "cell_type": "code",
   "execution_count": 4,
   "source": [
    "import bisect\r\n",
    "def intersectionBinary(nums1: [int], nums2: [int]) -> [int]:\r\n",
    "    result: Set = set()\r\n",
    "    nums2.sort()\r\n",
    "    for n1 in nums1:\r\n",
    "        i2 = bisect.bisect_left(nums2, n1)\r\n",
    "        if len(nums2) > 0 and len(nums2) > i2 and n1 == nums2[i2]:\r\n",
    "            result.add(n1)\r\n",
    "    \r\n",
    "    return result"
   ],
   "outputs": [],
   "metadata": {}
  },
  {
   "cell_type": "code",
   "execution_count": 5,
   "source": [
    "print(intersectionBinary(nums_11, nums_12))\r\n",
    "print(intersectionBinary(nums_21, nums_22))"
   ],
   "outputs": [
    {
     "output_type": "stream",
     "name": "stdout",
     "text": [
      "{2}\n",
      "{9, 4}\n"
     ]
    }
   ],
   "metadata": {}
  },
  {
   "cell_type": "code",
   "execution_count": 6,
   "source": [
    "def intersectionTwoPoints(nums1: [int], nums2: [int]) -> [int]:\r\n",
    "    result: Set = set()\r\n",
    "\r\n",
    "    nums1.sort()\r\n",
    "    nums2.sort()\r\n",
    "    i = j = 0\r\n",
    "    while i < len(nums1) and j < len(nums2):\r\n",
    "        if nums1[i] > nums2[j]:\r\n",
    "            j += 1\r\n",
    "        elif nums1[i] < nums2[j]:\r\n",
    "            i += 1\r\n",
    "        else:\r\n",
    "            result.add(nums1[i])\r\n",
    "            i += 1\r\n",
    "            j += 1\r\n",
    "    \r\n",
    "    return result"
   ],
   "outputs": [],
   "metadata": {}
  },
  {
   "cell_type": "code",
   "execution_count": 7,
   "source": [
    "print(intersectionTwoPoints(nums_11, nums_12))\r\n",
    "print(intersectionTwoPoints(nums_21, nums_22))"
   ],
   "outputs": [
    {
     "output_type": "stream",
     "name": "stdout",
     "text": [
      "{2}\n",
      "{9, 4}\n"
     ]
    }
   ],
   "metadata": {}
  },
  {
   "cell_type": "code",
   "execution_count": null,
   "source": [],
   "outputs": [],
   "metadata": {}
  }
 ]
}