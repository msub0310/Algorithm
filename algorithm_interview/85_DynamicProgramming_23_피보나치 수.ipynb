{
 "metadata": {
  "language_info": {
   "codemirror_mode": {
    "name": "ipython",
    "version": 3
   },
   "file_extension": ".py",
   "mimetype": "text/x-python",
   "name": "python",
   "nbconvert_exporter": "python",
   "pygments_lexer": "ipython3",
   "version": "3.8.5"
  },
  "orig_nbformat": 2,
  "kernelspec": {
   "name": "python3",
   "display_name": "Python 3.8.5 64-bit ('algorithm': conda)"
  },
  "interpreter": {
   "hash": "6d1a3e62e6baacc997e7fd515824b0551567c542b1e37c125c97fb608db7a38d"
  }
 },
 "nbformat": 4,
 "nbformat_minor": 2,
 "cells": [
  {
   "cell_type": "code",
   "execution_count": 14,
   "source": [
    "# 내 풀이, Brute Formce\r\n",
    "def fib(n: int) -> int:\r\n",
    "    if n <= 1:\r\n",
    "        return n\r\n",
    "    return fib(n-1) + fib(n-2)"
   ],
   "outputs": [],
   "metadata": {}
  },
  {
   "cell_type": "code",
   "execution_count": 16,
   "source": [
    "result = []\r\n",
    "for i in range(11):\r\n",
    "    result.append(fib(i))\r\n",
    "result"
   ],
   "outputs": [
    {
     "output_type": "execute_result",
     "data": {
      "text/plain": [
       "[0, 1, 1, 2, 3, 5, 8, 13, 21, 34, 55]"
      ]
     },
     "metadata": {},
     "execution_count": 16
    }
   ],
   "metadata": {}
  },
  {
   "cell_type": "code",
   "execution_count": 29,
   "source": [
    "import collections\r\n",
    "class Solution:\r\n",
    "    fibNums = collections.defaultdict(int)\r\n",
    "\r\n",
    "    def fibMemoization(self, n: int) -> int:\r\n",
    "        if n <= 1:\r\n",
    "            return n\r\n",
    "        if not self.fibNums[n]:\r\n",
    "            self.fibNums[n] = self.fibMemoization(n - 1) + self.fibMemoization(n - 2)\r\n",
    "\r\n",
    "        return self.fibNums[n]"
   ],
   "outputs": [],
   "metadata": {}
  },
  {
   "cell_type": "code",
   "execution_count": 30,
   "source": [
    "resultMemoization = []\r\n",
    "for i in range(11):\r\n",
    "    resultMemoization.append(Solution().fibMemoization(i))\r\n",
    "resultMemoization"
   ],
   "outputs": [
    {
     "output_type": "execute_result",
     "data": {
      "text/plain": [
       "[0, 1, 1, 2, 3, 5, 8, 13, 21, 34, 55]"
      ]
     },
     "metadata": {},
     "execution_count": 30
    }
   ],
   "metadata": {}
  },
  {
   "cell_type": "code",
   "execution_count": 2,
   "source": [
    "import collections\r\n",
    "class Solution:\r\n",
    "    fibNums = collections.defaultdict(int)\r\n",
    "\r\n",
    "    def fibTabulation(self, n: int) -> int:\r\n",
    "        self.fibNums[1] = 1\r\n",
    "\r\n",
    "        for i in range(2, n + 1):\r\n",
    "            self.fibNums[i] = self.fibNums[i - 1] + self.fibNums[i - 2]\r\n",
    "        \r\n",
    "        return self.fibNums[n]"
   ],
   "outputs": [],
   "metadata": {}
  },
  {
   "cell_type": "code",
   "execution_count": 3,
   "source": [
    "resultTabulation = []\r\n",
    "for i in range(11):\r\n",
    "    resultTabulation.append(Solution().fibTabulation(i))\r\n",
    "resultTabulation"
   ],
   "outputs": [
    {
     "output_type": "execute_result",
     "data": {
      "text/plain": [
       "[0, 1, 1, 2, 3, 5, 8, 13, 21, 34, 55]"
      ]
     },
     "metadata": {},
     "execution_count": 3
    }
   ],
   "metadata": {}
  },
  {
   "cell_type": "code",
   "execution_count": 35,
   "source": [
    "def fibOptim(n: int) -> int:\r\n",
    "    x, y = 0, 1\r\n",
    "    for i in range(0, n):\r\n",
    "        x, y = y, x + y\r\n",
    "    return x"
   ],
   "outputs": [],
   "metadata": {}
  },
  {
   "cell_type": "code",
   "execution_count": 36,
   "source": [
    "resultOptim = []\r\n",
    "for i in range(11):\r\n",
    "    resultOptim.append(fibOptim(i))\r\n",
    "resultOptim"
   ],
   "outputs": [
    {
     "output_type": "execute_result",
     "data": {
      "text/plain": [
       "[0, 1, 1, 2, 3, 5, 8, 13, 21, 34, 55]"
      ]
     },
     "metadata": {},
     "execution_count": 36
    }
   ],
   "metadata": {}
  },
  {
   "cell_type": "code",
   "execution_count": 49,
   "source": [
    "import numpy as np\r\n",
    "def fibMatrix(n: int) -> int:\r\n",
    "    M = np.matrix([[0, 1], [1, 1]])\r\n",
    "    vec = np.array([[0], [1]])\r\n",
    "\r\n",
    "    return int(np.matmul(M ** n, vec)[0])"
   ],
   "outputs": [],
   "metadata": {}
  },
  {
   "cell_type": "code",
   "execution_count": 50,
   "source": [
    "resultMatrix = []\r\n",
    "for i in range(11):\r\n",
    "    resultMatrix.append(fibMatrix(i))\r\n",
    "resultMatrix"
   ],
   "outputs": [
    {
     "output_type": "execute_result",
     "data": {
      "text/plain": [
       "[0, 1, 1, 2, 3, 5, 8, 13, 21, 34, 55]"
      ]
     },
     "metadata": {},
     "execution_count": 50
    }
   ],
   "metadata": {}
  },
  {
   "cell_type": "code",
   "execution_count": null,
   "source": [],
   "outputs": [],
   "metadata": {}
  }
 ]
}