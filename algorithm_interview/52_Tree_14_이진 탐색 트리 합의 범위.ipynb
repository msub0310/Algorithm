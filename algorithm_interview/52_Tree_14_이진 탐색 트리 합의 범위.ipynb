{
 "metadata": {
  "language_info": {
   "codemirror_mode": {
    "name": "ipython",
    "version": 3
   },
   "file_extension": ".py",
   "mimetype": "text/x-python",
   "name": "python",
   "nbconvert_exporter": "python",
   "pygments_lexer": "ipython3",
   "version": "3.8.5"
  },
  "orig_nbformat": 2,
  "kernelspec": {
   "name": "python3",
   "display_name": "Python 3.8.5 64-bit ('algorithm': conda)"
  },
  "interpreter": {
   "hash": "6d1a3e62e6baacc997e7fd515824b0551567c542b1e37c125c97fb608db7a38d"
  }
 },
 "nbformat": 4,
 "nbformat_minor": 2,
 "cells": [
  {
   "cell_type": "code",
   "execution_count": 38,
   "source": [
    "root = [10, 5, 15, 3, 7, None, 18]\r\n",
    "L = 7\r\n",
    "R = 15"
   ],
   "outputs": [],
   "metadata": {}
  },
  {
   "cell_type": "code",
   "execution_count": 39,
   "source": [
    "class TreeNode:\r\n",
    "    def __init__(self, val=0, left=None, right=None):\r\n",
    "        self.val = val\r\n",
    "        self.left = left\r\n",
    "        self.right = right"
   ],
   "outputs": [],
   "metadata": {}
  },
  {
   "cell_type": "code",
   "execution_count": 40,
   "source": [
    "def createBTree(nums: list, index: int=0):\r\n",
    "    pNode = None\r\n",
    "    if index < len(nums):\r\n",
    "        if nums[index] is None:\r\n",
    "            return None\r\n",
    "        pNode = TreeNode(nums[index])\r\n",
    "        pNode.left = createBTree(nums, index * 2 + 1)\r\n",
    "        pNode.right = createBTree(nums, index * 2 + 2)\r\n",
    "\r\n",
    "    return pNode"
   ],
   "outputs": [],
   "metadata": {}
  },
  {
   "cell_type": "code",
   "execution_count": 52,
   "source": [
    "treeRoot = createBTree(root)\r\n",
    "treeRoot.val"
   ],
   "outputs": [
    {
     "output_type": "execute_result",
     "data": {
      "text/plain": [
       "10"
      ]
     },
     "metadata": {},
     "execution_count": 52
    }
   ],
   "metadata": {}
  },
  {
   "cell_type": "code",
   "execution_count": 63,
   "source": [
    "# 내 풀이\r\n",
    "class Solution:\r\n",
    "    sumNodes = 0\r\n",
    "\r\n",
    "    def sumRange(self, node: TreeNode, L: int, R: int) -> int:\r\n",
    "        if node:\r\n",
    "            self.sumRange(node.left, L, R)\r\n",
    "            self.sumRange(node.right, L, R)\r\n",
    "\r\n",
    "            if L <= node.val <= R:        \r\n",
    "\r\n",
    "                self.sumNodes += node.val\r\n",
    "\r\n",
    "        return self.sumNodes"
   ],
   "outputs": [],
   "metadata": {}
  },
  {
   "cell_type": "code",
   "execution_count": 64,
   "source": [
    "Solution().sumRange(treeRoot, L, R)"
   ],
   "outputs": [
    {
     "output_type": "execute_result",
     "data": {
      "text/plain": [
       "32"
      ]
     },
     "metadata": {},
     "execution_count": 64
    }
   ],
   "metadata": {}
  },
  {
   "cell_type": "code",
   "execution_count": 68,
   "source": [
    "def rangeSumBSTBrute(root: TreeNode, L: int, R: int) -> int:\r\n",
    "    if not root:\r\n",
    "        return 0\r\n",
    "    \r\n",
    "    return (root.val if L <= root.val <= R else 0) + rangeSumBSTBrute(root.left, L, R) + rangeSumBSTBrute(root.right, L, R)\r\n",
    "\r\n",
    "rangeSumBSTBrute(treeRoot, L, R)"
   ],
   "outputs": [
    {
     "output_type": "execute_result",
     "data": {
      "text/plain": [
       "32"
      ]
     },
     "metadata": {},
     "execution_count": 68
    }
   ],
   "metadata": {}
  },
  {
   "cell_type": "code",
   "execution_count": 73,
   "source": [
    "def rangeSumBSTPruning(root: TreeNode, L: int, R: int) -> int:\r\n",
    "    def dfs(node: TreeNode):\r\n",
    "        if not node:\r\n",
    "            return 0\r\n",
    "        \r\n",
    "        if node.val < L:\r\n",
    "            return dfs(node.right)\r\n",
    "        elif node.val > R:\r\n",
    "            return dfs(node.left)\r\n",
    "\r\n",
    "        return node.val + dfs(node.left) + dfs(node.right)\r\n",
    "\r\n",
    "    return dfs(root)\r\n",
    "\r\n",
    "rangeSumBSTPruning(treeRoot, L, R)"
   ],
   "outputs": [
    {
     "output_type": "execute_result",
     "data": {
      "text/plain": [
       "32"
      ]
     },
     "metadata": {},
     "execution_count": 73
    }
   ],
   "metadata": {}
  },
  {
   "cell_type": "code",
   "execution_count": 78,
   "source": [
    "import collections\r\n",
    "\r\n",
    "def rangeSumBSTIter(root: TreeNode, L: int, R: int) -> int:\r\n",
    "    stack, sum = collections.deque([root]), 0\r\n",
    "\r\n",
    "    while stack:\r\n",
    "        node = stack.pop()\r\n",
    "        if node:\r\n",
    "            if node.val > L:\r\n",
    "                stack.append(node.left)\r\n",
    "            if node.val < R:\r\n",
    "                stack.append(node.right)\r\n",
    "            if L <= node.val <= R:\r\n",
    "                sum += node.val\r\n",
    "    return sum\r\n",
    "\r\n",
    "rangeSumBSTIter(treeRoot, L, R)"
   ],
   "outputs": [
    {
     "output_type": "execute_result",
     "data": {
      "text/plain": [
       "32"
      ]
     },
     "metadata": {},
     "execution_count": 78
    }
   ],
   "metadata": {}
  },
  {
   "cell_type": "code",
   "execution_count": 83,
   "source": [
    "import collections\r\n",
    "\r\n",
    "def rangeSumBSTBFS(root: TreeNode, L: int, R: int) -> int:\r\n",
    "    queue, sum = collections.deque([root]), 0\r\n",
    "\r\n",
    "    while queue:\r\n",
    "        node = queue.popleft()\r\n",
    "        if node:\r\n",
    "            if node.val > L:\r\n",
    "                queue.append(node.left)\r\n",
    "            if node.val < R:\r\n",
    "                queue.append(node.right)\r\n",
    "            if L <= node.val <= R:\r\n",
    "                sum += node.val\r\n",
    "\r\n",
    "    return sum\r\n",
    "\r\n",
    "rangeSumBSTBFS(treeRoot, L, R)"
   ],
   "outputs": [
    {
     "output_type": "execute_result",
     "data": {
      "text/plain": [
       "32"
      ]
     },
     "metadata": {},
     "execution_count": 83
    }
   ],
   "metadata": {}
  },
  {
   "cell_type": "code",
   "execution_count": null,
   "source": [],
   "outputs": [],
   "metadata": {}
  }
 ]
}