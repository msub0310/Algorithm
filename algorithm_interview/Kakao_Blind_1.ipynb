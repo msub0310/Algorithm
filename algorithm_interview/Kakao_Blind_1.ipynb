{
 "metadata": {
  "language_info": {
   "codemirror_mode": {
    "name": "ipython",
    "version": 3
   },
   "file_extension": ".py",
   "mimetype": "text/x-python",
   "name": "python",
   "nbconvert_exporter": "python",
   "pygments_lexer": "ipython3",
   "version": "3.8.5"
  },
  "orig_nbformat": 2,
  "kernelspec": {
   "name": "python3",
   "display_name": "Python 3.8.5 64-bit ('algorithm': conda)"
  },
  "interpreter": {
   "hash": "6d1a3e62e6baacc997e7fd515824b0551567c542b1e37c125c97fb608db7a38d"
  }
 },
 "nbformat": 4,
 "nbformat_minor": 2,
 "cells": [
  {
   "cell_type": "code",
   "execution_count": null,
   "source": [
    "\"\"\"\r\n",
    "1.\r\n",
    "Id list, [\"신고한사람 신고받은사람\"], ban기준이 주어졌을 때 k번 이상 신고받은 사람을 정지\r\n",
    "정지된 정보를 신고한 사람에게 알려줌\r\n",
    "한 사람이 중복해서 같은 사람을 신고하면 1회로 취급\r\n",
    "\"\"\""
   ],
   "outputs": [],
   "metadata": {}
  },
  {
   "cell_type": "code",
   "execution_count": 61,
   "source": [
    "#id_list = [\"muzi\", \"frodo\", \"apeach\", \"neo\"]\r\n",
    "#report = [\"muzi frodo\", \"apeach frodo\", \"frodo neo\", \"muzi neo\", \"apeach muzi\"]\r\n",
    "#k = 2\r\n",
    "#output = [2, 1, 1, 1]"
   ],
   "outputs": [],
   "metadata": {}
  },
  {
   "cell_type": "code",
   "execution_count": 68,
   "source": [
    "id_list = [\"con\", \"ryan\"]\r\n",
    "report = [\"ryan con\", \"ryan con\", \"ryan con\", \"ryan con\"]\r\n",
    "k = 3\r\n",
    "#output = [0, 0]"
   ],
   "outputs": [],
   "metadata": {}
  },
  {
   "cell_type": "code",
   "execution_count": 69,
   "source": [
    "#통과\r\n",
    "import collections\r\n",
    "report_set = collections.defaultdict(set)\r\n",
    "banned = collections.defaultdict(int)\r\n",
    "\r\n",
    "for report_log in report:\r\n",
    "    reporting_id, reported_id = report_log.split(\" \")\r\n",
    "    if not reported_id in report_set[reporting_id]:\r\n",
    "        banned[reported_id] += 1\r\n",
    "    report_set[reporting_id].add(reported_id)\r\n",
    "\r\n",
    "result = []\r\n",
    "for id_ in id_list:\r\n",
    "    alarm = 0\r\n",
    "    for reported_id in report_set[id_]:\r\n",
    "        if banned[reported_id] >= k:\r\n",
    "            alarm += 1\r\n",
    "    result.append(alarm)\r\n",
    "\r\n",
    "result"
   ],
   "outputs": [
    {
     "output_type": "execute_result",
     "data": {
      "text/plain": [
       "[0, 0]"
      ]
     },
     "metadata": {},
     "execution_count": 69
    }
   ],
   "metadata": {}
  },
  {
   "cell_type": "code",
   "execution_count": 70,
   "source": [
    "report_set"
   ],
   "outputs": [
    {
     "output_type": "execute_result",
     "data": {
      "text/plain": [
       "defaultdict(set, {'ryan': {'con'}, 'con': set()})"
      ]
     },
     "metadata": {},
     "execution_count": 70
    }
   ],
   "metadata": {}
  },
  {
   "cell_type": "code",
   "execution_count": 71,
   "source": [
    "banned"
   ],
   "outputs": [
    {
     "output_type": "execute_result",
     "data": {
      "text/plain": [
       "defaultdict(int, {'con': 1})"
      ]
     },
     "metadata": {},
     "execution_count": 71
    }
   ],
   "metadata": {}
  },
  {
   "cell_type": "code",
   "execution_count": null,
   "source": [],
   "outputs": [],
   "metadata": {}
  }
 ]
}