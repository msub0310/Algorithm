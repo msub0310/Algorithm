{
 "metadata": {
  "language_info": {
   "codemirror_mode": {
    "name": "ipython",
    "version": 3
   },
   "file_extension": ".py",
   "mimetype": "text/x-python",
   "name": "python",
   "nbconvert_exporter": "python",
   "pygments_lexer": "ipython3",
   "version": "3.8.5"
  },
  "orig_nbformat": 2,
  "kernelspec": {
   "name": "python3",
   "display_name": "Python 3.8.5 64-bit ('algorithm': conda)"
  },
  "interpreter": {
   "hash": "6d1a3e62e6baacc997e7fd515824b0551567c542b1e37c125c97fb608db7a38d"
  }
 },
 "nbformat": 4,
 "nbformat_minor": 2,
 "cells": [
  {
   "cell_type": "code",
   "execution_count": 8,
   "source": [
    "input_1 = [[1, 3], [2, 6], [8, 10], [15, 18]]"
   ],
   "outputs": [],
   "metadata": {}
  },
  {
   "cell_type": "code",
   "execution_count": 9,
   "source": [
    "def merge(inputList: [[int]]) -> [[int]]:\r\n",
    "    output = []\r\n",
    "    i = 0\r\n",
    "    while i < len(inputList):\r\n",
    "        if i+1 == len(inputList):\r\n",
    "            output.append(inputList[i])\r\n",
    "            i += 1\r\n",
    "        elif inputList[i][-1] > inputList[i+1][0]:\r\n",
    "            output.append([inputList[i][0], inputList[i+1][-1]])\r\n",
    "            i += 2    \r\n",
    "        else:\r\n",
    "            output.append(inputList[i])\r\n",
    "            i += 1\r\n",
    "\r\n",
    "    return output"
   ],
   "outputs": [],
   "metadata": {}
  },
  {
   "cell_type": "code",
   "execution_count": 10,
   "source": [
    "merge(input_1)"
   ],
   "outputs": [
    {
     "output_type": "execute_result",
     "data": {
      "text/plain": [
       "[[1, 6], [8, 10], [15, 18]]"
      ]
     },
     "metadata": {},
     "execution_count": 10
    }
   ],
   "metadata": {}
  },
  {
   "cell_type": "code",
   "execution_count": 14,
   "source": [
    "def sortMerge(inputList: [[int]]) -> [[int]]:\r\n",
    "    merged = []\r\n",
    "    for i in sorted(inputList, key=lambda x: x[0]):\r\n",
    "        if merged and i[0] <= merged[-1][1]:\r\n",
    "            merged[-1][1] = max(merged[-1][1], i[1])\r\n",
    "        else:\r\n",
    "            merged += [i]\r\n",
    "    return merged"
   ],
   "outputs": [],
   "metadata": {}
  },
  {
   "cell_type": "code",
   "execution_count": 15,
   "source": [
    "sortMerge(input_1)"
   ],
   "outputs": [
    {
     "output_type": "execute_result",
     "data": {
      "text/plain": [
       "[[1, 6], [8, 10], [15, 18]]"
      ]
     },
     "metadata": {},
     "execution_count": 15
    }
   ],
   "metadata": {}
  },
  {
   "cell_type": "code",
   "execution_count": null,
   "source": [],
   "outputs": [],
   "metadata": {}
  }
 ]
}