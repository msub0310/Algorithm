{
 "metadata": {
  "language_info": {
   "codemirror_mode": {
    "name": "ipython",
    "version": 3
   },
   "file_extension": ".py",
   "mimetype": "text/x-python",
   "name": "python",
   "nbconvert_exporter": "python",
   "pygments_lexer": "ipython3",
   "version": "3.8.5"
  },
  "orig_nbformat": 2,
  "kernelspec": {
   "name": "python3",
   "display_name": "Python 3.8.5 64-bit ('algorithm': conda)"
  },
  "interpreter": {
   "hash": "6d1a3e62e6baacc997e7fd515824b0551567c542b1e37c125c97fb608db7a38d"
  }
 },
 "nbformat": 4,
 "nbformat_minor": 2,
 "cells": [
  {
   "cell_type": "code",
   "execution_count": 10,
   "source": [
    "\"\"\"\r\n",
    "3.\r\n",
    "[기본 시간, 기본 요금, 단위 시간, 단위 요금] (분, 원) 주어짐\r\n",
    "입출차 기록 주어짐, 출차 기록 없으면 23:59 출차로 간주\r\n",
    "누적 시간을 계산해서 기본요금 + 추가요금 부과\r\n",
    "차량 번호가 작은 순서로 최종 요금 반환\r\n",
    "\"\"\""
   ],
   "outputs": [
    {
     "output_type": "execute_result",
     "data": {
      "text/plain": [
       "'\\n1.\\nId list, [\"신고한사람 신고받은사람\"], ban기준이 주어졌을 때 k번 이상 신고받은 사람을 정지\\n정지된 정보를 신고한 사람에게 알려줌\\n한 사람이 중복해서 같은 사람을 신고하면 1회로 취급\\n'"
      ]
     },
     "metadata": {},
     "execution_count": 10
    }
   ],
   "metadata": {}
  },
  {
   "cell_type": "code",
   "execution_count": 32,
   "source": [
    "fees = [180, 5000, 10, 600]\r\n",
    "records = [\"05:34 5961 IN\", \"06:00 0000 IN\", \"06:34 0000 OUT\", \"07:59 5961 OUT\", \"07:59 0148 IN\",\r\n",
    "           \"18:59 0000 IN\", \"19:09 0148 OUT\", \"22:59 5961 IN\", \"23:00 5961 OUT\"]\r\n",
    "#result =  [14600, 34400, 5000]"
   ],
   "outputs": [],
   "metadata": {}
  },
  {
   "cell_type": "code",
   "execution_count": 33,
   "source": [
    "def hourToMin(time: str) -> int:\r\n",
    "    h, min = time.split(\":\")\r\n",
    "    return 60*int(h) + int(min)"
   ],
   "outputs": [],
   "metadata": {}
  },
  {
   "cell_type": "code",
   "execution_count": 37,
   "source": [
    "import collections\r\n",
    "in_out_log = collections.defaultdict(list)\r\n",
    "answer = []\r\n",
    "\r\n",
    "for record in records:\r\n",
    "    time, number = record.split()[:2]\r\n",
    "    in_out_log[number].append(hourToMin(time))\r\n",
    "\r\n",
    "for key in sorted(in_out_log.keys()):\r\n",
    "    if len(in_out_log[key]) %2 != 0:\r\n",
    "        in_out_log[key].append(hourToMin(\"23:59\"))\r\n",
    "\r\n",
    "    cum_time = 0\r\n",
    "    for i in range(0, len(in_out_log[key]), 2):\r\n",
    "        cum_time += in_out_log[key][i + 1] - in_out_log[key][i]\r\n",
    "\r\n",
    "    answer.append(fees[1] + math.ceil(max(cum_time - fees[0], 0) / fees[2]) * fees[3])\r\n",
    "\r\n",
    "answer"
   ],
   "outputs": [
    {
     "output_type": "execute_result",
     "data": {
      "text/plain": [
       "[14600, 34400, 5000]"
      ]
     },
     "metadata": {},
     "execution_count": 37
    }
   ],
   "metadata": {}
  },
  {
   "cell_type": "code",
   "execution_count": 38,
   "source": [
    "in_out_log"
   ],
   "outputs": [
    {
     "output_type": "execute_result",
     "data": {
      "text/plain": [
       "defaultdict(list,\n",
       "            {'5961': [334, 479, 1379, 1380],\n",
       "             '0000': [360, 394, 1139, 1439],\n",
       "             '0148': [479, 1149]})"
      ]
     },
     "metadata": {},
     "execution_count": 38
    }
   ],
   "metadata": {}
  },
  {
   "cell_type": "code",
   "execution_count": 36,
   "source": [
    "a = in_out_log[\"0000\"]\r\n",
    "cum_time = 0\r\n",
    "for i in range(0, len(a), 2):\r\n",
    "    cum_time += a[i+1] - a[i]\r\n",
    "cum_time"
   ],
   "outputs": [
    {
     "output_type": "execute_result",
     "data": {
      "text/plain": [
       "334"
      ]
     },
     "metadata": {},
     "execution_count": 36
    }
   ],
   "metadata": {}
  },
  {
   "cell_type": "code",
   "execution_count": 17,
   "source": [
    "import math\r\n",
    "fees[1] + math.ceil(max(cum_time - fees[0], 0) / fees[2]) * fees[3]"
   ],
   "outputs": [
    {
     "output_type": "execute_result",
     "data": {
      "text/plain": [
       "34400"
      ]
     },
     "metadata": {},
     "execution_count": 17
    }
   ],
   "metadata": {}
  },
  {
   "cell_type": "code",
   "execution_count": null,
   "source": [],
   "outputs": [],
   "metadata": {}
  }
 ]
}