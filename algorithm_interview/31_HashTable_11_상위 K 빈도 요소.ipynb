{
 "metadata": {
  "language_info": {
   "codemirror_mode": {
    "name": "ipython",
    "version": 3
   },
   "file_extension": ".py",
   "mimetype": "text/x-python",
   "name": "python",
   "nbconvert_exporter": "python",
   "pygments_lexer": "ipython3",
   "version": "3.8.5"
  },
  "orig_nbformat": 2,
  "kernelspec": {
   "name": "python3",
   "display_name": "Python 3.8.5 64-bit ('algorithm': conda)"
  },
  "interpreter": {
   "hash": "6d1a3e62e6baacc997e7fd515824b0551567c542b1e37c125c97fb608db7a38d"
  }
 },
 "nbformat": 4,
 "nbformat_minor": 2,
 "cells": [
  {
   "cell_type": "code",
   "execution_count": 1,
   "source": [
    "nums = [1, 1, 1, 2, 2, 3]\r\n",
    "k = 1"
   ],
   "outputs": [],
   "metadata": {}
  },
  {
   "cell_type": "code",
   "execution_count": 2,
   "source": [
    "#내 풀이\r\n",
    "count = {}\r\n",
    "output = []\r\n",
    "for i in nums:\r\n",
    "    if i not in count:\r\n",
    "        count[i] = 1\r\n",
    "    else:\r\n",
    "        count[i] += 1\r\n",
    "    \r\n",
    "    if count[i] >= k and i not in output:\r\n",
    "        output.append(i)\r\n",
    "output"
   ],
   "outputs": [
    {
     "output_type": "execute_result",
     "data": {
      "text/plain": [
       "[1, 2, 3]"
      ]
     },
     "metadata": {},
     "execution_count": 2
    }
   ],
   "metadata": {}
  },
  {
   "cell_type": "code",
   "execution_count": 3,
   "source": [
    "import collections\r\n",
    "import heapq\r\n",
    "\r\n",
    "freqs = collections.Counter(nums)\r\n",
    "freqs_heap = []\r\n",
    "\r\n",
    "for f in freqs:\r\n",
    "    heapq.heappush(freqs_heap, (-freqs[f], f))\r\n",
    "\r\n",
    "topk = list()\r\n",
    "\r\n",
    "for _ in range(k):\r\n",
    "    topk.append(heapq.heappop(freqs_heap)[1])\r\n",
    "\r\n",
    "topk"
   ],
   "outputs": [
    {
     "output_type": "execute_result",
     "data": {
      "text/plain": [
       "[1]"
      ]
     },
     "metadata": {},
     "execution_count": 3
    }
   ],
   "metadata": {}
  },
  {
   "cell_type": "code",
   "execution_count": null,
   "source": [],
   "outputs": [],
   "metadata": {}
  }
 ]
}