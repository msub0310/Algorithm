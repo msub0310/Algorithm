{
 "metadata": {
  "language_info": {
   "codemirror_mode": {
    "name": "ipython",
    "version": 3
   },
   "file_extension": ".py",
   "mimetype": "text/x-python",
   "name": "python",
   "nbconvert_exporter": "python",
   "pygments_lexer": "ipython3",
   "version": "3.8.5"
  },
  "orig_nbformat": 2,
  "kernelspec": {
   "name": "python3",
   "display_name": "Python 3.8.5 64-bit ('algorithm': conda)"
  },
  "interpreter": {
   "hash": "6d1a3e62e6baacc997e7fd515824b0551567c542b1e37c125c97fb608db7a38d"
  }
 },
 "nbformat": 4,
 "nbformat_minor": 2,
 "cells": [
  {
   "cell_type": "code",
   "execution_count": 1,
   "source": [
    "class BinaryHeap(object):\r\n",
    "    def __init__(self):\r\n",
    "        self.items = [None]\r\n",
    "\r\n",
    "    def __len__(self):\r\n",
    "        return len(self.items) - 1\r\n",
    "\r\n",
    "    def _percolate_up(self):\r\n",
    "        i = len(self)\r\n",
    "        parent = 1 // 2\r\n",
    "        while parent >= 0:\r\n",
    "            if self.items[i] < self.items[parent]:\r\n",
    "                self.items[parent], self.items[i] = self.items[i], self.items[parent]\r\n",
    "            i = parent\r\n",
    "            parent = i // 2\r\n",
    "\r\n",
    "    def insert(self, k):\r\n",
    "        self.items.append(k)\r\n",
    "        self._percolate_up()\r\n",
    "\r\n",
    "    def _percolate_down(self, idx):\r\n",
    "        left = idx * 2\r\n",
    "        right = idx * 2 + 1\r\n",
    "        smallest = idx\r\n",
    "\r\n",
    "        if left <= len(self) and self.items[left] < self.items[smallest]:\r\n",
    "            smallest = left\r\n",
    "\r\n",
    "        if right <= len(self) and self.items[right] < self.items[smallest]:\r\n",
    "            smallest = right\r\n",
    "        \r\n",
    "        if smallest != idx:\r\n",
    "            self.items[idx], self.items[smallest] = self.items[smallest], self.items[idx]\r\n",
    "            self.percolate_down(smallest)\r\n",
    "        \r\n",
    "    def extract(self):\r\n",
    "        extracted = self.items[1]\r\n",
    "        self.items[1] = self.items[len(self)]\r\n",
    "        self.items.pop()\r\n",
    "        self._percolate_down(1)\r\n",
    "        return extracted"
   ],
   "outputs": [],
   "metadata": {}
  },
  {
   "cell_type": "code",
   "execution_count": null,
   "source": [],
   "outputs": [],
   "metadata": {}
  }
 ]
}