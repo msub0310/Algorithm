{
 "cells": [
  {
   "cell_type": "code",
   "execution_count": 1,
   "metadata": {},
   "outputs": [],
   "source": [
    "text = \"babad\""
   ]
  },
  {
   "cell_type": "code",
   "execution_count": 57,
   "metadata": {},
   "outputs": [],
   "source": [
    "def longgestPallendrome(text: str) -> str:\n",
    "    longgest = 0\n",
    "    out_text = \"\"\n",
    "    for i in range(len(text)):\n",
    "        length = 1\n",
    "        window = 0\n",
    "        while True:\n",
    "            length += 2\n",
    "            window += 1\n",
    "            if not (i + window < len(text) and i - window >= 0 and text[i-window : i+window+1] == text[i-window : i+window+1][::-1]):\n",
    "                length -= 2\n",
    "                window -= 1\n",
    "                break\n",
    "        if length > longgest:\n",
    "            longgest = length\n",
    "            out_text = text[i-window : i+window+1]\n",
    "    return out_text"
   ]
  },
  {
   "cell_type": "code",
   "execution_count": 58,
   "metadata": {},
   "outputs": [
    {
     "data": {
      "text/plain": [
       "'bab'"
      ]
     },
     "execution_count": 58,
     "metadata": {},
     "output_type": "execute_result"
    }
   ],
   "source": [
    "longgestPallendrome(text)"
   ]
  },
  {
   "cell_type": "code",
   "execution_count": null,
   "metadata": {},
   "outputs": [],
   "source": []
  }
 ],
 "metadata": {
  "interpreter": {
   "hash": "6d1a3e62e6baacc997e7fd515824b0551567c542b1e37c125c97fb608db7a38d"
  },
  "kernelspec": {
   "display_name": "Python 3.8.5 64-bit ('algorithm': conda)",
   "name": "python3"
  },
  "language_info": {
   "codemirror_mode": {
    "name": "ipython",
    "version": 3
   },
   "file_extension": ".py",
   "mimetype": "text/x-python",
   "name": "python",
   "nbconvert_exporter": "python",
   "pygments_lexer": "ipython3",
   "version": "3.8.5"
  },
  "orig_nbformat": 2
 },
 "nbformat": 4,
 "nbformat_minor": 2
}
