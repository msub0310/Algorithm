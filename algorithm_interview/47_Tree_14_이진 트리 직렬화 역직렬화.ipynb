{
 "metadata": {
  "language_info": {
   "codemirror_mode": {
    "name": "ipython",
    "version": 3
   },
   "file_extension": ".py",
   "mimetype": "text/x-python",
   "name": "python",
   "nbconvert_exporter": "python",
   "pygments_lexer": "ipython3",
   "version": "3.8.5"
  },
  "orig_nbformat": 2,
  "kernelspec": {
   "name": "python3",
   "display_name": "Python 3.8.5 64-bit ('algorithm': conda)"
  },
  "interpreter": {
   "hash": "6d1a3e62e6baacc997e7fd515824b0551567c542b1e37c125c97fb608db7a38d"
  }
 },
 "nbformat": 4,
 "nbformat_minor": 2,
 "cells": [
  {
   "cell_type": "code",
   "execution_count": 102,
   "source": [
    "input_1 = [1, 2, 3, None, None, 4, 5]\r\n",
    "\r\n",
    "input_1"
   ],
   "outputs": [
    {
     "output_type": "execute_result",
     "data": {
      "text/plain": [
       "[1, 2, 3, None, None, 4, 5]"
      ]
     },
     "metadata": {},
     "execution_count": 102
    }
   ],
   "metadata": {}
  },
  {
   "cell_type": "code",
   "execution_count": 103,
   "source": [
    "class TreeNode():\r\n",
    "    def __init__(self, val=0, left=None, right=None):\r\n",
    "        self.val = val\r\n",
    "        self.left = left\r\n",
    "        self.right = right"
   ],
   "outputs": [],
   "metadata": {}
  },
  {
   "cell_type": "code",
   "execution_count": 104,
   "source": [
    "def createBTree(TreeList: list, index: int=0):\r\n",
    "    pNode = None\r\n",
    "    if index < len(TreeList):\r\n",
    "        if TreeList[index] == None:\r\n",
    "            return\r\n",
    "        pNode = TreeNode(TreeList[index])\r\n",
    "        pNode.left = createBTree(TreeList, index * 2 + 1)\r\n",
    "        pNode.right = createBTree(TreeList, index * 2 + 2)\r\n",
    "\r\n",
    "    return pNode"
   ],
   "outputs": [],
   "metadata": {}
  },
  {
   "cell_type": "code",
   "execution_count": 105,
   "source": [
    "root = createBTree(input_1)"
   ],
   "outputs": [],
   "metadata": {}
  },
  {
   "cell_type": "code",
   "execution_count": 106,
   "source": [
    "import collections\r\n",
    "\r\n",
    "def serialize(root: TreeNode) -> list:\r\n",
    "    queue = collections.deque([root])\r\n",
    "    result = []\r\n",
    "\r\n",
    "    while queue:\r\n",
    "        node = queue.popleft()\r\n",
    "\r\n",
    "        if node:\r\n",
    "            result.append(node.val)\r\n",
    "            queue.append(node.left)\r\n",
    "            queue.append(node.right)\r\n",
    "\r\n",
    "        else:\r\n",
    "            result.append(None)\r\n",
    "\r\n",
    "        if all((x is None for x in queue)):\r\n",
    "            break\r\n",
    "    \r\n",
    "    return result"
   ],
   "outputs": [],
   "metadata": {}
  },
  {
   "cell_type": "code",
   "execution_count": 107,
   "source": [
    "output = serialize(root)\r\n",
    "\r\n",
    "output"
   ],
   "outputs": [
    {
     "output_type": "execute_result",
     "data": {
      "text/plain": [
       "[1, 2, 3, None, None, 4, 5]"
      ]
     },
     "metadata": {},
     "execution_count": 107
    }
   ],
   "metadata": {}
  },
  {
   "cell_type": "code",
   "execution_count": null,
   "source": [],
   "outputs": [],
   "metadata": {}
  },
  {
   "cell_type": "code",
   "execution_count": null,
   "source": [],
   "outputs": [],
   "metadata": {}
  }
 ]
}