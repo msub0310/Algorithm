{
 "metadata": {
  "language_info": {
   "codemirror_mode": {
    "name": "ipython",
    "version": 3
   },
   "file_extension": ".py",
   "mimetype": "text/x-python",
   "name": "python",
   "nbconvert_exporter": "python",
   "pygments_lexer": "ipython3",
   "version": "3.8.5"
  },
  "orig_nbformat": 2,
  "kernelspec": {
   "name": "python3",
   "display_name": "Python 3.8.5 64-bit ('algorithm': conda)"
  },
  "interpreter": {
   "hash": "6d1a3e62e6baacc997e7fd515824b0551567c542b1e37c125c97fb608db7a38d"
  }
 },
 "nbformat": 4,
 "nbformat_minor": 2,
 "cells": [
  {
   "cell_type": "code",
   "execution_count": 1,
   "source": [
    "input_1 = [4, 2, 7, 1, 3, 6, 9]\r\n",
    "\r\n",
    "input_1"
   ],
   "outputs": [
    {
     "output_type": "execute_result",
     "data": {
      "text/plain": [
       "[4, 2, 7, 1, 3, 6, 9]"
      ]
     },
     "metadata": {},
     "execution_count": 1
    }
   ],
   "metadata": {}
  },
  {
   "cell_type": "code",
   "execution_count": 2,
   "source": [
    "class TreeNode():\r\n",
    "    def __init__(self, val=0, left=None, right=None):\r\n",
    "        self.val = val\r\n",
    "        self.left = left\r\n",
    "        self.right = right"
   ],
   "outputs": [],
   "metadata": {}
  },
  {
   "cell_type": "code",
   "execution_count": 3,
   "source": [
    "def createBTree(TreeList: list, index: int=0) -> TreeNode:\r\n",
    "    pNode = None\r\n",
    "    if index < len(TreeList):\r\n",
    "        if TreeList[index] is None:\r\n",
    "            return None\r\n",
    "        pNode = TreeNode(TreeList[index])\r\n",
    "        pNode.left = createBTree(TreeList, 2 * index + 1)\r\n",
    "        pNode.right = createBTree(TreeList, 2* index + 2)\r\n",
    "\r\n",
    "    return pNode\r\n"
   ],
   "outputs": [],
   "metadata": {}
  },
  {
   "cell_type": "code",
   "execution_count": 4,
   "source": [
    "def BTreeToList(root: TreeNode):\r\n",
    "    items = []\r\n",
    "    queue = [root]\r\n",
    "\r\n",
    "    while queue:\r\n",
    "        copy = queue[:]\r\n",
    "        queue = []\r\n",
    "\r\n",
    "        for item in copy:\r\n",
    "            if item is None:\r\n",
    "                items.append(None)\r\n",
    "                queue.append(None)\r\n",
    "                queue.append(None)\r\n",
    "            else:\r\n",
    "                items.append(item.val)\r\n",
    "                queue.append(item.left)\r\n",
    "                queue.append(item.right)\r\n",
    "\r\n",
    "        if all((x is None for x in queue)):\r\n",
    "            break\r\n",
    "\r\n",
    "    return items"
   ],
   "outputs": [],
   "metadata": {}
  },
  {
   "cell_type": "code",
   "execution_count": 5,
   "source": [
    "root = createBTree(input_1, 0)"
   ],
   "outputs": [],
   "metadata": {}
  },
  {
   "cell_type": "code",
   "execution_count": 6,
   "source": [
    "#내 풀이\r\n",
    "import collections\r\n",
    "\r\n",
    "def horizontalFlip(root: TreeNode) -> TreeNode:\r\n",
    "\r\n",
    "    def bfs(node):\r\n",
    "        if node is None:\r\n",
    "            return -1\r\n",
    "        queue = collections.deque()\r\n",
    "        queue.append(node.left)\r\n",
    "        queue.append(node.right)\r\n",
    "\r\n",
    "        node.left, node.right = node.right, node.left\r\n",
    "\r\n",
    "        horizontalFlip(queue.popleft())\r\n",
    "        horizontalFlip(queue.popleft())\r\n",
    "\r\n",
    "    bfs(root)\r\n",
    "\r\n",
    "    return root"
   ],
   "outputs": [],
   "metadata": {}
  },
  {
   "cell_type": "code",
   "execution_count": 7,
   "source": [
    "flipRoot = horizontalFlip(root)\r\n",
    "print(input_1)\r\n",
    "print(BTreeToList(flipRoot))"
   ],
   "outputs": [
    {
     "output_type": "stream",
     "name": "stdout",
     "text": [
      "[4, 2, 7, 1, 3, 6, 9]\n",
      "[4, 7, 2, 9, 6, 3, 1]\n"
     ]
    }
   ],
   "metadata": {}
  },
  {
   "cell_type": "code",
   "execution_count": 8,
   "source": [
    "def invertTreePythonic(root: TreeNode) -> TreeNode:\r\n",
    "    if root:\r\n",
    "        root.left, root.right = invertTreePythonic(root.right), invertTreePythonic(root.left)\r\n",
    "        return root\r\n",
    "    return None"
   ],
   "outputs": [],
   "metadata": {}
  },
  {
   "cell_type": "code",
   "execution_count": 9,
   "source": [
    "root = createBTree(input_1, 0)\r\n",
    "BTreeToList(invertTreePythonic(root))"
   ],
   "outputs": [
    {
     "output_type": "execute_result",
     "data": {
      "text/plain": [
       "[4, 7, 2, 9, 6, 3, 1]"
      ]
     },
     "metadata": {},
     "execution_count": 9
    }
   ],
   "metadata": {}
  },
  {
   "cell_type": "code",
   "execution_count": 10,
   "source": [
    "import collections\r\n",
    "\r\n",
    "def invertTreeBFS(root: TreeNode) -> TreeNode:\r\n",
    "    queue = collections.deque([root])\r\n",
    "\r\n",
    "    while queue:\r\n",
    "        node = queue.popleft()\r\n",
    "\r\n",
    "        if node:\r\n",
    "            node.left, node.right = node.right, node.left\r\n",
    "        \r\n",
    "            queue.append(node.left)\r\n",
    "            queue.append(node.right)\r\n",
    "\r\n",
    "    return root"
   ],
   "outputs": [],
   "metadata": {}
  },
  {
   "cell_type": "code",
   "execution_count": 11,
   "source": [
    "root = createBTree(input_1, 0)\r\n",
    "BTreeToList(invertTreeBFS(root))"
   ],
   "outputs": [
    {
     "output_type": "execute_result",
     "data": {
      "text/plain": [
       "[4, 7, 2, 9, 6, 3, 1]"
      ]
     },
     "metadata": {},
     "execution_count": 11
    }
   ],
   "metadata": {}
  },
  {
   "cell_type": "code",
   "execution_count": 12,
   "source": [
    "import collections\r\n",
    "\r\n",
    "def invertTreeDFS(root: TreeNode) -> TreeNode:\r\n",
    "    stack = collections.deque([root])\r\n",
    "\r\n",
    "    while stack:\r\n",
    "        node = stack.pop()\r\n",
    "\r\n",
    "        if node:\r\n",
    "            node.left, node.right = node.right, node.left\r\n",
    "\r\n",
    "            stack.append(node.left)\r\n",
    "            stack.append(node.right)\r\n",
    "\r\n",
    "    return root"
   ],
   "outputs": [],
   "metadata": {}
  },
  {
   "cell_type": "code",
   "execution_count": 13,
   "source": [
    "root = createBTree(input_1)\r\n",
    "BTreeToList(invertTreeDFS(root))"
   ],
   "outputs": [
    {
     "output_type": "execute_result",
     "data": {
      "text/plain": [
       "[4, 7, 2, 9, 6, 3, 1]"
      ]
     },
     "metadata": {},
     "execution_count": 13
    }
   ],
   "metadata": {}
  },
  {
   "cell_type": "code",
   "execution_count": 16,
   "source": [
    "import collections\r\n",
    "\r\n",
    "def invertTreeDFSBack(root: TreeNode) -> TreeNode:\r\n",
    "    stack = collections.deque([root])\r\n",
    "\r\n",
    "    while stack:\r\n",
    "        node = stack.pop()\r\n",
    "\r\n",
    "        if node:\r\n",
    "            stack.append(node.left)\r\n",
    "            stack.append(node.right)\r\n",
    "\r\n",
    "            node.left, node.right = node.right, node.left\r\n",
    "\r\n",
    "    return root"
   ],
   "outputs": [],
   "metadata": {}
  },
  {
   "cell_type": "code",
   "execution_count": 17,
   "source": [
    "root = createBTree(input_1)\r\n",
    "BTreeToList(invertTreeDFSBack(root))"
   ],
   "outputs": [
    {
     "output_type": "execute_result",
     "data": {
      "text/plain": [
       "[4, 7, 2, 9, 6, 3, 1]"
      ]
     },
     "metadata": {},
     "execution_count": 17
    }
   ],
   "metadata": {}
  },
  {
   "cell_type": "code",
   "execution_count": null,
   "source": [],
   "outputs": [],
   "metadata": {}
  }
 ]
}