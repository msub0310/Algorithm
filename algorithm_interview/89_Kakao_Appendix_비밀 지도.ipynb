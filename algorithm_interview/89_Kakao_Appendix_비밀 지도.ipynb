{
 "metadata": {
  "language_info": {
   "codemirror_mode": {
    "name": "ipython",
    "version": 3
   },
   "file_extension": ".py",
   "mimetype": "text/x-python",
   "name": "python",
   "nbconvert_exporter": "python",
   "pygments_lexer": "ipython3",
   "version": "3.8.5"
  },
  "orig_nbformat": 2,
  "kernelspec": {
   "name": "python3",
   "display_name": "Python 3.8.5 64-bit ('algorithm': conda)"
  },
  "interpreter": {
   "hash": "6d1a3e62e6baacc997e7fd515824b0551567c542b1e37c125c97fb608db7a38d"
  }
 },
 "nbformat": 4,
 "nbformat_minor": 2,
 "cells": [
  {
   "cell_type": "code",
   "execution_count": 12,
   "source": [
    "n = 5\r\n",
    "arr1 = [9, 20, 28, 18, 11]\r\n",
    "arr2 = [30, 1, 21, 17, 28]\r\n",
    "#output = [\"#####\", \"# # #\", \"### #\", \"#  ##\", \"#####\"]"
   ],
   "outputs": [],
   "metadata": {}
  },
  {
   "cell_type": "code",
   "execution_count": 35,
   "source": [
    "n = 6\r\n",
    "arr1 = [46, 33, 33, 22, 31, 50]\r\n",
    "arr2 = [27, 56, 19, 14, 14, 10]"
   ],
   "outputs": [],
   "metadata": {}
  },
  {
   "cell_type": "code",
   "execution_count": 57,
   "source": [
    "# 내 풀이\r\n",
    "def secretMap(n: int, arr1: [int], arr2: [int]) -> [str]:\r\n",
    "    result = []\r\n",
    "    for i in range(n):\r\n",
    "       result.append(\"\".join([\"#\" if x == \"1\" else \" \" for x in bin(arr1[i] | arr2[i])[2:]]))\r\n",
    "    return result"
   ],
   "outputs": [],
   "metadata": {}
  },
  {
   "cell_type": "code",
   "execution_count": 58,
   "source": [
    "secretMap(n, arr1, arr2)"
   ],
   "outputs": [
    {
     "output_type": "execute_result",
     "data": {
      "text/plain": [
       "['######', '###  #', '##  ##', '#### ', '#####', '### # ']"
      ]
     },
     "metadata": {},
     "execution_count": 58
    }
   ],
   "metadata": {}
  },
  {
   "cell_type": "code",
   "execution_count": 59,
   "source": [
    "def secretMapClean(n: int, arr1: [int], arr2: [int]) -> [str]:\r\n",
    "    maps = []\r\n",
    "    for i in range(n):\r\n",
    "        maps.append(\r\n",
    "            bin(arr1[i] | arr2[i])[2:]\r\n",
    "            .zfill(n)\r\n",
    "            .replace(\"1\", \"#\")\r\n",
    "            .replace(\"0\", \" \")\r\n",
    "        )\r\n",
    "    return maps"
   ],
   "outputs": [],
   "metadata": {}
  },
  {
   "cell_type": "code",
   "execution_count": 60,
   "source": [
    "secretMapClean(n, arr1, arr2)"
   ],
   "outputs": [
    {
     "output_type": "execute_result",
     "data": {
      "text/plain": [
       "['######', '###  #', '##  ##', ' #### ', ' #####', '### # ']"
      ]
     },
     "metadata": {},
     "execution_count": 60
    }
   ],
   "metadata": {}
  },
  {
   "cell_type": "code",
   "execution_count": null,
   "source": [],
   "outputs": [],
   "metadata": {}
  }
 ]
}