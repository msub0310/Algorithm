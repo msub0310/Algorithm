{
 "metadata": {
  "language_info": {
   "codemirror_mode": {
    "name": "ipython",
    "version": 3
   },
   "file_extension": ".py",
   "mimetype": "text/x-python",
   "name": "python",
   "nbconvert_exporter": "python",
   "pygments_lexer": "ipython3",
   "version": "3.8.5"
  },
  "orig_nbformat": 2,
  "kernelspec": {
   "name": "python3",
   "display_name": "Python 3.8.5 64-bit ('algorithm': conda)"
  },
  "interpreter": {
   "hash": "6d1a3e62e6baacc997e7fd515824b0551567c542b1e37c125c97fb608db7a38d"
  }
 },
 "nbformat": 4,
 "nbformat_minor": 2,
 "cells": [
  {
   "cell_type": "code",
   "execution_count": 1,
   "source": [
    "list_input = [i for i in range(9)]\r\n",
    "list_input"
   ],
   "outputs": [
    {
     "output_type": "execute_result",
     "data": {
      "text/plain": [
       "[0, 1, 2, 3, 4, 5, 6, 7, 8]"
      ]
     },
     "metadata": {},
     "execution_count": 1
    }
   ],
   "metadata": {}
  },
  {
   "cell_type": "code",
   "execution_count": 2,
   "source": [
    "tree_input = [4, 1, 6, 0, 2, 5, 7, None, None, None, 3, None, None, None, 8]\r\n",
    "tree_input"
   ],
   "outputs": [
    {
     "output_type": "execute_result",
     "data": {
      "text/plain": [
       "[4, 1, 6, 0, 2, 5, 7, None, None, None, 3, None, None, None, 8]"
      ]
     },
     "metadata": {},
     "execution_count": 2
    }
   ],
   "metadata": {}
  },
  {
   "cell_type": "code",
   "execution_count": 3,
   "source": [
    "class TreeNode():\r\n",
    "    def __init__(self, val=0, left=None, right=None):\r\n",
    "        self.val = val\r\n",
    "        self.left = left\r\n",
    "        self.right = right"
   ],
   "outputs": [],
   "metadata": {}
  },
  {
   "cell_type": "code",
   "execution_count": 4,
   "source": [
    "def createBTree(nums: list, index: int=0) -> TreeNode:\r\n",
    "    pNode = None\r\n",
    "    if index < len(nums):\r\n",
    "        if nums[index] is None:\r\n",
    "            return None\r\n",
    "        pNode = TreeNode(nums[index])\r\n",
    "        pNode.left = createBTree(nums, index * 2 + 1)\r\n",
    "        pNode.right = createBTree(nums, index * 2 + 2)\r\n",
    "        \r\n",
    "    return pNode"
   ],
   "outputs": [],
   "metadata": {}
  },
  {
   "cell_type": "code",
   "execution_count": 5,
   "source": [
    "def sortedArrayToBST(nums: [int]) -> TreeNode:\r\n",
    "    if not nums:\r\n",
    "        return None\r\n",
    "    \r\n",
    "    mid = len(nums) // 2\r\n",
    "\r\n",
    "    node = TreeNode(nums[mid])\r\n",
    "    node.left = sortedArrayToBST(nums[:mid])\r\n",
    "    node.right = sortedArrayToBST(nums[mid+1:])\r\n",
    "\r\n",
    "    return node"
   ],
   "outputs": [],
   "metadata": {}
  },
  {
   "cell_type": "code",
   "execution_count": 6,
   "source": [
    "import collections\r\n",
    "\r\n",
    "def BTreeToList(root: TreeNode):\r\n",
    "    result = []\r\n",
    "    queue = collections.deque([root])\r\n",
    "    \r\n",
    "    while queue:\r\n",
    "        node = queue.popleft()\r\n",
    "\r\n",
    "        if node:\r\n",
    "            result.append(node.val)\r\n",
    "            queue.append(node.left)\r\n",
    "            queue.append(node.right)\r\n",
    "        else:\r\n",
    "            result.append(None)\r\n",
    "\r\n",
    "        if all((x is None for x in queue)):\r\n",
    "            break\r\n",
    "\r\n",
    "    return result\r\n",
    "\r\n"
   ],
   "outputs": [],
   "metadata": {}
  },
  {
   "cell_type": "code",
   "execution_count": 7,
   "source": [
    "rootList = sortedArrayToBST(list_input)\r\n",
    "rootTree = createBTree(tree_input)\r\n",
    "print(BTreeToList(rootList))\r\n",
    "print(tree_input)"
   ],
   "outputs": [
    {
     "output_type": "stream",
     "name": "stdout",
     "text": [
      "[4, 2, 7, 1, 3, 6, 8, 0, None, None, None, 5]\n",
      "[4, 1, 6, 0, 2, 5, 7, None, None, None, 3, None, None, None, 8]\n"
     ]
    }
   ],
   "metadata": {}
  },
  {
   "cell_type": "code",
   "execution_count": 8,
   "source": [
    "class Solution:\r\n",
    "    val: int = 0\r\n",
    "\r\n",
    "    def bstToGst(self, root: TreeNode) -> TreeNode:\r\n",
    "\r\n",
    "        if root:\r\n",
    "            self.bstToGst(root.right)\r\n",
    "            self.val += root.val\r\n",
    "            root.val = self.val\r\n",
    "            self.bstToGst(root.left)\r\n",
    "\r\n",
    "        return root"
   ],
   "outputs": [],
   "metadata": {}
  },
  {
   "cell_type": "code",
   "execution_count": 9,
   "source": [
    "ansList = BTreeToList(Solution().bstToGst(rootList))\r\n",
    "ansTree = BTreeToList(Solution().bstToGst(rootTree))\r\n",
    "\r\n",
    "print(ansList)\r\n",
    "print(ansTree)"
   ],
   "outputs": [
    {
     "output_type": "stream",
     "name": "stdout",
     "text": [
      "[30, 35, 15, 36, 33, 21, 8, 36, None, None, None, 26]\n",
      "[30, 36, 21, 36, 35, 26, 15, None, None, None, 33, None, None, None, 8]\n"
     ]
    }
   ],
   "metadata": {}
  },
  {
   "cell_type": "code",
   "execution_count": 10,
   "source": [
    "set(i if i is not None else i for i in ansList) == set(i if i is not None else i for i in ansTree)"
   ],
   "outputs": [
    {
     "output_type": "execute_result",
     "data": {
      "text/plain": [
       "True"
      ]
     },
     "metadata": {},
     "execution_count": 10
    }
   ],
   "metadata": {}
  },
  {
   "cell_type": "code",
   "execution_count": null,
   "source": [],
   "outputs": [],
   "metadata": {}
  }
 ]
}