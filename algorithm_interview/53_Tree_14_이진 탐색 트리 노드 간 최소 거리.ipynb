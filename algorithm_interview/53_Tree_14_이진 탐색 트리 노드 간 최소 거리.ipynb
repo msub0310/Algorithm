{
 "metadata": {
  "language_info": {
   "codemirror_mode": {
    "name": "ipython",
    "version": 3
   },
   "file_extension": ".py",
   "mimetype": "text/x-python",
   "name": "python",
   "nbconvert_exporter": "python",
   "pygments_lexer": "ipython3",
   "version": "3.8.5"
  },
  "orig_nbformat": 2,
  "kernelspec": {
   "name": "python3",
   "display_name": "Python 3.8.5 64-bit ('algorithm': conda)"
  },
  "interpreter": {
   "hash": "6d1a3e62e6baacc997e7fd515824b0551567c542b1e37c125c97fb608db7a38d"
  }
 },
 "nbformat": 4,
 "nbformat_minor": 2,
 "cells": [
  {
   "cell_type": "code",
   "execution_count": 1,
   "source": [
    "root_1 = [4, 2, 6, 1, 3, None, None]\r\n",
    "root_2 = [10, 4, 15, 1, 8, None, None]"
   ],
   "outputs": [],
   "metadata": {}
  },
  {
   "cell_type": "code",
   "execution_count": 2,
   "source": [
    "class TreeNode:\r\n",
    "    def __init__(self, val=0, left=None, right=None):\r\n",
    "        self.val = val\r\n",
    "        self.left = left\r\n",
    "        self.right = right"
   ],
   "outputs": [],
   "metadata": {}
  },
  {
   "cell_type": "code",
   "execution_count": 3,
   "source": [
    "def createBTree(nums: list, index: int=0) -> TreeNode:\r\n",
    "    pNode = None\r\n",
    "    if index < len(nums):\r\n",
    "        if nums[index] is None:\r\n",
    "            return None\r\n",
    "        pNode = TreeNode(nums[index])\r\n",
    "        pNode.left = createBTree(nums, index * 2 + 1)\r\n",
    "        pNode.right = createBTree(nums, index * 2 + 2)\r\n",
    "    \r\n",
    "    return pNode"
   ],
   "outputs": [],
   "metadata": {}
  },
  {
   "cell_type": "code",
   "execution_count": 4,
   "source": [
    "TreeRoot_1 = createBTree(root_1)\r\n",
    "TreeRoot_2 = createBTree(root_2)"
   ],
   "outputs": [],
   "metadata": {}
  },
  {
   "cell_type": "code",
   "execution_count": 15,
   "source": [
    "import sys\r\n",
    "\r\n",
    "class Solution:\r\n",
    "    prev = -sys.maxsize\r\n",
    "    result = sys.maxsize\r\n",
    "\r\n",
    "    def minDiffInBST(self, root: TreeNode) -> int:\r\n",
    "        if root.left:\r\n",
    "            self.minDiffInBST(root.left)\r\n",
    "        \r\n",
    "        self.result = min(self.result, root.val - self.prev)\r\n",
    "        self.prev = root.val\r\n",
    "\r\n",
    "        if root.right:\r\n",
    "            self.minDiffInBST(root.right)\r\n",
    "\r\n",
    "        return self.result"
   ],
   "outputs": [],
   "metadata": {}
  },
  {
   "cell_type": "code",
   "execution_count": 17,
   "source": [
    "print(Solution().minDiffInBST(TreeRoot_1))\r\n",
    "print(Solution().minDiffInBST(TreeRoot_2))"
   ],
   "outputs": [
    {
     "output_type": "stream",
     "name": "stdout",
     "text": [
      "1\n",
      "2\n"
     ]
    }
   ],
   "metadata": {}
  },
  {
   "cell_type": "code",
   "execution_count": 19,
   "source": [
    "import sys\r\n",
    "\r\n",
    "def minDiffInBSTIter(root: TreeNode) -> int:\r\n",
    "    prev = -sys.maxsize\r\n",
    "    result = sys.maxsize\r\n",
    "\r\n",
    "    stack = []\r\n",
    "    node = root\r\n",
    "\r\n",
    "    while stack or node:\r\n",
    "        while node:\r\n",
    "            stack.append(node)\r\n",
    "            node = node.left\r\n",
    "        \r\n",
    "        node = stack.pop()\r\n",
    "\r\n",
    "        result= min(result, node.val - prev)\r\n",
    "        prev = node.val\r\n",
    "\r\n",
    "        node = node.right\r\n",
    "    \r\n",
    "    return result"
   ],
   "outputs": [],
   "metadata": {}
  },
  {
   "cell_type": "code",
   "execution_count": 20,
   "source": [
    "print(minDiffInBSTIter(TreeRoot_1))\r\n",
    "print(minDiffInBSTIter(TreeRoot_2))"
   ],
   "outputs": [
    {
     "output_type": "stream",
     "name": "stdout",
     "text": [
      "1\n",
      "2\n"
     ]
    }
   ],
   "metadata": {}
  },
  {
   "cell_type": "code",
   "execution_count": null,
   "source": [],
   "outputs": [],
   "metadata": {}
  }
 ]
}