{
 "metadata": {
  "language_info": {
   "codemirror_mode": {
    "name": "ipython",
    "version": 3
   },
   "file_extension": ".py",
   "mimetype": "text/x-python",
   "name": "python",
   "nbconvert_exporter": "python",
   "pygments_lexer": "ipython3",
   "version": "3.8.5"
  },
  "orig_nbformat": 2,
  "kernelspec": {
   "name": "python3",
   "display_name": "Python 3.8.5 64-bit ('algorithm': conda)"
  },
  "interpreter": {
   "hash": "6d1a3e62e6baacc997e7fd515824b0551567c542b1e37c125c97fb608db7a38d"
  }
 },
 "nbformat": 4,
 "nbformat_minor": 2,
 "cells": [
  {
   "cell_type": "code",
   "execution_count": 1,
   "source": [
    "input_1 = [3, 9, 20, None, None, 15, 7]\r\n",
    "input_2 = [1, 2, 2, 3, 3, None, None, 4, 4]\r\n",
    "\r\n",
    "print(input_1)\r\n",
    "print(input_2)"
   ],
   "outputs": [
    {
     "output_type": "stream",
     "name": "stdout",
     "text": [
      "[3, 9, 20, None, None, 15, 7]\n",
      "[1, 2, 2, 3, 3, None, None, 4, 4]\n"
     ]
    }
   ],
   "metadata": {}
  },
  {
   "cell_type": "code",
   "execution_count": 2,
   "source": [
    "class TreeNode():\r\n",
    "    def __init__(self, val=0, left=None, right=None):\r\n",
    "        self.val = val\r\n",
    "        self.left = left\r\n",
    "        self.right = right"
   ],
   "outputs": [],
   "metadata": {}
  },
  {
   "cell_type": "code",
   "execution_count": 3,
   "source": [
    "def createBTree(TreeList: list, index:int = 0) -> TreeNode:\r\n",
    "    pNode = None\r\n",
    "    if index < len(TreeList):\r\n",
    "        if TreeList[index] == None:\r\n",
    "            return\r\n",
    "        pNode = TreeNode(TreeList[index])\r\n",
    "        pNode.left = createBTree(TreeList, index * 2 + 1)\r\n",
    "        pNode.right = createBTree(TreeList, index * 2 + 2)\r\n",
    "\r\n",
    "    return pNode"
   ],
   "outputs": [],
   "metadata": {}
  },
  {
   "cell_type": "code",
   "execution_count": 4,
   "source": [
    "root_1, root_2 = createBTree(input_1), createBTree(input_2)"
   ],
   "outputs": [],
   "metadata": {}
  },
  {
   "cell_type": "code",
   "execution_count": 5,
   "source": [
    "def isBalanced(root: TreeNode) -> bool:\r\n",
    "    def check(root):\r\n",
    "        if not root:\r\n",
    "            return 0\r\n",
    "        \r\n",
    "        left = check(root.left)\r\n",
    "        right = check(root.right)\r\n",
    "\r\n",
    "        if left == -1 or right == -1 or abs(left - right) > 1:\r\n",
    "            return -1\r\n",
    "        return max(left, right) + 1\r\n",
    "    \r\n",
    "    return check(root) != -1"
   ],
   "outputs": [],
   "metadata": {}
  },
  {
   "cell_type": "code",
   "execution_count": 6,
   "source": [
    "print(isBalanced(root_1))\r\n",
    "print(isBalanced(root_2))"
   ],
   "outputs": [
    {
     "output_type": "stream",
     "name": "stdout",
     "text": [
      "True\n",
      "False\n"
     ]
    }
   ],
   "metadata": {}
  },
  {
   "cell_type": "code",
   "execution_count": null,
   "source": [],
   "outputs": [],
   "metadata": {}
  }
 ]
}