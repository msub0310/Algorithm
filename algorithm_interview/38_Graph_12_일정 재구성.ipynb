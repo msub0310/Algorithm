{
 "metadata": {
  "language_info": {
   "codemirror_mode": {
    "name": "ipython",
    "version": 3
   },
   "file_extension": ".py",
   "mimetype": "text/x-python",
   "name": "python",
   "nbconvert_exporter": "python",
   "pygments_lexer": "ipython3",
   "version": "3.8.5"
  },
  "orig_nbformat": 2,
  "kernelspec": {
   "name": "python3",
   "display_name": "Python 3.8.5 64-bit ('algorithm': conda)"
  },
  "interpreter": {
   "hash": "6d1a3e62e6baacc997e7fd515824b0551567c542b1e37c125c97fb608db7a38d"
  }
 },
 "nbformat": 4,
 "nbformat_minor": 2,
 "cells": [
  {
   "cell_type": "code",
   "execution_count": 34,
   "source": [
    "input_1 = [[\"MUC\", \"LHR\"], [\"JFK\", \"MUC\"], [\"SFO\", \"SJC\"], [\"LHR\", \"SFO\"]]\r\n",
    "\r\n",
    "input_2 = [[\"JFK\", \"SFO\"], [\"JFK\", \"ATL\"], [\"SFO\", \"ATL\"], [\"ATL\", \"JFK\"], [\"ATL\", \"SFO\"]]"
   ],
   "outputs": [],
   "metadata": {}
  },
  {
   "cell_type": "code",
   "execution_count": 35,
   "source": [
    "import collections\r\n",
    "\r\n",
    "tickets = input_2\r\n",
    "\r\n",
    "graph = collections.defaultdict(list)\r\n",
    "\r\n",
    "for a, b in tickets:\r\n",
    "    graph[a] += [b]\r\n",
    "for a in graph:\r\n",
    "    graph[a].sort()\r\n",
    "\r\n",
    "graph"
   ],
   "outputs": [
    {
     "output_type": "execute_result",
     "data": {
      "text/plain": [
       "defaultdict(list,\n",
       "            {'JFK': ['ATL', 'SFO'], 'SFO': ['ATL'], 'ATL': ['JFK', 'SFO']})"
      ]
     },
     "metadata": {},
     "execution_count": 35
    }
   ],
   "metadata": {}
  },
  {
   "cell_type": "code",
   "execution_count": 37,
   "source": [
    "import collections\r\n",
    "\r\n",
    "def findItinerary(tickets: [[str]]) -> [str]:\r\n",
    "    graph = collections.defaultdict(list)\r\n",
    "\r\n",
    "    for a, b in sorted(tickets):\r\n",
    "        graph[a].append(b)\r\n",
    "\r\n",
    "    route = []\r\n",
    "    def dfs(a):\r\n",
    "        while graph[a]:\r\n",
    "            dfs(graph[a].pop(0))\r\n",
    "        route.append(a)\r\n",
    "\r\n",
    "    dfs(\"JFK\")\r\n",
    "\r\n",
    "    return route[::-1]\r\n",
    "\r\n",
    "findItinerary(input_2)"
   ],
   "outputs": [
    {
     "output_type": "execute_result",
     "data": {
      "text/plain": [
       "['JFK', 'ATL', 'JFK', 'SFO', 'ATL', 'SFO']"
      ]
     },
     "metadata": {},
     "execution_count": 37
    }
   ],
   "metadata": {}
  },
  {
   "cell_type": "code",
   "execution_count": 39,
   "source": [
    "import collections\r\n",
    "\r\n",
    "def findItineraryStack(tickets: [[str]]) -> [str]:\r\n",
    "    graph = collections.defaultdict(list)\r\n",
    "\r\n",
    "    for a, b in sorted(tickets, reverse=True):\r\n",
    "        graph[a].append(b)\r\n",
    "    \r\n",
    "    route = []\r\n",
    "\r\n",
    "    def dfs(a):\r\n",
    "        while graph[a]:\r\n",
    "            dfs(graph[a].pop())\r\n",
    "        route.append(a)\r\n",
    "\r\n",
    "    dfs(\"JFK\")\r\n",
    "\r\n",
    "    return route[::-1]\r\n",
    "\r\n",
    "findItineraryStack(input_2)"
   ],
   "outputs": [
    {
     "output_type": "execute_result",
     "data": {
      "text/plain": [
       "['JFK', 'ATL', 'JFK', 'SFO', 'ATL', 'SFO']"
      ]
     },
     "metadata": {},
     "execution_count": 39
    }
   ],
   "metadata": {}
  },
  {
   "cell_type": "code",
   "execution_count": 40,
   "source": [
    "import collections\r\n",
    "\r\n",
    "def findItineraryLoof(tickets: [[str]]) -> [str]:\r\n",
    "    graph = collections.defaultdict(list)\r\n",
    "    for a, b in tickets:\r\n",
    "        graph[a].append(b)\r\n",
    "\r\n",
    "    route, stack = [], [\"JFK\"]\r\n",
    "    while stack:\r\n",
    "        while graph[stack[-1]]:\r\n",
    "            stack.append(graph[stack[-1]].pop(0))\r\n",
    "        route.append(stack.pop())\r\n",
    "\r\n",
    "    return route[::-1]\r\n",
    "\r\n",
    "findItineraryLoof(input_2)"
   ],
   "outputs": [
    {
     "output_type": "execute_result",
     "data": {
      "text/plain": [
       "['JFK', 'SFO', 'ATL', 'JFK', 'ATL', 'SFO']"
      ]
     },
     "metadata": {},
     "execution_count": 40
    }
   ],
   "metadata": {}
  },
  {
   "cell_type": "code",
   "execution_count": null,
   "source": [],
   "outputs": [],
   "metadata": {}
  }
 ]
}