{
 "metadata": {
  "language_info": {
   "codemirror_mode": {
    "name": "ipython",
    "version": 3
   },
   "file_extension": ".py",
   "mimetype": "text/x-python",
   "name": "python",
   "nbconvert_exporter": "python",
   "pygments_lexer": "ipython3",
   "version": "3.8.5"
  },
  "orig_nbformat": 2,
  "kernelspec": {
   "name": "python3",
   "display_name": "Python 3.8.5 64-bit ('algorithm': conda)"
  },
  "interpreter": {
   "hash": "6d1a3e62e6baacc997e7fd515824b0551567c542b1e37c125c97fb608db7a38d"
  }
 },
 "nbformat": 4,
 "nbformat_minor": 2,
 "cells": [
  {
   "cell_type": "code",
   "execution_count": 1,
   "source": [
    "input_1 = [5, 4, 5, 1, 1, None, 5]\r\n",
    "input_2 = [1, 4, 5, 4, 4, None, 5]\r\n",
    "\r\n",
    "print(input_1)\r\n",
    "print(input_2)"
   ],
   "outputs": [
    {
     "output_type": "stream",
     "name": "stdout",
     "text": [
      "[5, 4, 5, 1, 1, None, 5]\n",
      "[1, 4, 5, 4, 4, None, 5]\n"
     ]
    }
   ],
   "metadata": {}
  },
  {
   "cell_type": "code",
   "execution_count": 2,
   "source": [
    "class TreeNode():\r\n",
    "    def __init__(self, val=0, left=None, right=None):\r\n",
    "        self.val = val\r\n",
    "        self.left = left\r\n",
    "        self.right = right"
   ],
   "outputs": [],
   "metadata": {}
  },
  {
   "cell_type": "code",
   "execution_count": 3,
   "source": [
    "def createBTree(TreeList: list, index: int) -> TreeNode:\r\n",
    "    pNode = None\r\n",
    "    if index < len(TreeList):\r\n",
    "        if TreeList[index] == None:\r\n",
    "            return\r\n",
    "\r\n",
    "        pNode = TreeNode(TreeList[index])\r\n",
    "        pNode.left = createBTree(TreeList, 2 * index + 1)\r\n",
    "        pNode.right = createBTree(TreeList, 2 * index + 2)\r\n",
    "\r\n",
    "    return pNode"
   ],
   "outputs": [],
   "metadata": {}
  },
  {
   "cell_type": "code",
   "execution_count": 4,
   "source": [
    "root_1 = createBTree(input_1, 0)\r\n",
    "root_2 = createBTree(input_2, 0)"
   ],
   "outputs": [],
   "metadata": {}
  },
  {
   "cell_type": "code",
   "execution_count": 5,
   "source": [
    "class Solution:\r\n",
    "    result: int = 0\r\n",
    "\r\n",
    "    def longestUnivaluePath(self, root: TreeNode) -> int:\r\n",
    "        def dfs(node: TreeNode):\r\n",
    "            if node is None:\r\n",
    "                return 0\r\n",
    "\r\n",
    "            left = dfs(node.left)\r\n",
    "            right = dfs(node.right)\r\n",
    "\r\n",
    "            if node.left and node.left.val == node.val:\r\n",
    "                left += 1\r\n",
    "            else:\r\n",
    "                left = 0\r\n",
    "            if node.right and node.right.val == node.val:\r\n",
    "                right += 1\r\n",
    "            else:\r\n",
    "                right = 0\r\n",
    "            \r\n",
    "            self.result = max(self.result, left + right)\r\n",
    "\r\n",
    "            return max(left, right)\r\n",
    "    \r\n",
    "        dfs(root)\r\n",
    "        \r\n",
    "        return self.result\r\n",
    "    "
   ],
   "outputs": [],
   "metadata": {}
  },
  {
   "cell_type": "code",
   "execution_count": 6,
   "source": [
    "print(Solution().longestUnivaluePath(root_1))\r\n",
    "print(Solution().longestUnivaluePath(root_2))"
   ],
   "outputs": [
    {
     "output_type": "stream",
     "name": "stdout",
     "text": [
      "2\n",
      "2\n"
     ]
    }
   ],
   "metadata": {}
  },
  {
   "cell_type": "code",
   "execution_count": null,
   "source": [],
   "outputs": [],
   "metadata": {}
  }
 ]
}