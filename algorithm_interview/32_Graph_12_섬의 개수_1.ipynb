{
 "cells": [
  {
   "cell_type": "code",
   "execution_count": 3,
   "metadata": {},
   "outputs": [],
   "source": [
    "input_1 = [[1, 1, 1, 1, 0],\n",
    "           [1, 1, 0, 1, 0],\n",
    "           [1, 1, 0, 0, 0],\n",
    "           [0, 0, 0, 0, 0]]\n",
    "\n",
    "input_2 = [[1, 1, 0, 0, 0],\n",
    "           [1, 1, 0, 0, 0],\n",
    "           [0, 0, 1, 0, 0],\n",
    "           [0, 0, 0, 1, 1]]"
   ]
  },
  {
   "cell_type": "code",
   "execution_count": 10,
   "metadata": {},
   "outputs": [],
   "source": [
    "def numIsland(grid: [[int]]) -> int:\n",
    "    def dfs(i, j):\n",
    "        if i < 0 or i >= len(grid) or j < 0 or j >= len(grid) or grid[i][j] != 1:\n",
    "            return\n",
    "        \n",
    "        grid[i][j] = 0\n",
    "        dfs(i + 1, j)\n",
    "        dfs(i - 1, j)\n",
    "        dfs(i, j + 1)\n",
    "        dfs(i, j - 1)\n",
    "        \n",
    "    count = 0\n",
    "    \n",
    "    for i in range(len(grid)):\n",
    "        for j in range(len(grid)):\n",
    "            if grid[i][j] == 1:\n",
    "                dfs(i, j)\n",
    "                count += 1\n",
    "    return count"
   ]
  },
  {
   "cell_type": "code",
   "execution_count": 11,
   "metadata": {},
   "outputs": [
    {
     "data": {
      "text/plain": [
       "1"
      ]
     },
     "execution_count": 11,
     "metadata": {},
     "output_type": "execute_result"
    }
   ],
   "source": [
    "numIsland(input_1)"
   ]
  },
  {
   "cell_type": "code",
   "execution_count": 12,
   "metadata": {},
   "outputs": [
    {
     "data": {
      "text/plain": [
       "3"
      ]
     },
     "execution_count": 12,
     "metadata": {},
     "output_type": "execute_result"
    }
   ],
   "source": [
    "numIsland(input_2)"
   ]
  },
  {
   "cell_type": "code",
   "execution_count": 1,
   "metadata": {},
   "outputs": [
    {
     "data": {
      "text/plain": [
       "3"
      ]
     },
     "execution_count": 1,
     "metadata": {},
     "output_type": "execute_result"
    }
   ],
   "source": [
    "len([[], [], []])"
   ]
  },
  {
   "cell_type": "code",
   "execution_count": null,
   "metadata": {},
   "outputs": [],
   "source": []
  }
 ],
 "metadata": {
  "interpreter": {
   "hash": "6d1a3e62e6baacc997e7fd515824b0551567c542b1e37c125c97fb608db7a38d"
  },
  "kernelspec": {
   "display_name": "Python 3.8.5 64-bit ('algorithm': conda)",
   "name": "python3"
  },
  "language_info": {
   "codemirror_mode": {
    "name": "ipython",
    "version": 3
   },
   "file_extension": ".py",
   "mimetype": "text/x-python",
   "name": "python",
   "nbconvert_exporter": "python",
   "pygments_lexer": "ipython3",
   "version": "3.8.5"
  },
  "orig_nbformat": 2
 },
 "nbformat": 4,
 "nbformat_minor": 2
}
