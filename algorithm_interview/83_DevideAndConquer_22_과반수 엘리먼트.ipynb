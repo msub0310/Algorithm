{
 "metadata": {
  "language_info": {
   "codemirror_mode": {
    "name": "ipython",
    "version": 3
   },
   "file_extension": ".py",
   "mimetype": "text/x-python",
   "name": "python",
   "nbconvert_exporter": "python",
   "pygments_lexer": "ipython3",
   "version": "3.8.5"
  },
  "orig_nbformat": 2,
  "kernelspec": {
   "name": "python3",
   "display_name": "Python 3.8.5 64-bit ('algorithm': conda)"
  },
  "interpreter": {
   "hash": "6d1a3e62e6baacc997e7fd515824b0551567c542b1e37c125c97fb608db7a38d"
  }
 },
 "nbformat": 4,
 "nbformat_minor": 2,
 "cells": [
  {
   "cell_type": "code",
   "execution_count": 1,
   "source": [
    "input_1 = [3, 2, 3]\r\n",
    "input_2 = [2, 2, 1, 1, 1, 2, 2]\r\n",
    "\r\n",
    "print(input_1)\r\n",
    "print(input_2)"
   ],
   "outputs": [
    {
     "output_type": "stream",
     "name": "stdout",
     "text": [
      "[3, 2, 3]\n",
      "[2, 2, 1, 1, 1, 2, 2]\n"
     ]
    }
   ],
   "metadata": {}
  },
  {
   "cell_type": "code",
   "execution_count": 8,
   "source": [
    "# 내 풀이, Counter\r\n",
    "import collections\r\n",
    "def majorityElementBuiltIn(nums: [int]) -> int:\r\n",
    "    return collections.Counter(nums).most_common()[0][0]"
   ],
   "outputs": [],
   "metadata": {}
  },
  {
   "cell_type": "code",
   "execution_count": 9,
   "source": [
    "print(majorityElementBuiltIn(input_1))\r\n",
    "print(majorityElementBuiltIn(input_2))"
   ],
   "outputs": [
    {
     "output_type": "stream",
     "name": "stdout",
     "text": [
      "3\n",
      "2\n"
     ]
    }
   ],
   "metadata": {}
  },
  {
   "cell_type": "code",
   "execution_count": 10,
   "source": [
    "def majorityElementBF(nums: [int]) -> int:\r\n",
    "    for num in nums:\r\n",
    "        if nums.count(num) > len(nums) // 2:\r\n",
    "            return num"
   ],
   "outputs": [],
   "metadata": {}
  },
  {
   "cell_type": "code",
   "execution_count": 11,
   "source": [
    "print(majorityElementBF(input_1))\r\n",
    "print(majorityElementBF(input_2))"
   ],
   "outputs": [
    {
     "output_type": "stream",
     "name": "stdout",
     "text": [
      "3\n",
      "2\n"
     ]
    }
   ],
   "metadata": {}
  },
  {
   "cell_type": "code",
   "execution_count": 12,
   "source": [
    "import collections\r\n",
    "def majorityElementDP(nums: [int]) -> int:\r\n",
    "    counts = collections.defaultdict(int)\r\n",
    "    for num in nums:\r\n",
    "        if counts[num] == 0:\r\n",
    "            counts[num] = nums.count(num)\r\n",
    "\r\n",
    "        if counts[num] > len(nums) // 2:\r\n",
    "            return num"
   ],
   "outputs": [],
   "metadata": {}
  },
  {
   "cell_type": "code",
   "execution_count": 13,
   "source": [
    "print(majorityElementDP(input_1))\r\n",
    "print(majorityElementDP(input_2))"
   ],
   "outputs": [
    {
     "output_type": "stream",
     "name": "stdout",
     "text": [
      "3\n",
      "2\n"
     ]
    }
   ],
   "metadata": {}
  },
  {
   "cell_type": "code",
   "execution_count": 14,
   "source": [
    "def majorityElementPythonic(nums: [int]) -> int:\r\n",
    "    return sorted(nums)[len(nums) // 2]"
   ],
   "outputs": [],
   "metadata": {}
  },
  {
   "cell_type": "code",
   "execution_count": 15,
   "source": [
    "print(majorityElementPythonic(input_1))\r\n",
    "print(majorityElementPythonic(input_2))"
   ],
   "outputs": [
    {
     "output_type": "stream",
     "name": "stdout",
     "text": [
      "3\n",
      "2\n"
     ]
    }
   ],
   "metadata": {}
  },
  {
   "cell_type": "code",
   "execution_count": 16,
   "source": [
    "def majorityElementDC(nums: [int]) -> int:\r\n",
    "    if not nums:\r\n",
    "        return None\r\n",
    "    if len(nums) == 1:\r\n",
    "        return nums[0]\r\n",
    "    \r\n",
    "    half = len(nums) // 2\r\n",
    "    a = majorityElementDC(nums[:half])\r\n",
    "    b = majorityElementDC(nums[half:])\r\n",
    "\r\n",
    "    return [b, a][nums.count(a) > half]"
   ],
   "outputs": [],
   "metadata": {}
  },
  {
   "cell_type": "code",
   "execution_count": 17,
   "source": [
    "print(majorityElementDC(input_1))\r\n",
    "print(majorityElementDC(input_2))"
   ],
   "outputs": [
    {
     "output_type": "stream",
     "name": "stdout",
     "text": [
      "3\n",
      "2\n"
     ]
    }
   ],
   "metadata": {}
  },
  {
   "cell_type": "code",
   "execution_count": null,
   "source": [],
   "outputs": [],
   "metadata": {}
  }
 ]
}