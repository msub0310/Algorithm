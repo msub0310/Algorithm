{
 "metadata": {
  "language_info": {
   "codemirror_mode": {
    "name": "ipython",
    "version": 3
   },
   "file_extension": ".py",
   "mimetype": "text/x-python",
   "name": "python",
   "nbconvert_exporter": "python",
   "pygments_lexer": "ipython3",
   "version": "3.8.5"
  },
  "orig_nbformat": 2,
  "kernelspec": {
   "name": "python3",
   "display_name": "Python 3.8.5 64-bit ('algorithm': conda)"
  },
  "interpreter": {
   "hash": "6d1a3e62e6baacc997e7fd515824b0551567c542b1e37c125c97fb608db7a38d"
  }
 },
 "nbformat": 4,
 "nbformat_minor": 2,
 "cells": [
  {
   "cell_type": "code",
   "execution_count": 33,
   "source": [
    "class ListNode():\r\n",
    "    def __init__(self, x):\r\n",
    "        self.val = x\r\n",
    "        self.next = None"
   ],
   "outputs": [],
   "metadata": {}
  },
  {
   "cell_type": "code",
   "execution_count": 40,
   "source": [
    "class MyCircularDeque:\r\n",
    "    def __init__(self, k: int):\r\n",
    "        self.head, self.tail = ListNode(None), ListNode(None)\r\n",
    "        self.k, self.len = k, 0\r\n",
    "        self.head.right, self.tail.left = self.tail, self.head\r\n",
    "\r\n",
    "    def _add(self, node: ListNode, new: ListNode):\r\n",
    "        n = node.right\r\n",
    "        node.right = new\r\n",
    "        new.left, new.right = node, n\r\n",
    "        n.left = new\r\n",
    "\r\n",
    "    def _del(self, node: ListNode):\r\n",
    "        n = node.right.right\r\n",
    "        node.right = n\r\n",
    "        n.left = node\r\n",
    "        \r\n",
    "    def insertFront(self, value: int) -> bool:\r\n",
    "        if self.len == self.k:\r\n",
    "            return False\r\n",
    "        self.len += 1\r\n",
    "        self._add(self.head, ListNode(value))\r\n",
    "        return True\r\n",
    "\r\n",
    "    def insertLast(self, value: int) -> bool:\r\n",
    "        if self.len == self.k:\r\n",
    "            return False\r\n",
    "        self.len += 1\r\n",
    "        self._add(self.tail.left, ListNode(value))\r\n",
    "        return True\r\n",
    "    \r\n",
    "    def deleteFront(self) -> bool:\r\n",
    "        if self.len == 0:\r\n",
    "            return False\r\n",
    "        self.len -= 1\r\n",
    "        self._del(self.head)\r\n",
    "        return True\r\n",
    "\r\n",
    "    def deleteLast(self) -> bool:\r\n",
    "        if self.len == 0:\r\n",
    "            return False\r\n",
    "        self.len -= 1\r\n",
    "        self._del(self.tail.left.left)\r\n",
    "        return True\r\n",
    "\r\n",
    "    def getFront(self) -> int:\r\n",
    "        return self.head.right.val if self.len else -1\r\n",
    "\r\n",
    "    def getRear(self) -> int:\r\n",
    "        return self.tail.left.val if self.len else -1\r\n",
    "\r\n",
    "    def isEmpty(self) -> bool:\r\n",
    "        return self.len == 0\r\n",
    "\r\n",
    "    def isFull(self) -> bool:\r\n",
    "        return self.len == self.k"
   ],
   "outputs": [],
   "metadata": {}
  },
  {
   "cell_type": "code",
   "execution_count": 73,
   "source": [
    "mycirculardeque = MyCircularDeque(10)\r\n",
    "\r\n",
    "i = 0\r\n",
    "while not mycirculardeque.isFull():\r\n",
    "    mycirculardeque.insertFront(i + 1)\r\n",
    "    print(mycirculardeque.len)\r\n",
    "\r\n",
    "    mycirculardeque.insertLast(99 - i)\r\n",
    "    print(mycirculardeque.len)\r\n",
    "\r\n",
    "    i += 1\r\n",
    "\r\n",
    "mycirculardeque.isFull()"
   ],
   "outputs": [
    {
     "output_type": "stream",
     "name": "stdout",
     "text": [
      "1\n",
      "2\n",
      "3\n",
      "4\n",
      "5\n",
      "6\n",
      "7\n",
      "8\n",
      "9\n",
      "10\n"
     ]
    },
    {
     "output_type": "execute_result",
     "data": {
      "text/plain": [
       "True"
      ]
     },
     "metadata": {},
     "execution_count": 73
    }
   ],
   "metadata": {}
  },
  {
   "cell_type": "code",
   "execution_count": 74,
   "source": [
    "while not mycirculardeque.isEmpty():\r\n",
    "    print(\"GET FIRST\\t\", \"VAL: \\t\", mycirculardeque.getFront(), \"\\tLEN: \\t\", mycirculardeque.len)\r\n",
    "    mycirculardeque.deleteFront()\r\n",
    "\r\n",
    "    print(\"GET LAST\\t\", \"VAL: \\t\", mycirculardeque.getRear(), \"\\tLEN: \\t\", mycirculardeque.len)\r\n",
    "    mycirculardeque.deleteLast()"
   ],
   "outputs": [
    {
     "output_type": "stream",
     "name": "stdout",
     "text": [
      "GET FIRST\t VAL: \t 5 \tLEN: \t 10\n",
      "GET LAST\t VAL: \t 95 \tLEN: \t 9\n",
      "GET FIRST\t VAL: \t 4 \tLEN: \t 8\n",
      "GET LAST\t VAL: \t 96 \tLEN: \t 7\n",
      "GET FIRST\t VAL: \t 3 \tLEN: \t 6\n",
      "GET LAST\t VAL: \t 97 \tLEN: \t 5\n",
      "GET FIRST\t VAL: \t 2 \tLEN: \t 4\n",
      "GET LAST\t VAL: \t 98 \tLEN: \t 3\n",
      "GET FIRST\t VAL: \t 1 \tLEN: \t 2\n",
      "GET LAST\t VAL: \t 99 \tLEN: \t 1\n"
     ]
    }
   ],
   "metadata": {}
  },
  {
   "cell_type": "code",
   "execution_count": null,
   "source": [],
   "outputs": [],
   "metadata": {}
  },
  {
   "cell_type": "code",
   "execution_count": null,
   "source": [],
   "outputs": [],
   "metadata": {}
  }
 ]
}