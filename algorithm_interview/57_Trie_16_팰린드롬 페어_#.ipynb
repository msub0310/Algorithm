{
 "metadata": {
  "language_info": {
   "codemirror_mode": {
    "name": "ipython",
    "version": 3
   },
   "file_extension": ".py",
   "mimetype": "text/x-python",
   "name": "python",
   "nbconvert_exporter": "python",
   "pygments_lexer": "ipython3",
   "version": "3.8.5"
  },
  "orig_nbformat": 2,
  "kernelspec": {
   "name": "python3",
   "display_name": "Python 3.8.5 64-bit ('algorithm': conda)"
  },
  "interpreter": {
   "hash": "6d1a3e62e6baacc997e7fd515824b0551567c542b1e37c125c97fb608db7a38d"
  }
 },
 "nbformat": 4,
 "nbformat_minor": 2,
 "cells": [
  {
   "cell_type": "code",
   "execution_count": 39,
   "source": [
    "input_1 = [\"abcd\", \"dcba\", \"lls\", \"s\", \"sssll\"]\r\n",
    "input_2 = [\"bat\", \"tab\", \"cat\"]\r\n",
    "\r\n",
    "print(input_1)\r\n",
    "print(input_2)"
   ],
   "outputs": [
    {
     "output_type": "stream",
     "name": "stdout",
     "text": [
      "['abcd', 'dcba', 'lls', 's', 'sssll']\n",
      "['bat', 'tab', 'cat']\n"
     ]
    }
   ],
   "metadata": {}
  },
  {
   "cell_type": "code",
   "execution_count": 19,
   "source": [
    "# 내 풀이, brute force\r\n",
    "def palindromePairs(words = [str]) -> [[int]]:\r\n",
    "    output = []\r\n",
    "    for i, word_i in enumerate(words):\r\n",
    "        for j, word_j in enumerate(words):\r\n",
    "            if i == j:\r\n",
    "                continue\r\n",
    "            word = word_i + word_j\r\n",
    "            if word == word[::-1]:\r\n",
    "                output.append([i, j])\r\n",
    "\r\n",
    "    return output"
   ],
   "outputs": [],
   "metadata": {}
  },
  {
   "cell_type": "code",
   "execution_count": 21,
   "source": [
    "print(palindromePairs(input_1))\r\n",
    "print(palindromePairs(input_2))"
   ],
   "outputs": [
    {
     "output_type": "stream",
     "name": "stdout",
     "text": [
      "[[0, 1], [1, 0], [2, 4], [3, 2]]\n",
      "[[0, 1], [1, 0]]\n"
     ]
    }
   ],
   "metadata": {}
  },
  {
   "cell_type": "code",
   "execution_count": 46,
   "source": [
    "### 다시 보기\r\n",
    "\r\n",
    "import collections\r\n",
    "\r\n",
    "class TrieNode:\r\n",
    "    def __init__(self):\r\n",
    "        self.children = collections.defaultdict(TrieNode)\r\n",
    "        self.word_id = -1\r\n",
    "        self.palindrome_word_ids = []\r\n",
    "\r\n",
    "class Trie:\r\n",
    "    def __init__(self):\r\n",
    "        self.root = TrieNode()\r\n",
    "\r\n",
    "    @staticmethod\r\n",
    "    def is_palindrome(word: str) -> bool:\r\n",
    "        return word[::] == word[::-1]\r\n",
    "\r\n",
    "    def insert(self, index, word) -> None:\r\n",
    "        node = self.root\r\n",
    "        for i, char in enumerate(reversed(word)):\r\n",
    "            if self.is_palindrome(word[0 : len(word) - i]):\r\n",
    "                node.palindrome_word_ids.append(index)\r\n",
    "            node = node.children[char]\r\n",
    "            node.val = char\r\n",
    "        node.word_id = index\r\n",
    "    \r\n",
    "    def search(self, index, word) -> [[int]]:\r\n",
    "        result = []\r\n",
    "        node = self.root\r\n",
    "\r\n",
    "        while word:\r\n",
    "            if node.word_id >= 0:\r\n",
    "                if self.is_palindrome(word):\r\n",
    "                    result.append([index, node.word_id])\r\n",
    "            if not word[0] in node.children:\r\n",
    "                return result\r\n",
    "            node = node.children[word[0]]\r\n",
    "            word = word[1:]\r\n",
    "\r\n",
    "        if node.word_id >= 0 and node.word_id != index:\r\n",
    "            result.append([index, node.word_id])\r\n",
    "\r\n",
    "        for palindrome_word_ids in node.palindrome_word_ids:\r\n",
    "            result.append([index, palindrome_word_ids])\r\n",
    "\r\n",
    "        return result\r\n",
    "\r\n",
    "class Solution:\r\n",
    "    def palindromePairs(self, words: [str]) -> [[int]]:\r\n",
    "        trie = Trie()\r\n",
    "\r\n",
    "        for i, word in enumerate(words):\r\n",
    "            trie.insert(i, word)\r\n",
    "\r\n",
    "        results = []\r\n",
    "        for i, word in enumerate(words):\r\n",
    "            results.extend(trie.search(i, word))\r\n",
    "\r\n",
    "        return results"
   ],
   "outputs": [],
   "metadata": {}
  },
  {
   "cell_type": "code",
   "execution_count": 48,
   "source": [
    "print(Solution().palindromePairs(input_1))\r\n",
    "print(Solution().palindromePairs(input_2))"
   ],
   "outputs": [
    {
     "output_type": "stream",
     "name": "stdout",
     "text": [
      "[[0, 1], [1, 0], [2, 4], [3, 2]]\n",
      "[[0, 1], [1, 0]]\n"
     ]
    }
   ],
   "metadata": {}
  },
  {
   "cell_type": "code",
   "execution_count": null,
   "source": [],
   "outputs": [],
   "metadata": {}
  }
 ]
}