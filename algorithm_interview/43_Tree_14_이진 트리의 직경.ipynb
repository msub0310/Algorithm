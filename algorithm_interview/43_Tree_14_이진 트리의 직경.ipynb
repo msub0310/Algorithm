{
 "metadata": {
  "language_info": {
   "codemirror_mode": {
    "name": "ipython",
    "version": 3
   },
   "file_extension": ".py",
   "mimetype": "text/x-python",
   "name": "python",
   "nbconvert_exporter": "python",
   "pygments_lexer": "ipython3",
   "version": "3.8.5"
  },
  "orig_nbformat": 2,
  "kernelspec": {
   "name": "python3",
   "display_name": "Python 3.8.5 64-bit ('algorithm': conda)"
  },
  "interpreter": {
   "hash": "6d1a3e62e6baacc997e7fd515824b0551567c542b1e37c125c97fb608db7a38d"
  }
 },
 "nbformat": 4,
 "nbformat_minor": 2,
 "cells": [
  {
   "cell_type": "code",
   "execution_count": 61,
   "source": [
    "input_1 = [i for i in range(1, 6)]\r\n",
    "\r\n",
    "input_1"
   ],
   "outputs": [
    {
     "output_type": "execute_result",
     "data": {
      "text/plain": [
       "[1, 2, 3, 4, 5]"
      ]
     },
     "metadata": {},
     "execution_count": 61
    }
   ],
   "metadata": {}
  },
  {
   "cell_type": "code",
   "execution_count": 62,
   "source": [
    "class TreeNode():\r\n",
    "    def __init__(self, val=0, left=None, right=None):\r\n",
    "        self.val = val\r\n",
    "        self.left = left\r\n",
    "        self.right = right"
   ],
   "outputs": [],
   "metadata": {}
  },
  {
   "cell_type": "code",
   "execution_count": 63,
   "source": [
    "def createBTree(treeList: [int], index: int) -> TreeNode:\r\n",
    "    pNode = None\r\n",
    "    if index < len(treeList):\r\n",
    "        if treeList[index] == None:\r\n",
    "            return\r\n",
    "        pNode = TreeNode(treeList[index])\r\n",
    "        pNode.left = createBTree(treeList, 2 * index + 1)\r\n",
    "        pNode.right = createBTree(treeList, 2 * index + 2)\r\n",
    "    return pNode"
   ],
   "outputs": [],
   "metadata": {}
  },
  {
   "cell_type": "code",
   "execution_count": 64,
   "source": [
    "root = createBTree(input_1, 0)"
   ],
   "outputs": [],
   "metadata": {}
  },
  {
   "cell_type": "code",
   "execution_count": 65,
   "source": [
    "class Solution:\r\n",
    "    longest: int = 0\r\n",
    "\r\n",
    "    def diameterOfBinaryTree(self, root: TreeNode) -> int:\r\n",
    "        def dfs(node: TreeNode) -> int:\r\n",
    "            if not node:\r\n",
    "                return -1\r\n",
    "\r\n",
    "            left = dfs(node.left)\r\n",
    "            right = dfs(node.right)\r\n",
    "\r\n",
    "            self.longest = max(self.longest, left + right + 2)\r\n",
    "\r\n",
    "            return max(left, right) + 1\r\n",
    "        \r\n",
    "        dfs(root)\r\n",
    "        return self.longest"
   ],
   "outputs": [],
   "metadata": {}
  },
  {
   "cell_type": "code",
   "execution_count": 66,
   "source": [
    "Solution().diameterOfBinaryTree(root)"
   ],
   "outputs": [
    {
     "output_type": "execute_result",
     "data": {
      "text/plain": [
       "3"
      ]
     },
     "metadata": {},
     "execution_count": 66
    }
   ],
   "metadata": {}
  },
  {
   "cell_type": "code",
   "execution_count": null,
   "source": [],
   "outputs": [],
   "metadata": {}
  }
 ]
}