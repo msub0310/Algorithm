{
 "metadata": {
  "language_info": {
   "codemirror_mode": {
    "name": "ipython",
    "version": 3
   },
   "file_extension": ".py",
   "mimetype": "text/x-python",
   "name": "python",
   "nbconvert_exporter": "python",
   "pygments_lexer": "ipython3",
   "version": "3.8.5"
  },
  "orig_nbformat": 2,
  "kernelspec": {
   "name": "python3",
   "display_name": "Python 3.8.5 64-bit ('algorithm': conda)"
  },
  "interpreter": {
   "hash": "6d1a3e62e6baacc997e7fd515824b0551567c542b1e37c125c97fb608db7a38d"
  }
 },
 "nbformat": 4,
 "nbformat_minor": 2,
 "cells": [
  {
   "cell_type": "code",
   "execution_count": 1,
   "source": [
    "class ListNode:\r\n",
    "    def __init__(self, key=None, value=None):\r\n",
    "        self.key = key\r\n",
    "        self.value = value\r\n",
    "        self.next = None"
   ],
   "outputs": [],
   "metadata": {}
  },
  {
   "cell_type": "code",
   "execution_count": 2,
   "source": [
    "import collections\r\n",
    "\r\n",
    "class MyHashMap:\r\n",
    "    def __init__(self):\r\n",
    "        self.size = 1000\r\n",
    "        self.table = collections.defaultdict(ListNode)\r\n",
    "\r\n",
    "    def put(self, key: int, value: int) -> None:\r\n",
    "        index = key % self.size\r\n",
    "\r\n",
    "        if self.table[index].values is None:\r\n",
    "            self.table[index] = ListNode(key, value)\r\n",
    "            return\r\n",
    "\r\n",
    "        p = self.table[index]\r\n",
    "        while p:\r\n",
    "            if p.key == key:\r\n",
    "                return\r\n",
    "            if p.next is None:\r\n",
    "                break\r\n",
    "            p = p.next\r\n",
    "        p.next = ListNode(key, value)\r\n",
    "\r\n",
    "    def get(self, key: int) -> int:\r\n",
    "        index = key % self.size\r\n",
    "        if self.table[index].value is None:\r\n",
    "            return -1\r\n",
    "\r\n",
    "        p = self.table[index]\r\n",
    "        while p:\r\n",
    "            if p.key == key:\r\n",
    "                return p.value\r\n",
    "            p = p.next\r\n",
    "        return -1\r\n",
    "\r\n",
    "    def remove(self, key: int) -> None:\r\n",
    "        index = key % self.size\r\n",
    "        if self.table[index].value is None:\r\n",
    "            return\r\n",
    "\r\n",
    "        p = self.table[index]\r\n",
    "        if p.key == key:\r\n",
    "            self.table[index] = ListNode() if p.next is None else p.next\r\n",
    "            return\r\n",
    "\r\n",
    "        prev = p\r\n",
    "        while p:\r\n",
    "            if p.key == key:\r\n",
    "                prev.next = p.next\r\n",
    "                return\r\n",
    "            prev, p = p, p.next"
   ],
   "outputs": [],
   "metadata": {}
  },
  {
   "cell_type": "code",
   "execution_count": null,
   "source": [],
   "outputs": [],
   "metadata": {}
  }
 ]
}