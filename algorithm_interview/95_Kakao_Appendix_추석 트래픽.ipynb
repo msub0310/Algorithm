{
 "metadata": {
  "language_info": {
   "codemirror_mode": {
    "name": "ipython",
    "version": 3
   },
   "file_extension": ".py",
   "mimetype": "text/x-python",
   "name": "python",
   "nbconvert_exporter": "python",
   "pygments_lexer": "ipython3",
   "version": "3.8.5"
  },
  "orig_nbformat": 2,
  "kernelspec": {
   "name": "python3",
   "display_name": "Python 3.8.5 64-bit ('algorithm': conda)"
  },
  "interpreter": {
   "hash": "6d1a3e62e6baacc997e7fd515824b0551567c542b1e37c125c97fb608db7a38d"
  }
 },
 "nbformat": 4,
 "nbformat_minor": 2,
 "cells": [
  {
   "cell_type": "code",
   "execution_count": 13,
   "source": [
    "lines = [\"2016-09-15 01:00:04.001 2.0s\", \"2016-09-15 01:00:07.000 2s\"]"
   ],
   "outputs": [],
   "metadata": {}
  },
  {
   "cell_type": "code",
   "execution_count": 14,
   "source": [
    "#lines = [\"2016-09-15 01:00:04.002 2.0s\", \"2016-09-15 01:00:07.000 2s\"]"
   ],
   "outputs": [],
   "metadata": {}
  },
  {
   "cell_type": "code",
   "execution_count": 15,
   "source": [
    "#lines = [\"2016-09-15 20:59:57.421 0.351s\", \"2016-09-15 20:59:58.233 1.181s\", \"2016-09-15 20:59:58.299 0.8s\",\r\n",
    "#         \"2016-09-15 20:59:58.688 1.041s\", \"2019-09-15 20:59:59.591 1.412s\", \"2016-09-15 21:00:00.464 1.466s\",\r\n",
    "#         \"2016-09-15 21:00:00.741 1.581s\", \"2016-09-15 21:00:00.748 2.31s\",  \"2016-09-15 21:00:00.966 0.381s\",\r\n",
    "#         \"2016-09-15 21:00:02.066 2.62s\"]"
   ],
   "outputs": [],
   "metadata": {}
  },
  {
   "cell_type": "code",
   "execution_count": 16,
   "source": [
    "def solution(lines: [str]) -> int:\r\n",
    "    def preprocess(line: str) -> [float, float]:\r\n",
    "        time, process = line.split(\" \")[1], float(line.split(\" \")[2][:-1])\r\n",
    "        \r\n",
    "        h, m, s = time.split(\":\")\r\n",
    "        h, m, s = float(h), float(m), float(s)\r\n",
    "        \r\n",
    "        secondEnd = round(3600 * h + 60 * m + s, 3)\r\n",
    "        secondStart = round(secondEnd - process + 0.001, 3)\r\n",
    "        \r\n",
    "        return [secondStart, secondEnd]\r\n",
    "\r\n",
    "    lineLogs = []\r\n",
    "    for line in lines:\r\n",
    "        start, end = preprocess(line)\r\n",
    "\r\n",
    "        lineLogs.append([start, end])\r\n",
    "    times = sorted([y for x in lineLogs for y in x])\r\n",
    "\r\n",
    "    maxTraffic = 0\r\n",
    "    for time in times:\r\n",
    "        curTraffic = 0\r\n",
    "        for log in lineLogs:\r\n",
    "            if (log[0] <= time and log[1] >= time) or (log[0] <= round(time + 0.999, 3) and log[1] >= round(time + 0.999, 3)):\r\n",
    "                curTraffic += 1\r\n",
    "        maxTraffic = max(maxTraffic, curTraffic)\r\n",
    "    return maxTraffic"
   ],
   "outputs": [],
   "metadata": {}
  },
  {
   "cell_type": "code",
   "execution_count": 17,
   "source": [
    "solution(lines)"
   ],
   "outputs": [
    {
     "output_type": "execute_result",
     "data": {
      "text/plain": [
       "1"
      ]
     },
     "metadata": {},
     "execution_count": 17
    }
   ],
   "metadata": {}
  },
  {
   "cell_type": "code",
   "execution_count": 18,
   "source": [
    "import datetime\r\n",
    "def solutionClean(lines: [str]) -> int:\r\n",
    "    combined_logs = []\r\n",
    "    for log in lines:\r\n",
    "        logs = log.split(\" \")\r\n",
    "        timestamp = datetime.datetime.strptime(logs[0] + \" \" + logs[1], \"%Y-%m-%d %H:%M:%S.%f\").timestamp()\r\n",
    "        combined_logs.append((timestamp, -1))\r\n",
    "        combined_logs.append((timestamp - float(logs[2][:-1]) + 0.001, 1))\r\n",
    "\r\n",
    "    accumulated = 0\r\n",
    "    max_requests = 1\r\n",
    "    combined_logs.sort(key=lambda x: x[0])\r\n",
    "    for i, elem1 in enumerate(combined_logs):\r\n",
    "        current = accumulated\r\n",
    "\r\n",
    "        for elem2 in combined_logs[i:]:\r\n",
    "            if elem2[0] - elem1[0] > 0.999:\r\n",
    "                break\r\n",
    "            if elem2[1] > 0:\r\n",
    "                current += elem2[1]\r\n",
    "        max_requests = max(max_requests, current)\r\n",
    "        accumulated += elem1[1]\r\n",
    "    return max_requests"
   ],
   "outputs": [],
   "metadata": {}
  },
  {
   "cell_type": "code",
   "execution_count": 19,
   "source": [
    "solutionClean(lines)"
   ],
   "outputs": [
    {
     "output_type": "execute_result",
     "data": {
      "text/plain": [
       "1"
      ]
     },
     "metadata": {},
     "execution_count": 19
    }
   ],
   "metadata": {}
  },
  {
   "cell_type": "code",
   "execution_count": null,
   "source": [
    "#def preprocess(line: str) -> [float, float]:\r\n",
    "#    time, process = line.split(\" \")[1], float(line.split(\" \")[2][:-1])\r\n",
    "#    h, m, s = time.split(\":\")\r\n",
    "#    h, m, s = float(h), float(m), float(s)\r\n",
    "#    secondEnd = round(3600 * h + 60 * m + s, 3)\r\n",
    "#    secondStart = round(secondEnd - process + 0.001, 3)\r\n",
    "#    return [secondStart, secondEnd]"
   ],
   "outputs": [],
   "metadata": {}
  },
  {
   "cell_type": "code",
   "execution_count": null,
   "source": [
    "#lineLogs = []\r\n",
    "#for line in lines:\r\n",
    "#    start, end = preprocess(line)\r\n",
    "#\r\n",
    "#    lineLogs.append([start, end])\r\n",
    "#times = sorted([y for x in lineLogs for y in x])"
   ],
   "outputs": [],
   "metadata": {}
  },
  {
   "cell_type": "code",
   "execution_count": null,
   "source": [
    "#maxTraffic = 0\r\n",
    "#for time in times:\r\n",
    "#    curTraffic = 0\r\n",
    "#    for log in lineLogs:\r\n",
    "#        if (log[0] <= time and log[1] >= time) or (log[0] <= round(time + 0.999, 3) and log[1] >= round(time + 0.999, 3)):\r\n",
    "#            curTraffic += 1\r\n",
    "#    maxTraffic = max(maxTraffic, curTraffic)\r\n",
    "#maxTraffic"
   ],
   "outputs": [],
   "metadata": {}
  },
  {
   "cell_type": "code",
   "execution_count": null,
   "source": [],
   "outputs": [],
   "metadata": {}
  }
 ]
}