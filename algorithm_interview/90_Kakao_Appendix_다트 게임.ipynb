{
 "metadata": {
  "language_info": {
   "codemirror_mode": {
    "name": "ipython",
    "version": 3
   },
   "file_extension": ".py",
   "mimetype": "text/x-python",
   "name": "python",
   "nbconvert_exporter": "python",
   "pygments_lexer": "ipython3",
   "version": "3.8.5"
  },
  "orig_nbformat": 2,
  "kernelspec": {
   "name": "python3",
   "display_name": "Python 3.8.5 64-bit ('algorithm': conda)"
  },
  "interpreter": {
   "hash": "6d1a3e62e6baacc997e7fd515824b0551567c542b1e37c125c97fb608db7a38d"
  }
 },
 "nbformat": 4,
 "nbformat_minor": 2,
 "cells": [
  {
   "cell_type": "code",
   "execution_count": 103,
   "source": [
    "dartResult = \"1S2D*3T\"\r\n",
    "dartResult = \"1D2S#10S\""
   ],
   "outputs": [],
   "metadata": {}
  },
  {
   "cell_type": "code",
   "execution_count": 104,
   "source": [
    "# 다시 보기\r\n",
    "nums = [0]\r\n",
    "for s in dartResult:\r\n",
    "    if s == \"S\":\r\n",
    "        nums[-1] **= 1\r\n",
    "        nums.append(0)\r\n",
    "    elif s == \"D\":\r\n",
    "        nums[-1] **= 2\r\n",
    "        nums.append(0)\r\n",
    "    elif s == \"T\":\r\n",
    "        nums[-1] **= 3\r\n",
    "        nums.append(0)\r\n",
    "    elif s == \"*\":\r\n",
    "        nums[-2] *= 2\r\n",
    "        if len(nums) > 2:\r\n",
    "            nums[-3] *= 2\r\n",
    "    elif s == \"#\":\r\n",
    "        nums[-2] *= -1\r\n",
    "    else:\r\n",
    "        nums[-1] = nums[-1] * 10 + int(s)\r\n",
    "sum(nums)"
   ],
   "outputs": [
    {
     "output_type": "execute_result",
     "data": {
      "text/plain": [
       "9"
      ]
     },
     "metadata": {},
     "execution_count": 104
    }
   ],
   "metadata": {}
  },
  {
   "cell_type": "code",
   "execution_count": null,
   "source": [],
   "outputs": [],
   "metadata": {}
  }
 ]
}