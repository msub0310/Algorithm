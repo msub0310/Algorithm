{
 "metadata": {
  "language_info": {
   "codemirror_mode": {
    "name": "ipython",
    "version": 3
   },
   "file_extension": ".py",
   "mimetype": "text/x-python",
   "name": "python",
   "nbconvert_exporter": "python",
   "pygments_lexer": "ipython3",
   "version": "3.8.5"
  },
  "orig_nbformat": 2,
  "kernelspec": {
   "name": "python3",
   "display_name": "Python 3.8.5 64-bit ('algorithm': conda)"
  },
  "interpreter": {
   "hash": "6d1a3e62e6baacc997e7fd515824b0551567c542b1e37c125c97fb608db7a38d"
  }
 },
 "nbformat": 4,
 "nbformat_minor": 2,
 "cells": [
  {
   "cell_type": "code",
   "execution_count": 16,
   "source": [
    "n = 3\r\n",
    "edges = [[0, 1, 100], [1, 2, 100], [0, 2, 500]]\r\n",
    "src = 0\r\n",
    "dst = 2\r\n",
    "K = 0"
   ],
   "outputs": [],
   "metadata": {}
  },
  {
   "cell_type": "code",
   "execution_count": 17,
   "source": [
    "import collections\r\n",
    "import heapq\r\n",
    "\r\n",
    "def findCheapestPrice(n: int, flights: [[int]], src: int, dst: int, K: int) -> int:\r\n",
    "    graph = collections.defaultdict(list)\r\n",
    "\r\n",
    "    for u, v, w in flights:\r\n",
    "        graph[u].append((v, w))\r\n",
    "\r\n",
    "    Q = [(0, src, K)]\r\n",
    "\r\n",
    "    while Q:\r\n",
    "        price, node, k = heapq.heappop(Q)\r\n",
    "        if node == dst:\r\n",
    "            return price\r\n",
    "        if k >= 0:\r\n",
    "            for v, w in graph[node]:\r\n",
    "                alt = price + w\r\n",
    "                heapq.heappush(Q, (alt, v, k - 1))\r\n",
    "    return -1"
   ],
   "outputs": [],
   "metadata": {}
  },
  {
   "cell_type": "code",
   "execution_count": 18,
   "source": [
    "findCheapestPrice(n, edges, src, dst, K)"
   ],
   "outputs": [
    {
     "output_type": "execute_result",
     "data": {
      "text/plain": [
       "500"
      ]
     },
     "metadata": {},
     "execution_count": 18
    }
   ],
   "metadata": {}
  },
  {
   "cell_type": "code",
   "execution_count": null,
   "source": [],
   "outputs": [],
   "metadata": {}
  }
 ]
}