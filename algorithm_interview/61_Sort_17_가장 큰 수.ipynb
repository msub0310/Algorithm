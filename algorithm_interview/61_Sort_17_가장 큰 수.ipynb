{
 "metadata": {
  "language_info": {
   "codemirror_mode": {
    "name": "ipython",
    "version": 3
   },
   "file_extension": ".py",
   "mimetype": "text/x-python",
   "name": "python",
   "nbconvert_exporter": "python",
   "pygments_lexer": "ipython3",
   "version": "3.8.5"
  },
  "orig_nbformat": 2,
  "kernelspec": {
   "name": "python3",
   "display_name": "Python 3.8.5 64-bit ('algorithm': conda)"
  },
  "interpreter": {
   "hash": "6d1a3e62e6baacc997e7fd515824b0551567c542b1e37c125c97fb608db7a38d"
  }
 },
 "nbformat": 4,
 "nbformat_minor": 2,
 "cells": [
  {
   "cell_type": "code",
   "execution_count": 1,
   "source": [
    "input_1 = [10, 2]\r\n",
    "input_2 = [3, 30, 34, 5, 9]\r\n",
    "\r\n",
    "print(input_1)\r\n",
    "print(input_2)"
   ],
   "outputs": [
    {
     "output_type": "stream",
     "name": "stdout",
     "text": [
      "[10, 2]\n",
      "[3, 30, 34, 5, 9]\n"
     ]
    }
   ],
   "metadata": {}
  },
  {
   "cell_type": "code",
   "execution_count": 48,
   "source": [
    "# 내 풀이, Time Exceed\r\n",
    "def largestNum(nums: [int]) -> str:\r\n",
    "\r\n",
    "    strNums = list(map(str, nums))\r\n",
    "\r\n",
    "    def matchingDigit(strNum: str, maxLen: int) -> str:\r\n",
    "        #strNum = str(number)\r\n",
    "\r\n",
    "        index = 0\r\n",
    "        while len(strNum) < maxLen:\r\n",
    "            strNum += strNum[index % len(strNum)]\r\n",
    "            index += 1\r\n",
    "\r\n",
    "        return strNum\r\n",
    "\r\n",
    "    maxLen = max(nums)\r\n",
    "\r\n",
    "    return \"\".join(sorted(strNums, reverse=True, key=lambda x: matchingDigit(x, maxLen)))"
   ],
   "outputs": [],
   "metadata": {}
  },
  {
   "cell_type": "code",
   "execution_count": 49,
   "source": [
    "print(largestNum(input_1))\r\n",
    "print(largestNum(input_2))"
   ],
   "outputs": [
    {
     "output_type": "stream",
     "name": "stdout",
     "text": [
      "210\n",
      "9534330\n"
     ]
    }
   ],
   "metadata": {}
  },
  {
   "cell_type": "code",
   "execution_count": 50,
   "source": [
    "class Solution:\r\n",
    "    @staticmethod\r\n",
    "    def to_swap(n1: int, n2: int) -> bool:\r\n",
    "        return str(n1) + str(n2) < str(n2) + str(n1)\r\n",
    "\r\n",
    "    def largestNum(nums: [int]) -> str:\r\n",
    "        i = 1\r\n",
    "        while i < len(nums):\r\n",
    "            j = i\r\n",
    "            while j > 0 and self.to_swap(nums[j - 1], nums[j]):\r\n",
    "                nums[j], nums[j - 1] = nums[j - 1], nums[j]\r\n",
    "                j -=1\r\n",
    "            i += 1\r\n",
    "        \r\n",
    "        return str(int(\"\".join(map(str, nums))))"
   ],
   "outputs": [],
   "metadata": {}
  },
  {
   "cell_type": "code",
   "execution_count": null,
   "source": [],
   "outputs": [],
   "metadata": {}
  }
 ]
}