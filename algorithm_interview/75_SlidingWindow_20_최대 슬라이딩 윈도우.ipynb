{
 "metadata": {
  "language_info": {
   "codemirror_mode": {
    "name": "ipython",
    "version": 3
   },
   "file_extension": ".py",
   "mimetype": "text/x-python",
   "name": "python",
   "nbconvert_exporter": "python",
   "pygments_lexer": "ipython3",
   "version": "3.8.5"
  },
  "orig_nbformat": 2,
  "kernelspec": {
   "name": "python3",
   "display_name": "Python 3.8.5 64-bit ('algorithm': conda)"
  },
  "interpreter": {
   "hash": "6d1a3e62e6baacc997e7fd515824b0551567c542b1e37c125c97fb608db7a38d"
  }
 },
 "nbformat": 4,
 "nbformat_minor": 2,
 "cells": [
  {
   "cell_type": "code",
   "execution_count": 1,
   "source": [
    "nums = [1, 3, -1, -3, 5, 3, 6, 7]\r\n",
    "k = 3\r\n",
    "\r\n",
    "print(nums, k)"
   ],
   "outputs": [
    {
     "output_type": "stream",
     "name": "stdout",
     "text": [
      "[1, 3, -1, -3, 5, 3, 6, 7] 3\n"
     ]
    }
   ],
   "metadata": {}
  },
  {
   "cell_type": "code",
   "execution_count": 3,
   "source": [
    "#내 풀이, Brute Force, Time Out\r\n",
    "def maxSlidingWindow(nums: [[int]], k: int) -> [int]:\r\n",
    "    result = []\r\n",
    "\r\n",
    "    for i in range(len(nums) - k + 1):\r\n",
    "        sub_list = nums[i : i+k]\r\n",
    "        result.append(max(sub_list))\r\n",
    "\r\n",
    "    return result"
   ],
   "outputs": [],
   "metadata": {}
  },
  {
   "cell_type": "code",
   "execution_count": 4,
   "source": [
    "maxSlidingWindow(nums, k)"
   ],
   "outputs": [
    {
     "output_type": "execute_result",
     "data": {
      "text/plain": [
       "[3, 3, 5, 5, 6, 7]"
      ]
     },
     "metadata": {},
     "execution_count": 4
    }
   ],
   "metadata": {}
  },
  {
   "cell_type": "code",
   "execution_count": 33,
   "source": [
    "# 내 풀이, Queue, Time Out\r\n",
    "import collections\r\n",
    "def maxSlidingWindowQueue(nums: [[int]], k: int) -> [int]:\r\n",
    "    queue = collections.deque()\r\n",
    "    result = []\r\n",
    "    max_val = float(\"-inf\")\r\n",
    "    pop = 0\r\n",
    "\r\n",
    "    for i in range(len(nums)):\r\n",
    "        queue.append(nums[i])\r\n",
    "        if nums[i] > max_val:\r\n",
    "            max_val = nums[i]\r\n",
    "        if len(queue) == k:\r\n",
    "            if pop == max_val:\r\n",
    "                max_val = max(queue)\r\n",
    "            result.append(max_val)\r\n",
    "            pop = queue.popleft()\r\n",
    "\r\n",
    "    return result"
   ],
   "outputs": [],
   "metadata": {}
  },
  {
   "cell_type": "code",
   "execution_count": 34,
   "source": [
    "maxSlidingWindowQueue(nums, k)"
   ],
   "outputs": [
    {
     "output_type": "execute_result",
     "data": {
      "text/plain": [
       "[3, 3, 5, 5, 6, 7]"
      ]
     },
     "metadata": {},
     "execution_count": 34
    }
   ],
   "metadata": {}
  },
  {
   "cell_type": "code",
   "execution_count": 35,
   "source": [
    "# 책 풀이, Time Out\r\n",
    "\r\n",
    "import collections\r\n",
    "def maxSlidingWindowOptim(nums: [[int]], k: int) -> [int]:\r\n",
    "    results = []\r\n",
    "    window = collections.deque()\r\n",
    "    current_max = float(\"-inf\")\r\n",
    "    for i, v in enumerate(nums):\r\n",
    "        window.append(v)\r\n",
    "        if i < k - 1:\r\n",
    "            continue\r\n",
    "            \r\n",
    "        if current_max == float(\"-inf\"):\r\n",
    "            current_max = max(window)\r\n",
    "        elif v > current_max:\r\n",
    "            current_max = v\r\n",
    "\r\n",
    "        results.append(current_max)\r\n",
    "\r\n",
    "        if current_max == window.popleft():\r\n",
    "            current_max = float(\"-inf\")\r\n",
    "    return results"
   ],
   "outputs": [],
   "metadata": {}
  },
  {
   "cell_type": "code",
   "execution_count": 36,
   "source": [
    "maxSlidingWindowOptim(nums, k)"
   ],
   "outputs": [
    {
     "output_type": "execute_result",
     "data": {
      "text/plain": [
       "[3, 3, 5, 5, 6, 7]"
      ]
     },
     "metadata": {},
     "execution_count": 36
    }
   ],
   "metadata": {}
  },
  {
   "cell_type": "code",
   "execution_count": 53,
   "source": [
    "### 다시 보기\r\n",
    "# 리트코드 python O(n) Solution, Reimp\r\n",
    "import collections\r\n",
    "def maxSlidingWindowSol(nums: [int], k: int) -> [int]:\r\n",
    "    stack = collections.deque()\r\n",
    "    results = []\r\n",
    "\r\n",
    "    for index, val in enumerate(nums):\r\n",
    "        while stack and nums[stack[-1]] <= val:\r\n",
    "            stack.pop()\r\n",
    "        stack.append(index)\r\n",
    "\r\n",
    "        if stack[0] == index - k:\r\n",
    "            stack.popleft()\r\n",
    "        \r\n",
    "        if index >= k - 1:\r\n",
    "            results.append(nums[stack[0]])\r\n",
    "    \r\n",
    "    return results"
   ],
   "outputs": [],
   "metadata": {}
  },
  {
   "cell_type": "code",
   "execution_count": 55,
   "source": [
    "maxSlidingWindowSol(nums, k)"
   ],
   "outputs": [
    {
     "output_type": "execute_result",
     "data": {
      "text/plain": [
       "[3, 3, 5, 5, 6, 7]"
      ]
     },
     "metadata": {},
     "execution_count": 55
    }
   ],
   "metadata": {}
  },
  {
   "cell_type": "code",
   "execution_count": null,
   "source": [],
   "outputs": [],
   "metadata": {}
  }
 ]
}