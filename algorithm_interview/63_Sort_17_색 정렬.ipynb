{
 "metadata": {
  "language_info": {
   "codemirror_mode": {
    "name": "ipython",
    "version": 3
   },
   "file_extension": ".py",
   "mimetype": "text/x-python",
   "name": "python",
   "nbconvert_exporter": "python",
   "pygments_lexer": "ipython3",
   "version": "3.8.5"
  },
  "orig_nbformat": 2,
  "kernelspec": {
   "name": "python3",
   "display_name": "Python 3.8.5 64-bit ('algorithm': conda)"
  },
  "interpreter": {
   "hash": "6d1a3e62e6baacc997e7fd515824b0551567c542b1e37c125c97fb608db7a38d"
  }
 },
 "nbformat": 4,
 "nbformat_minor": 2,
 "cells": [
  {
   "cell_type": "code",
   "execution_count": 1,
   "source": [
    "input_1 = [2, 0, 2, 1, 1, 0]"
   ],
   "outputs": [],
   "metadata": {}
  },
  {
   "cell_type": "code",
   "execution_count": 3,
   "source": [
    "# 다시 보기\r\n",
    "\r\n",
    "def sortColors(nums: [[int]]) -> None:\r\n",
    "    red, white, blue = 0, 0, len(nums)\r\n",
    "\r\n",
    "    while white < blue:\r\n",
    "        if nums[white] < 1:\r\n",
    "            nums[red], nums[white] = nums[white], nums[red]\r\n",
    "            white += 1\r\n",
    "            red += 1\r\n",
    "        elif nums[white] > 1:\r\n",
    "            blue -= 1\r\n",
    "            nums[white], nums[blue] = nums[blue], nums[white]\r\n",
    "        else:\r\n",
    "            white += 1"
   ],
   "outputs": [],
   "metadata": {}
  },
  {
   "cell_type": "code",
   "execution_count": 5,
   "source": [
    "input_1[0]"
   ],
   "outputs": [
    {
     "output_type": "execute_result",
     "data": {
      "text/plain": [
       "2"
      ]
     },
     "metadata": {},
     "execution_count": 5
    }
   ],
   "metadata": {}
  },
  {
   "cell_type": "code",
   "execution_count": null,
   "source": [],
   "outputs": [],
   "metadata": {}
  }
 ]
}