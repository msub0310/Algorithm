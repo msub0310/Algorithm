{
 "metadata": {
  "language_info": {
   "codemirror_mode": {
    "name": "ipython",
    "version": 3
   },
   "file_extension": ".py",
   "mimetype": "text/x-python",
   "name": "python",
   "nbconvert_exporter": "python",
   "pygments_lexer": "ipython3",
   "version": "3.8.5"
  },
  "orig_nbformat": 2,
  "kernelspec": {
   "name": "python3",
   "display_name": "Python 3.8.5 64-bit ('algorithm': conda)"
  },
  "interpreter": {
   "hash": "6d1a3e62e6baacc997e7fd515824b0551567c542b1e37c125c97fb608db7a38d"
  }
 },
 "nbformat": 4,
 "nbformat_minor": 2,
 "cells": [
  {
   "cell_type": "code",
   "execution_count": 1,
   "source": [
    "input_1 = \"2-1-1\"\r\n",
    "input_2 = \"2*3-4*5\"\r\n",
    "\r\n",
    "print(input_1, input_2)"
   ],
   "outputs": [
    {
     "output_type": "stream",
     "name": "stdout",
     "text": [
      "2-1-1 2*3-4*5\n"
     ]
    }
   ],
   "metadata": {}
  },
  {
   "cell_type": "code",
   "execution_count": 2,
   "source": [
    "def diffWaysToCompute(input: str) -> [int]:\r\n",
    "    def compute(left, right, op):\r\n",
    "        results = []\r\n",
    "        for l in left:\r\n",
    "            for r in right:\r\n",
    "                results.append(eval(str(l) + op + str(r)))\r\n",
    "        return results\r\n",
    "\r\n",
    "    if input.isdigit():\r\n",
    "        return [int(input)]\r\n",
    "\r\n",
    "    results = []\r\n",
    "    for index, value in enumerate(input):\r\n",
    "        if value in \"-+*\":\r\n",
    "            left = diffWaysToCompute(input[:index])\r\n",
    "            right = diffWaysToCompute(input[index + 1:])\r\n",
    "\r\n",
    "            results.extend(compute(left, right, value))\r\n",
    "\r\n",
    "    return results"
   ],
   "outputs": [],
   "metadata": {}
  },
  {
   "cell_type": "code",
   "execution_count": 4,
   "source": [
    "print(diffWaysToCompute(input_1))\r\n",
    "print(diffWaysToCompute(input_2))"
   ],
   "outputs": [
    {
     "output_type": "stream",
     "name": "stdout",
     "text": [
      "[2, 0]\n",
      "[-34, -10, -14, -10, 10]\n"
     ]
    }
   ],
   "metadata": {}
  },
  {
   "cell_type": "code",
   "execution_count": null,
   "source": [],
   "outputs": [],
   "metadata": {}
  }
 ]
}