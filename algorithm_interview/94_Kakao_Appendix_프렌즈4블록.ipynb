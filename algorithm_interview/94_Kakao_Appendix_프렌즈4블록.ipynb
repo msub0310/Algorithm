{
 "metadata": {
  "language_info": {
   "codemirror_mode": {
    "name": "ipython",
    "version": 3
   },
   "file_extension": ".py",
   "mimetype": "text/x-python",
   "name": "python",
   "nbconvert_exporter": "python",
   "pygments_lexer": "ipython3",
   "version": "3.8.5"
  },
  "orig_nbformat": 2,
  "kernelspec": {
   "name": "python3",
   "display_name": "Python 3.8.5 64-bit ('algorithm': conda)"
  },
  "interpreter": {
   "hash": "6d1a3e62e6baacc997e7fd515824b0551567c542b1e37c125c97fb608db7a38d"
  }
 },
 "nbformat": 4,
 "nbformat_minor": 2,
 "cells": [
  {
   "cell_type": "code",
   "execution_count": 46,
   "source": [
    "board = [\"CCBDE\", \"AAADE\", \"AAABF\", \"CCBBF\"]\r\n",
    "m, n = 4, 5"
   ],
   "outputs": [],
   "metadata": {}
  },
  {
   "cell_type": "code",
   "execution_count": 47,
   "source": [
    "#board = [\"TTTANT\", \"RRFACC\", \"RRRFCC\", \"TRRRAA\", \"TTMMMF\", \"TMMTTJ\"]\r\n",
    "#m, n = 6, 6"
   ],
   "outputs": [],
   "metadata": {}
  },
  {
   "cell_type": "code",
   "execution_count": 48,
   "source": [
    "for row in board:\r\n",
    "    print(row)"
   ],
   "outputs": [
    {
     "output_type": "stream",
     "name": "stdout",
     "text": [
      "CCBDE\n",
      "AAADE\n",
      "AAABF\n",
      "CCBBF\n"
     ]
    }
   ],
   "metadata": {}
  },
  {
   "cell_type": "code",
   "execution_count": 49,
   "source": [
    "class Solution:\r\n",
    "    count = 0\r\n",
    "    lastPop = []\r\n",
    "    def solution_(self, board: [str], m, n):\r\n",
    "        def drop(board: [str], x: int, y: int) -> None:\r\n",
    "            global m\r\n",
    "            if x > m - 2:\r\n",
    "                return\r\n",
    "            if board[x+1][y] == \" \":\r\n",
    "                board[x+1] = \"\".join([board[x+1][:y], board[x][y], board[x+1][y+1:]])\r\n",
    "                board[x] = \"\".join([board[x][:y], \" \", board[x][y+1:]])\r\n",
    "                drop(board, x+1, y)\r\n",
    "\r\n",
    "        def popBoard(board: [str], x: int, y: int):\r\n",
    "            global m, n\r\n",
    "            if x > m - 2 or y > n - 2:\r\n",
    "                return\r\n",
    "            if board[x][y] == \" \":\r\n",
    "                if board[x+1][y] == self.lastPop[x][y] and board[x][y+1] == self.lastPop[x][y] and board[x+1][y+1] == self.lastPop[x][y]:\r\n",
    "                    self.lastPop[x+1][y] = self.lastPop[x][y+1] = self.lastPop[x+1][y+1] = self.lastPop[x][y]\r\n",
    "                    board[x] = \"\".join([board[x][:y+1], \" \", board[x][y+2:]])\r\n",
    "                    board[x+1] = \"\".join([board[x+1][:y], \"  \", board[x+1][y+2:]])\r\n",
    "                    self.count += 3\r\n",
    "\r\n",
    "                elif self.lastPop[x+1][y] == self.lastPop[x][y] and board[x][y+1] == self.lastPop[x][y] and board[x+1][y+1] == self.lastPop[x][y]:            \r\n",
    "                    self.lastPop[x][y+1] = self.lastPop[x+1][y+1] = self.lastPop[x][y]\r\n",
    "                    board[x] = \"\".join([board[x][:y+1], \" \", board[x][y+2:]])\r\n",
    "                    board[x+1] = \"\".join([board[x+1][:y+1], \" \", board[x+1][y+2:]])\r\n",
    "\r\n",
    "                    self.count += 2\r\n",
    "\r\n",
    "                elif board[x][y+1] == self.lastPop[x][y] and board[x+1][y] == self.lastPop[x][y] and board[x+1][y+1] == self.lastPop[x][y]:\r\n",
    "                    self.lastPop[x+1][y] = self.lastPop[x+1][y+1] = self.lastPop[x][y]\r\n",
    "                    board[x+1] = \"\".join([board[x+1][:y], \"  \", board[x+1][y+2:]])\r\n",
    "\r\n",
    "                    self.count += 2\r\n",
    "            else:\r\n",
    "                if board[x][y] == board[x][y+1] and board[x][y] == board[x+1][y] and board[x][y] == board[x+1][y+1]:            \r\n",
    "                    self.lastPop[x][y] = self.lastPop[x+1][y] = self.lastPop[x][y+1] = self.lastPop[x+1][y+1] = board[x][y]\r\n",
    "                    board[x] = \"\".join([board[x][:y], \"  \", board[x][y+2:]])\r\n",
    "                    board[x+1] = \"\".join([board[x+1][:y], \"  \", board[x+1][y+2:]])\r\n",
    "\r\n",
    "                    self.count += 4\r\n",
    "\r\n",
    "            popBoard(board, x+1, y)\r\n",
    "            popBoard(board, x, y+1)\r\n",
    "\r\n",
    "        lastcount = m * n + 1\r\n",
    "        while self.count != lastcount:\r\n",
    "            lastcount = self.count\r\n",
    "            self.lastPop = [[0]*m for _ in range(n)]\r\n",
    "            popBoard(board, 0, 0)\r\n",
    "            for c in range(n):\r\n",
    "                for r in range(m-1, -1, -1):\r\n",
    "                    drop(board, r, c)\r\n",
    "        return self.count"
   ],
   "outputs": [],
   "metadata": {}
  },
  {
   "cell_type": "code",
   "execution_count": 50,
   "source": [
    "Solution().solution_(board, m, n)"
   ],
   "outputs": [
    {
     "output_type": "execute_result",
     "data": {
      "text/plain": [
       "14"
      ]
     },
     "metadata": {},
     "execution_count": 50
    }
   ],
   "metadata": {}
  },
  {
   "cell_type": "code",
   "execution_count": 58,
   "source": [
    "#board = [\"CCBDE\", \"AAADE\", \"AAABF\", \"CCBBF\"]\r\n",
    "#m, n = 4, 5"
   ],
   "outputs": [],
   "metadata": {}
  },
  {
   "cell_type": "code",
   "execution_count": 59,
   "source": [
    "board = [\"TTTANT\", \"RRFACC\", \"RRRFCC\", \"TRRRAA\", \"TTMMMF\", \"TMMTTJ\"]\r\n",
    "m, n = 6, 6"
   ],
   "outputs": [],
   "metadata": {}
  },
  {
   "cell_type": "code",
   "execution_count": 60,
   "source": [
    "def solutionOfficial(m: int, n: int, board: [str]) -> int:\r\n",
    "    board = [list(x) for x in board]\r\n",
    "\r\n",
    "    matched = True\r\n",
    "    while matched:\r\n",
    "        matched = []\r\n",
    "        for i in range(m - 1):\r\n",
    "            for j in range(n - 1):\r\n",
    "                if board[i][j] == board[i][j+1] == board[i+1][j+1] == board[i+1][j] != \" \":\r\n",
    "                    matched.append([i, j])\r\n",
    "\r\n",
    "        for i, j in matched:\r\n",
    "            board[i][j] = board[i+1][j] = board[i][j+1] = board[i+1][j+1] = \" \"\r\n",
    "            \r\n",
    "        for _ in range(m):\r\n",
    "            for i in range(m - 1):\r\n",
    "                for j in range(n):\r\n",
    "                    if board[i + 1][j] == \" \":\r\n",
    "                        board[i + 1][j], board[i][j] = board[i][j], board[i + 1][j]\r\n",
    "\r\n",
    "    return sum(x.count(\" \") for x in board)"
   ],
   "outputs": [],
   "metadata": {}
  },
  {
   "cell_type": "code",
   "execution_count": 61,
   "source": [
    "solutionOfficial(m, n, board)"
   ],
   "outputs": [
    {
     "output_type": "execute_result",
     "data": {
      "text/plain": [
       "15"
      ]
     },
     "metadata": {},
     "execution_count": 61
    }
   ],
   "metadata": {}
  },
  {
   "cell_type": "code",
   "execution_count": null,
   "source": [
    "#def drop(board: [str], x: int, y: int) -> None:\r\n",
    "#    global m\r\n",
    "#    if x > m - 2:\r\n",
    "#        return\r\n",
    "#    if board[x+1][y] == \" \":\r\n",
    "#        board[x+1] = \"\".join([board[x+1][:y], board[x][y], board[x+1][y+1:]])\r\n",
    "#        board[x] = \"\".join([board[x][:y], \" \", board[x][y+1:]])\r\n",
    "#        drop(board, x+1, y, m)"
   ],
   "outputs": [],
   "metadata": {}
  },
  {
   "cell_type": "code",
   "execution_count": null,
   "source": [
    "#lastPop = [[0]*m for _ in range(n)]\r\n",
    "#count = 0\r\n",
    "#\r\n",
    "#def popBoard(board: [str], x: int, y: int):\r\n",
    "#    global count\r\n",
    "#    global lastPop\r\n",
    "#    global m, n\r\n",
    "#    if x > m - 2 or y > n - 2:\r\n",
    "#        return\r\n",
    "#    if board[x][y] == \" \":\r\n",
    "#        if board[x+1][y] == lastPop[x][y] and board[x][y+1] == lastPop[x][y] and board[x+1][y+1] == lastPop[x][y]:\r\n",
    "#            lastPop[x+1][y] = lastPop[x][y+1] = lastPop[x+1][y+1] = lastPop[x][y]\r\n",
    "#            board[x] = \"\".join([board[x][:y+1], \" \", board[x][y+2:]])\r\n",
    "#            board[x+1] = \"\".join([board[x+1][:y], \"  \", board[x+1][y+2:]])\r\n",
    "#            count += 3\r\n",
    "#        \r\n",
    "#        elif lastPop[x+1][y] == lastPop[x][y] and board[x][y+1] == lastPop[x][y] and board[x+1][y+1] == lastPop[x][y]:            \r\n",
    "#            lastPop[x][y+1] = lastPop[x+1][y+1] = lastPop[x][y]\r\n",
    "#            board[x] = \"\".join([board[x][:y+1], \" \", board[x][y+2:]])\r\n",
    "#            board[x+1] = \"\".join([board[x+1][:y+1], \" \", board[x+1][y+2:]])\r\n",
    "#\r\n",
    "#            count += 2\r\n",
    "#        \r\n",
    "#        elif board[x][y+1] == lastPop[x][y] and board[x+1][y] == lastPop[x][y] and board[x+1][y+1] == lastPop[x][y]:\r\n",
    "#            lastPop[x+1][y] = lastPop[x+1][y+1] = lastPop[x][y]\r\n",
    "#            board[x+1] = \"\".join([board[x+1][:y], \"  \", board[x+1][y+2:]])\r\n",
    "#\r\n",
    "#            count += 2\r\n",
    "#    else:\r\n",
    "#        if board[x][y] == board[x][y+1] and board[x][y] == board[x+1][y] and board[x][y] == board[x+1][y+1]:            \r\n",
    "#            lastPop[x][y] = lastPop[x+1][y] = lastPop[x][y+1] = lastPop[x+1][y+1] = board[x][y]\r\n",
    "#            board[x] = \"\".join([board[x][:y], \"  \", board[x][y+2:]])\r\n",
    "#            board[x+1] = \"\".join([board[x+1][:y], \"  \", board[x+1][y+2:]])\r\n",
    "#\r\n",
    "#            count += 4\r\n",
    "#\r\n",
    "#    popBoard(board, x+1, y)\r\n",
    "#    popBoard(board, x, y+1)"
   ],
   "outputs": [],
   "metadata": {}
  },
  {
   "cell_type": "code",
   "execution_count": null,
   "source": [
    "#popBoard(board, 0, 0)"
   ],
   "outputs": [],
   "metadata": {}
  },
  {
   "cell_type": "code",
   "execution_count": null,
   "source": [
    "#for row in board:\r\n",
    "#    print(row)"
   ],
   "outputs": [],
   "metadata": {}
  },
  {
   "cell_type": "code",
   "execution_count": null,
   "source": [
    "#for c in range(n):\r\n",
    "#    for r in range(m-1, -1, -1):\r\n",
    "#        drop(board, r)\r\n",
    "#for row in board:\r\n",
    "#    print(row)"
   ],
   "outputs": [],
   "metadata": {}
  },
  {
   "cell_type": "code",
   "execution_count": null,
   "source": [
    "#i = 0\r\n",
    "#while i != 1:\r\n",
    "#    i = 1\r\n",
    "#    print(1)"
   ],
   "outputs": [],
   "metadata": {}
  },
  {
   "cell_type": "code",
   "execution_count": null,
   "source": [
    "#count = 0\r\n",
    "#lastPop = None\r\n",
    "#def popBoard(board: [str], x: int, y: int, m: int, n: int):\r\n",
    "#    global count\r\n",
    "#    global lastPop\r\n",
    "#    if x > m - 2 or y > n - 2:\r\n",
    "#        return\r\n",
    "#    if board[x][y] == \" \":\r\n",
    "#        if board[x+1][y] == \" \" and board[x][y+1] == lastPop and board[x+1][y+1] == lastPop:\r\n",
    "#            board[x] = \"\".join([board[x][:y+1], \" \", board[x][y+2:]])\r\n",
    "#            board[x+1] = \"\".join([board[x+1][:y+1], \" \", board[x+1][y+2:]])\r\n",
    "#\r\n",
    "#            count += 2\r\n",
    "#        \r\n",
    "#        elif board[x][y+1] == \" \" and board[x+1][y] == lastPop and board[x+1][y+1] == lastPop:\r\n",
    "#            board[x+1] = \"\".join([board[x+1][:y], \"  \", board[x+1][y+2:]])\r\n",
    "#\r\n",
    "#            count += 2\r\n",
    "#        \r\n",
    "#    else:\r\n",
    "#        if board[x][y] == board[x][y+1] and board[x][y] == board[x+1][y] and board[x][y] == board[x+1][y+1]:\r\n",
    "#            lastPop = board[x][y]\r\n",
    "#            board[x] = \"\".join([board[x][:y], \"  \", board[x][y+2:]])\r\n",
    "#            board[x+1] = \"\".join([board[x+1][:y], \"  \", board[x+1][y+2:]])\r\n",
    "#\r\n",
    "#            count += 4\r\n",
    "#\r\n",
    "#    popBoard(board, x+1, y, m, n)\r\n",
    "#    popBoard(board, x, y+1, m, n)"
   ],
   "outputs": [],
   "metadata": {}
  }
 ]
}