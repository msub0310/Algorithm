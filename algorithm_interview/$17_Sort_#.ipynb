{
 "metadata": {
  "language_info": {
   "codemirror_mode": {
    "name": "ipython",
    "version": 3
   },
   "file_extension": ".py",
   "mimetype": "text/x-python",
   "name": "python",
   "nbconvert_exporter": "python",
   "pygments_lexer": "ipython3",
   "version": "3.8.5"
  },
  "orig_nbformat": 2,
  "kernelspec": {
   "name": "python3",
   "display_name": "Python 3.8.5 64-bit ('algorithm': conda)"
  },
  "interpreter": {
   "hash": "6d1a3e62e6baacc997e7fd515824b0551567c542b1e37c125c97fb608db7a38d"
  }
 },
 "nbformat": 4,
 "nbformat_minor": 2,
 "cells": [
  {
   "cell_type": "code",
   "execution_count": 4,
   "source": [
    "nums = [2, 4, 1, 5, 3]"
   ],
   "outputs": [],
   "metadata": {}
  },
  {
   "cell_type": "code",
   "execution_count": 19,
   "source": [
    "def bubbleSort(nums: list, reverse=False) -> list:\r\n",
    "    for i in range(1, len(nums)):\r\n",
    "        for j in range(0, len(nums) - 1):\r\n",
    "            if reverse:\r\n",
    "                if nums[j] < nums[j + 1]:\r\n",
    "                    nums[j + 1], nums[j] = nums[j], nums[j + 1]\r\n",
    "            else:\r\n",
    "                if nums[j] > nums[j + 1]:\r\n",
    "                    nums[j + 1], nums[j] = nums[j], nums[j + 1]\r\n",
    "    \r\n",
    "    return nums"
   ],
   "outputs": [],
   "metadata": {}
  },
  {
   "cell_type": "code",
   "execution_count": 23,
   "source": [
    "nums = [2, 4, 1, 5, 3]\r\n",
    "bubbleSort(nums)"
   ],
   "outputs": [
    {
     "output_type": "execute_result",
     "data": {
      "text/plain": [
       "[1, 2, 3, 4, 5]"
      ]
     },
     "metadata": {},
     "execution_count": 23
    }
   ],
   "metadata": {}
  },
  {
   "cell_type": "code",
   "execution_count": 31,
   "source": [
    "# 다시 보기\r\n",
    "\r\n",
    "def quicksort(nums: list, low=0, high=len(nums)-1) -> None:\r\n",
    "    def partition(low, high):\r\n",
    "        pivot = nums[high]\r\n",
    "        left = low\r\n",
    "        for right in range(low, high):\r\n",
    "            if nums[right] < pivot:\r\n",
    "                nums[left], nums[right] = nums[right], nums[left]\r\n",
    "                left += 1\r\n",
    "        nums[left], nums[high] = nums[high], nums[left]\r\n",
    "        return left\r\n",
    "\r\n",
    "    if low < high:\r\n",
    "        pivot = partition(low, high)\r\n",
    "        quicksort(nums, low, pivot - 1)\r\n",
    "        quicksort(nums, pivot + 1, high)"
   ],
   "outputs": [],
   "metadata": {}
  },
  {
   "cell_type": "code",
   "execution_count": 32,
   "source": [
    "nums = [2, 4, 1, 5, 3]\r\n",
    "quicksort(nums)\r\n",
    "nums"
   ],
   "outputs": [
    {
     "output_type": "execute_result",
     "data": {
      "text/plain": [
       "[1, 2, 3, 4, 5]"
      ]
     },
     "metadata": {},
     "execution_count": 32
    }
   ],
   "metadata": {}
  },
  {
   "cell_type": "code",
   "execution_count": null,
   "source": [],
   "outputs": [],
   "metadata": {}
  }
 ]
}