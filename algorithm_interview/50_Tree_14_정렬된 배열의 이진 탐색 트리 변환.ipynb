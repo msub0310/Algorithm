{
 "metadata": {
  "language_info": {
   "codemirror_mode": {
    "name": "ipython",
    "version": 3
   },
   "file_extension": ".py",
   "mimetype": "text/x-python",
   "name": "python",
   "nbconvert_exporter": "python",
   "pygments_lexer": "ipython3",
   "version": "3.8.5"
  },
  "orig_nbformat": 2,
  "kernelspec": {
   "name": "python3",
   "display_name": "Python 3.8.5 64-bit ('algorithm': conda)"
  },
  "interpreter": {
   "hash": "6d1a3e62e6baacc997e7fd515824b0551567c542b1e37c125c97fb608db7a38d"
  }
 },
 "nbformat": 4,
 "nbformat_minor": 2,
 "cells": [
  {
   "cell_type": "code",
   "execution_count": 1,
   "source": [
    "input_1 = [-10, -3, 0, 5, 9]\r\n",
    "input_2 = [-10, -7, -3, 0, 5, 7, 9]"
   ],
   "outputs": [],
   "metadata": {}
  },
  {
   "cell_type": "code",
   "execution_count": 2,
   "source": [
    "class TreeNode:\r\n",
    "    def __init__(self, val=0, left=None, right=None):\r\n",
    "        self.val = val\r\n",
    "        self.left = left\r\n",
    "        self.right = right"
   ],
   "outputs": [],
   "metadata": {}
  },
  {
   "cell_type": "code",
   "execution_count": 3,
   "source": [
    "def sortedArrayToBST(nums: list) -> TreeNode:\r\n",
    "    if not nums:\r\n",
    "        return None\r\n",
    "    \r\n",
    "    mid = len(nums) // 2\r\n",
    "\r\n",
    "    node = TreeNode(nums[mid])\r\n",
    "    node.left = sortedArrayToBST(nums[:mid])\r\n",
    "    node.right = sortedArrayToBST(nums[mid + 1:])\r\n",
    "\r\n",
    "    return node"
   ],
   "outputs": [],
   "metadata": {}
  },
  {
   "cell_type": "code",
   "execution_count": 4,
   "source": [
    "root_1 = sortedArrayToBST(input_1)\r\n",
    "root_2 = sortedArrayToBST(input_2)"
   ],
   "outputs": [],
   "metadata": {}
  },
  {
   "cell_type": "code",
   "execution_count": 5,
   "source": [
    "import collections\r\n",
    "\r\n",
    "def BTreeToList(root: TreeNode) -> list:\r\n",
    "    result = []\r\n",
    "    queue = collections.deque([root])\r\n",
    "\r\n",
    "    while queue:\r\n",
    "        node = queue.popleft()\r\n",
    "\r\n",
    "        if node:\r\n",
    "            result.append(node.val)\r\n",
    "            queue.append(node.left)\r\n",
    "            queue.append(node.right)\r\n",
    "        else:\r\n",
    "            result.append(None)\r\n",
    "\r\n",
    "        if all((x is None for x in queue)) and len(queue) % 2 == 0:\r\n",
    "            break\r\n",
    "    \r\n",
    "    return result\r\n"
   ],
   "outputs": [],
   "metadata": {}
  },
  {
   "cell_type": "code",
   "execution_count": 6,
   "source": [
    "print(BTreeToList(root_1))\r\n",
    "print(BTreeToList(root_2))"
   ],
   "outputs": [
    {
     "output_type": "stream",
     "name": "stdout",
     "text": [
      "[0, -3, 9, -10, None, 5, None]\n",
      "[0, -7, 7, -10, -3, 5, 9]\n"
     ]
    }
   ],
   "metadata": {}
  },
  {
   "cell_type": "code",
   "execution_count": null,
   "source": [],
   "outputs": [],
   "metadata": {}
  }
 ]
}