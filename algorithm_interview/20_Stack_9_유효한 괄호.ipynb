{
 "metadata": {
  "language_info": {
   "codemirror_mode": {
    "name": "ipython",
    "version": 3
   },
   "file_extension": ".py",
   "mimetype": "text/x-python",
   "name": "python",
   "nbconvert_exporter": "python",
   "pygments_lexer": "ipython3",
   "version": "3.8.5"
  },
  "orig_nbformat": 2,
  "kernelspec": {
   "name": "python3",
   "display_name": "Python 3.8.5 64-bit ('at_augmentation': conda)"
  },
  "interpreter": {
   "hash": "828202fa85a8b396542176841487990126fada61002bf35be36a9dd70b81875f"
  }
 },
 "nbformat": 4,
 "nbformat_minor": 2,
 "cells": [
  {
   "cell_type": "code",
   "execution_count": 13,
   "source": [
    "input_1 = \"({[[{{()}}]]})\""
   ],
   "outputs": [],
   "metadata": {}
  },
  {
   "cell_type": "code",
   "execution_count": 14,
   "source": [
    "def check(s: str) -> bool:\r\n",
    "\r\n",
    "    stack = []\r\n",
    "    table = {\r\n",
    "        \")\" : \"(\",\r\n",
    "        \"]\" : \"[\",\r\n",
    "        \"}\" : \"{\"\r\n",
    "    }\r\n",
    "\r\n",
    "    for char in s:\r\n",
    "        if char not in table:\r\n",
    "            stack.append(char)\r\n",
    "        elif not stack or table[char] != stack.pop():\r\n",
    "            return False\r\n",
    "\r\n",
    "    return len(stack) == 0"
   ],
   "outputs": [],
   "metadata": {}
  },
  {
   "cell_type": "code",
   "execution_count": 15,
   "source": [
    "check(input_1)"
   ],
   "outputs": [
    {
     "output_type": "execute_result",
     "data": {
      "text/plain": [
       "True"
      ]
     },
     "metadata": {},
     "execution_count": 15
    }
   ],
   "metadata": {}
  },
  {
   "cell_type": "code",
   "execution_count": null,
   "source": [],
   "outputs": [],
   "metadata": {}
  }
 ]
}