{
 "metadata": {
  "language_info": {
   "codemirror_mode": {
    "name": "ipython",
    "version": 3
   },
   "file_extension": ".py",
   "mimetype": "text/x-python",
   "name": "python",
   "nbconvert_exporter": "python",
   "pygments_lexer": "ipython3",
   "version": "3.8.5"
  },
  "orig_nbformat": 2,
  "kernelspec": {
   "name": "python3",
   "display_name": "Python 3.8.5 64-bit ('algorithm': conda)"
  },
  "interpreter": {
   "hash": "6d1a3e62e6baacc997e7fd515824b0551567c542b1e37c125c97fb608db7a38d"
  }
 },
 "nbformat": 4,
 "nbformat_minor": 2,
 "cells": [
  {
   "cell_type": "code",
   "execution_count": 1,
   "source": [
    "s_1, t_1 = \"anagram\", \"nagaram\"\r\n",
    "s_2, t_2 = \"rat\", \"cat\"\r\n",
    "\r\n",
    "print(s_1, t_1)\r\n",
    "print(s_2, t_2)"
   ],
   "outputs": [
    {
     "output_type": "stream",
     "name": "stdout",
     "text": [
      "anagram nagaram\n",
      "rat cat\n"
     ]
    }
   ],
   "metadata": {}
  },
  {
   "cell_type": "code",
   "execution_count": 4,
   "source": [
    "def isAnagram(s: str, t: str) -> bool:\r\n",
    "    return sorted(s) == sorted(t)"
   ],
   "outputs": [],
   "metadata": {}
  },
  {
   "cell_type": "code",
   "execution_count": 5,
   "source": [
    "print(isAnagram(s_1, t_1))\r\n",
    "print(isAnagram(s_2, t_2))"
   ],
   "outputs": [
    {
     "output_type": "stream",
     "name": "stdout",
     "text": [
      "True\n",
      "False\n"
     ]
    }
   ],
   "metadata": {}
  },
  {
   "cell_type": "code",
   "execution_count": null,
   "source": [],
   "outputs": [],
   "metadata": {}
  }
 ]
}