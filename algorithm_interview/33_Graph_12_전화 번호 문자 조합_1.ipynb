{
 "cells": [
  {
   "cell_type": "code",
   "execution_count": 3,
   "metadata": {},
   "outputs": [],
   "source": [
    "digits = \"387\""
   ]
  },
  {
   "cell_type": "code",
   "execution_count": 4,
   "metadata": {},
   "outputs": [],
   "source": [
    "def letterCombinations(digits: str) -> [str]:\n",
    "    def dfs(index, path):\n",
    "        if len(path) == len(digits):\n",
    "            result.append(path)\n",
    "            return\n",
    "        \n",
    "        for i in range(index, len(digits)):\n",
    "            for j in dic[digits[i]]:\n",
    "                dfs(i + 1, path + j)\n",
    "                \n",
    "    if not digits:\n",
    "        return []\n",
    "\n",
    "    dic = {\"2\": \"abc\", \"3\": \"def\", \"4\": \"ghi\", \"5\": \"jkl\",\n",
    "           \"6\": \"mno\", \"7\": \"pqrs\", \"8\": \"tuv\", \"9\": \"wxyz\"}\n",
    "    result = []\n",
    "    dfs(0, \"\")\n",
    "    \n",
    "    return result"
   ]
  },
  {
   "cell_type": "code",
   "execution_count": 5,
   "metadata": {},
   "outputs": [
    {
     "data": {
      "text/plain": [
       "['dtp',\n",
       " 'dtq',\n",
       " 'dtr',\n",
       " 'dts',\n",
       " 'dup',\n",
       " 'duq',\n",
       " 'dur',\n",
       " 'dus',\n",
       " 'dvp',\n",
       " 'dvq',\n",
       " 'dvr',\n",
       " 'dvs',\n",
       " 'etp',\n",
       " 'etq',\n",
       " 'etr',\n",
       " 'ets',\n",
       " 'eup',\n",
       " 'euq',\n",
       " 'eur',\n",
       " 'eus',\n",
       " 'evp',\n",
       " 'evq',\n",
       " 'evr',\n",
       " 'evs',\n",
       " 'ftp',\n",
       " 'ftq',\n",
       " 'ftr',\n",
       " 'fts',\n",
       " 'fup',\n",
       " 'fuq',\n",
       " 'fur',\n",
       " 'fus',\n",
       " 'fvp',\n",
       " 'fvq',\n",
       " 'fvr',\n",
       " 'fvs']"
      ]
     },
     "execution_count": 5,
     "metadata": {},
     "output_type": "execute_result"
    }
   ],
   "source": [
    "letterCombinations(digits)"
   ]
  },
  {
   "cell_type": "code",
   "execution_count": null,
   "metadata": {},
   "outputs": [],
   "source": []
  }
 ],
 "metadata": {
  "interpreter": {
   "hash": "6d1a3e62e6baacc997e7fd515824b0551567c542b1e37c125c97fb608db7a38d"
  },
  "kernelspec": {
   "display_name": "Python 3.8.5 64-bit ('algorithm': conda)",
   "name": "python3"
  },
  "language_info": {
   "codemirror_mode": {
    "name": "ipython",
    "version": 3
   },
   "file_extension": ".py",
   "mimetype": "text/x-python",
   "name": "python",
   "nbconvert_exporter": "python",
   "pygments_lexer": "ipython3",
   "version": "3.8.5"
  },
  "orig_nbformat": 2
 },
 "nbformat": 4,
 "nbformat_minor": 2
}
