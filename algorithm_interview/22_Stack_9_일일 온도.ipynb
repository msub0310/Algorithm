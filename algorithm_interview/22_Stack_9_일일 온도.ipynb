{
 "metadata": {
  "language_info": {
   "codemirror_mode": {
    "name": "ipython",
    "version": 3
   },
   "file_extension": ".py",
   "mimetype": "text/x-python",
   "name": "python",
   "nbconvert_exporter": "python",
   "pygments_lexer": "ipython3",
   "version": "3.8.5"
  },
  "orig_nbformat": 2,
  "kernelspec": {
   "name": "python3",
   "display_name": "Python 3.8.5 64-bit ('at_augmentation': conda)"
  },
  "interpreter": {
   "hash": "828202fa85a8b396542176841487990126fada61002bf35be36a9dd70b81875f"
  }
 },
 "nbformat": 4,
 "nbformat_minor": 2,
 "cells": [
  {
   "cell_type": "code",
   "execution_count": 34,
   "source": [
    "T = [73, 74, 75, 71, 69, 72, 76, 73]"
   ],
   "outputs": [],
   "metadata": {}
  },
  {
   "cell_type": "code",
   "execution_count": 35,
   "source": [
    "out = []\r\n",
    "\r\n",
    "for i, now in enumerate(T):\r\n",
    "    for j, future in enumerate(T[i + 1:]):\r\n",
    "        if future > now:\r\n",
    "            out.append(j + 1)\r\n",
    "            break\r\n",
    "        \r\n",
    "        elif j == len(T[i + 1:]) - 1:\r\n",
    "            out.append(0)\r\n",
    "\r\n",
    "out.append(0)"
   ],
   "outputs": [],
   "metadata": {}
  },
  {
   "cell_type": "code",
   "execution_count": 36,
   "source": [
    "out"
   ],
   "outputs": [
    {
     "output_type": "execute_result",
     "data": {
      "text/plain": [
       "[1, 1, 4, 2, 1, 1, 0, 0]"
      ]
     },
     "metadata": {},
     "execution_count": 36
    }
   ],
   "metadata": {}
  },
  {
   "cell_type": "code",
   "execution_count": 37,
   "source": [
    "answer = [0] * len(T)\r\n",
    "stack = []\r\n",
    "\r\n",
    "for i, cur in enumerate(T):\r\n",
    "    while stack and cur > T[stack[-1]]:\r\n",
    "        last = stack.pop()\r\n",
    "        answer[last] = i - last\r\n",
    "    stack.append(i)\r\n",
    "\r\n",
    "answer"
   ],
   "outputs": [
    {
     "output_type": "execute_result",
     "data": {
      "text/plain": [
       "[1, 1, 4, 2, 1, 1, 0, 0]"
      ]
     },
     "metadata": {},
     "execution_count": 37
    }
   ],
   "metadata": {}
  },
  {
   "cell_type": "code",
   "execution_count": null,
   "source": [],
   "outputs": [],
   "metadata": {}
  }
 ]
}