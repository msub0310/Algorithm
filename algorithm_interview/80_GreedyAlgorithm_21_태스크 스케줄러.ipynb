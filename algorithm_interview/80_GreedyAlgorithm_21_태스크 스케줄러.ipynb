{
 "metadata": {
  "language_info": {
   "codemirror_mode": {
    "name": "ipython",
    "version": 3
   },
   "file_extension": ".py",
   "mimetype": "text/x-python",
   "name": "python",
   "nbconvert_exporter": "python",
   "pygments_lexer": "ipython3",
   "version": "3.8.5"
  },
  "orig_nbformat": 2,
  "kernelspec": {
   "name": "python3",
   "display_name": "Python 3.8.5 64-bit ('algorithm': conda)"
  },
  "interpreter": {
   "hash": "6d1a3e62e6baacc997e7fd515824b0551567c542b1e37c125c97fb608db7a38d"
  }
 },
 "nbformat": 4,
 "nbformat_minor": 2,
 "cells": [
  {
   "cell_type": "code",
   "execution_count": 2,
   "source": [
    "tasks = [\"A\", \"A\", \"A\", \"B\", \"B\", \"B\"]\r\n",
    "n = 2\r\n",
    "\r\n",
    "print(tasks, n)"
   ],
   "outputs": [
    {
     "output_type": "stream",
     "name": "stdout",
     "text": [
      "['A', 'A', 'A', 'B', 'B', 'B'] 2\n"
     ]
    }
   ],
   "metadata": {}
  },
  {
   "cell_type": "code",
   "execution_count": 5,
   "source": [
    "import collections\r\n",
    "def leastInterval(tasks: [str], n: int) -> int:\r\n",
    "    counter = collections.Counter(tasks)\r\n",
    "    result = 0\r\n",
    "\r\n",
    "    while True:\r\n",
    "        sub_count = 0\r\n",
    "        for task, _ in counter.most_common(n + 1):\r\n",
    "            sub_count += 1\r\n",
    "            result += 1\r\n",
    "\r\n",
    "            counter.subtract(task)\r\n",
    "            counter += collections.Counter()\r\n",
    "        \r\n",
    "        if not counter:\r\n",
    "            break\r\n",
    "\r\n",
    "        result += n - sub_count + 1\r\n",
    "    \r\n",
    "    return result"
   ],
   "outputs": [],
   "metadata": {}
  },
  {
   "cell_type": "code",
   "execution_count": 6,
   "source": [
    "leastInterval(tasks, n)"
   ],
   "outputs": [
    {
     "output_type": "execute_result",
     "data": {
      "text/plain": [
       "8"
      ]
     },
     "metadata": {},
     "execution_count": 6
    }
   ],
   "metadata": {}
  },
  {
   "cell_type": "code",
   "execution_count": 4,
   "source": [
    "collections.Counter(tasks)"
   ],
   "outputs": [
    {
     "output_type": "execute_result",
     "data": {
      "text/plain": [
       "Counter({'A': 3, 'B': 3})"
      ]
     },
     "metadata": {},
     "execution_count": 4
    }
   ],
   "metadata": {}
  },
  {
   "cell_type": "code",
   "execution_count": null,
   "source": [],
   "outputs": [],
   "metadata": {}
  }
 ]
}