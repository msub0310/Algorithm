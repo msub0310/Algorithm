{
 "metadata": {
  "language_info": {
   "codemirror_mode": {
    "name": "ipython",
    "version": 3
   },
   "file_extension": ".py",
   "mimetype": "text/x-python",
   "name": "python",
   "nbconvert_exporter": "python",
   "pygments_lexer": "ipython3",
   "version": "3.8.5"
  },
  "orig_nbformat": 2,
  "kernelspec": {
   "name": "python3",
   "display_name": "Python 3.8.5 64-bit ('algorithm': conda)"
  },
  "interpreter": {
   "hash": "6d1a3e62e6baacc997e7fd515824b0551567c542b1e37c125c97fb608db7a38d"
  }
 },
 "nbformat": 4,
 "nbformat_minor": 2,
 "cells": [
  {
   "cell_type": "code",
   "execution_count": 1,
   "source": [
    "n_1, input_1 = 2, [[1, 0]]\r\n",
    "\r\n",
    "n_2, input_2 = 2, [[1, 0], [0, 1]]"
   ],
   "outputs": [],
   "metadata": {}
  },
  {
   "cell_type": "code",
   "execution_count": 14,
   "source": [
    "### 다시 보기\r\n",
    "import collections\r\n",
    "\r\n",
    "def canFinish(numCourses: int, prerequisites: [[int]]) -> bool:\r\n",
    "    graph = collections.defaultdict(list)\r\n",
    "\r\n",
    "    for x, y in prerequisites:\r\n",
    "        graph[x].append(y)\r\n",
    "\r\n",
    "    traced = set()\r\n",
    "\r\n",
    "    def dfs(i):\r\n",
    "        if i in traced:\r\n",
    "            return False\r\n",
    "\r\n",
    "        traced.add(i)\r\n",
    "        for y in graph[i]:\r\n",
    "            if not dfs(y):\r\n",
    "                return False\r\n",
    "        traced.remove(i)\r\n",
    "\r\n",
    "        return True\r\n",
    "\r\n",
    "    for x in list(graph):\r\n",
    "        if not dfs(x):\r\n",
    "            return False\r\n",
    "\r\n",
    "    return True\r\n",
    "\r\n",
    "print(canFinish(n_1, input_1))\r\n",
    "print(canFinish(n_2, input_2))"
   ],
   "outputs": [
    {
     "output_type": "stream",
     "name": "stdout",
     "text": [
      "True\n",
      "False\n"
     ]
    }
   ],
   "metadata": {}
  },
  {
   "cell_type": "code",
   "execution_count": 18,
   "source": [
    "import collections\r\n",
    "\r\n",
    "def canFinishPruning(numCourses: int, prerequisites: [[int]]) -> bool:\r\n",
    "    graph = collections.defaultdict(list)\r\n",
    "\r\n",
    "    for x, y in prerequisites:\r\n",
    "        graph[x].append(y)\r\n",
    "\r\n",
    "    traced = set()\r\n",
    "    visited = set()\r\n",
    "\r\n",
    "    def dfs(i):\r\n",
    "        if i in traced:\r\n",
    "            return False\r\n",
    "        \r\n",
    "        if i in visited:\r\n",
    "            return False\r\n",
    "\r\n",
    "        traced.add(i)\r\n",
    "\r\n",
    "        for y in graph[i]:\r\n",
    "            if not dfs(y):\r\n",
    "                return False\r\n",
    "        traced.remove(i)\r\n",
    "        visited.add(i)\r\n",
    "\r\n",
    "        return True\r\n",
    "\r\n",
    "    for x in list(graph):\r\n",
    "        if not dfs(x):\r\n",
    "            return False\r\n",
    "\r\n",
    "    return True\r\n",
    "\r\n",
    "print(canFinishPrunning(n_1, input_1))\r\n",
    "print(canFinishPrunning(n_2, input_2))"
   ],
   "outputs": [
    {
     "output_type": "stream",
     "name": "stdout",
     "text": [
      "True\n",
      "False\n"
     ]
    }
   ],
   "metadata": {}
  },
  {
   "cell_type": "code",
   "execution_count": null,
   "source": [],
   "outputs": [],
   "metadata": {}
  }
 ]
}