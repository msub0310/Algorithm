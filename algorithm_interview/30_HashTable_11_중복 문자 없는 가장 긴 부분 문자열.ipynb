{
 "metadata": {
  "language_info": {
   "codemirror_mode": {
    "name": "ipython",
    "version": 3
   },
   "file_extension": ".py",
   "mimetype": "text/x-python",
   "name": "python",
   "nbconvert_exporter": "python",
   "pygments_lexer": "ipython3",
   "version": "3.8.5"
  },
  "orig_nbformat": 2,
  "kernelspec": {
   "name": "python3",
   "display_name": "Python 3.8.5 64-bit ('algorithm': conda)"
  },
  "interpreter": {
   "hash": "6d1a3e62e6baacc997e7fd515824b0551567c542b1e37c125c97fb608db7a38d"
  }
 },
 "nbformat": 4,
 "nbformat_minor": 2,
 "cells": [
  {
   "cell_type": "code",
   "execution_count": 1,
   "source": [
    "input_1 = \"abcabcbb\"\r\n",
    "input_2 = \"bbbbb\"\r\n",
    "input_3 = \"pwwkew\""
   ],
   "outputs": [],
   "metadata": {}
  },
  {
   "cell_type": "code",
   "execution_count": 20,
   "source": [
    "#내 풀이\r\n",
    "input = input_1\r\n",
    "\r\n",
    "max_len = 0\r\n",
    "\r\n",
    "for i, char in enumerate(input):\r\n",
    "    start = i\r\n",
    "    end = i\r\n",
    "    while end != len(input):\r\n",
    "        if len(input[start:end+1]) == len(set(input[start:end+1])):\r\n",
    "            end += 1\r\n",
    "        else:\r\n",
    "            break\r\n",
    "\r\n",
    "    if len(input[start:end+1]) > max_len:\r\n",
    "        max_len = len(input[start:end+1]) - 1\r\n",
    "\r\n",
    "max_len"
   ],
   "outputs": [
    {
     "output_type": "execute_result",
     "data": {
      "text/plain": [
       "3"
      ]
     },
     "metadata": {},
     "execution_count": 20
    }
   ],
   "metadata": {}
  },
  {
   "cell_type": "code",
   "execution_count": 26,
   "source": [
    "s = input_1\r\n",
    "\r\n",
    "used = {}\r\n",
    "max_length = start = 0\r\n",
    "for index, char in enumerate(s):\r\n",
    "    if char in used and start <= used[char]:\r\n",
    "        start = used[char] + 1\r\n",
    "    \r\n",
    "    else:\r\n",
    "        max_length = max(max_length, index - start + 1)\r\n",
    "    \r\n",
    "    used[char] = index\r\n",
    "\r\n",
    "max_length"
   ],
   "outputs": [
    {
     "output_type": "execute_result",
     "data": {
      "text/plain": [
       "3"
      ]
     },
     "metadata": {},
     "execution_count": 26
    }
   ],
   "metadata": {}
  },
  {
   "cell_type": "code",
   "execution_count": null,
   "source": [],
   "outputs": [],
   "metadata": {}
  }
 ]
}