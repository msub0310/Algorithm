{
 "metadata": {
  "language_info": {
   "codemirror_mode": {
    "name": "ipython",
    "version": 3
   },
   "file_extension": ".py",
   "mimetype": "text/x-python",
   "name": "python",
   "nbconvert_exporter": "python",
   "pygments_lexer": "ipython3",
   "version": "3.8.5"
  },
  "orig_nbformat": 2,
  "kernelspec": {
   "name": "python3",
   "display_name": "Python 3.8.5 64-bit ('algorithm': conda)"
  },
  "interpreter": {
   "hash": "6d1a3e62e6baacc997e7fd515824b0551567c542b1e37c125c97fb608db7a38d"
  }
 },
 "nbformat": 4,
 "nbformat_minor": 2,
 "cells": [
  {
   "cell_type": "code",
   "execution_count": 1,
   "source": [
    "nums = [3, 2, 3, 1, 2, 4, 5, 5, 6]\r\n",
    "k = 3"
   ],
   "outputs": [],
   "metadata": {}
  },
  {
   "cell_type": "code",
   "execution_count": 2,
   "source": [
    "import heapq\r\n",
    "\r\n",
    "def findKthLargest(nums: [int], k: int):\r\n",
    "    heap = list()\r\n",
    "    for n in nums:\r\n",
    "        heapq.heappush(heap, -n)\r\n",
    "\r\n",
    "    for _ in range(k-1):\r\n",
    "        heapq.heappop(heap)\r\n",
    "\r\n",
    "    return -heapq.heappop(heap)"
   ],
   "outputs": [],
   "metadata": {}
  },
  {
   "cell_type": "code",
   "execution_count": 3,
   "source": [
    "findKthLargest(nums, k)"
   ],
   "outputs": [
    {
     "output_type": "execute_result",
     "data": {
      "text/plain": [
       "5"
      ]
     },
     "metadata": {},
     "execution_count": 3
    }
   ],
   "metadata": {}
  },
  {
   "cell_type": "code",
   "execution_count": 4,
   "source": [
    "import heapq\r\n",
    "\r\n",
    "def findKthLargestNlargest(nums: [int], k: int):\r\n",
    "    return heapq.nlargest(k, nums)[-1]"
   ],
   "outputs": [],
   "metadata": {}
  },
  {
   "cell_type": "code",
   "execution_count": 5,
   "source": [
    "findKthLargestNlargest(nums, k)"
   ],
   "outputs": [
    {
     "output_type": "execute_result",
     "data": {
      "text/plain": [
       "5"
      ]
     },
     "metadata": {},
     "execution_count": 5
    }
   ],
   "metadata": {}
  },
  {
   "cell_type": "code",
   "execution_count": 6,
   "source": [
    "def findKthLargestSort(nums, k):\r\n",
    "    return sorted(nums, reverse=True)[k - 1]"
   ],
   "outputs": [],
   "metadata": {}
  },
  {
   "cell_type": "code",
   "execution_count": 7,
   "source": [
    "findKthLargestSort(nums, k)"
   ],
   "outputs": [
    {
     "output_type": "execute_result",
     "data": {
      "text/plain": [
       "5"
      ]
     },
     "metadata": {},
     "execution_count": 7
    }
   ],
   "metadata": {}
  },
  {
   "cell_type": "code",
   "execution_count": 8,
   "source": [
    "import heapq\r\n",
    "\r\n",
    "def findKthLargestHeapify(nums: [int], k: int):\r\n",
    "    heapq.heapify(nums)\r\n",
    "\r\n",
    "    for _ in range(len(nums) - k):\r\n",
    "        heapq.heappop(nums)\r\n",
    "\r\n",
    "    return heapq.heappop(nums)"
   ],
   "outputs": [],
   "metadata": {}
  },
  {
   "cell_type": "code",
   "execution_count": 9,
   "source": [
    "findKthLargestHeapify(nums, k)"
   ],
   "outputs": [
    {
     "output_type": "execute_result",
     "data": {
      "text/plain": [
       "5"
      ]
     },
     "metadata": {},
     "execution_count": 9
    }
   ],
   "metadata": {}
  }
 ]
}