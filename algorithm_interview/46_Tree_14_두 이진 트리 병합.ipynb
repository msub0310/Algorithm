{
 "metadata": {
  "language_info": {
   "codemirror_mode": {
    "name": "ipython",
    "version": 3
   },
   "file_extension": ".py",
   "mimetype": "text/x-python",
   "name": "python",
   "nbconvert_exporter": "python",
   "pygments_lexer": "ipython3",
   "version": "3.8.5"
  },
  "orig_nbformat": 2,
  "kernelspec": {
   "name": "python3",
   "display_name": "Python 3.8.5 64-bit ('algorithm': conda)"
  },
  "interpreter": {
   "hash": "6d1a3e62e6baacc997e7fd515824b0551567c542b1e37c125c97fb608db7a38d"
  }
 },
 "nbformat": 4,
 "nbformat_minor": 2,
 "cells": [
  {
   "cell_type": "code",
   "execution_count": 1,
   "source": [
    "TreeList_1 = [1, 3, 2, 5]\r\n",
    "TreeList_2 = [2, 1, 3, None, 4, None, 7] \r\n",
    "\r\n",
    "print(TreeList_1)\r\n",
    "print(TreeList_2)"
   ],
   "outputs": [
    {
     "output_type": "stream",
     "name": "stdout",
     "text": [
      "[1, 3, 2, 5]\n",
      "[2, 1, 3, None, 4, None, 7]\n"
     ]
    }
   ],
   "metadata": {}
  },
  {
   "cell_type": "code",
   "execution_count": 2,
   "source": [
    "class TreeNode():\r\n",
    "    def __init__(self, val=0, left=None, right=None):\r\n",
    "        self.val = val\r\n",
    "        self.left = left\r\n",
    "        self.right = right"
   ],
   "outputs": [],
   "metadata": {}
  },
  {
   "cell_type": "code",
   "execution_count": 7,
   "source": [
    "def createBTree(TreeList: list, index: int=0) -> TreeNode:\r\n",
    "    pNode = None\r\n",
    "    if index < len(TreeList):\r\n",
    "        if TreeList[index] is None:\r\n",
    "            return\r\n",
    "        pNode = TreeNode(TreeList[index])\r\n",
    "        pNode.left = createBTree(TreeList, index * 2 + 1)\r\n",
    "        pNode.right = createBTree(TreeList, index * 2 + 2)\r\n",
    "\r\n",
    "    return pNode"
   ],
   "outputs": [],
   "metadata": {}
  },
  {
   "cell_type": "code",
   "execution_count": 13,
   "source": [
    "root_1 = createBTree(TreeList_1)\r\n",
    "root_2 = createBTree(TreeList_2)"
   ],
   "outputs": [],
   "metadata": {}
  },
  {
   "cell_type": "code",
   "execution_count": 14,
   "source": [
    "def mergeTree(t1: TreeNode, t2: TreeNode) -> TreeNode:\r\n",
    "    if t1 and t2:\r\n",
    "        node = TreeNode(t1.val + t2.val)\r\n",
    "        node.left = mergeTree(t1.left, t2.left)\r\n",
    "        node.right = mergeTree(t1.right, t2.right)\r\n",
    "\r\n",
    "        return node\r\n",
    "    else:\r\n",
    "        return t1 or t2"
   ],
   "outputs": [],
   "metadata": {}
  },
  {
   "cell_type": "code",
   "execution_count": 26,
   "source": [
    "mergeRoot = mergeTree(root_1, root_2)"
   ],
   "outputs": [],
   "metadata": {}
  },
  {
   "cell_type": "code",
   "execution_count": null,
   "source": [],
   "outputs": [],
   "metadata": {}
  }
 ]
}