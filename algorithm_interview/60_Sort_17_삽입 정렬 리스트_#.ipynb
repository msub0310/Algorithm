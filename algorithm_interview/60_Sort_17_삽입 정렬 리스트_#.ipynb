{
 "metadata": {
  "language_info": {
   "codemirror_mode": {
    "name": "ipython",
    "version": 3
   },
   "file_extension": ".py",
   "mimetype": "text/x-python",
   "name": "python",
   "nbconvert_exporter": "python",
   "pygments_lexer": "ipython3",
   "version": "3.8.5"
  },
  "orig_nbformat": 2,
  "kernelspec": {
   "name": "python3",
   "display_name": "Python 3.8.5 64-bit ('algorithm': conda)"
  },
  "interpreter": {
   "hash": "6d1a3e62e6baacc997e7fd515824b0551567c542b1e37c125c97fb608db7a38d"
  }
 },
 "nbformat": 4,
 "nbformat_minor": 2,
 "cells": [
  {
   "cell_type": "code",
   "execution_count": 1,
   "source": [
    "input_1 = [4, 2, 1, 3]"
   ],
   "outputs": [],
   "metadata": {}
  },
  {
   "cell_type": "code",
   "execution_count": 2,
   "source": [
    "class ListNode:\r\n",
    "    def __init__(self, val, next=None):\r\n",
    "        self.val = val\r\n",
    "        self.next = next"
   ],
   "outputs": [],
   "metadata": {}
  },
  {
   "cell_type": "code",
   "execution_count": 3,
   "source": [
    "def listToLinkedList(inputList: list) -> ListNode:\r\n",
    "    head = ListNode(inputList[0])\r\n",
    "    node = head\r\n",
    "    for val in inputList[1:]:\r\n",
    "        node.next = ListNode(val)\r\n",
    "        node = node.next\r\n",
    "\r\n",
    "    return head"
   ],
   "outputs": [],
   "metadata": {}
  },
  {
   "cell_type": "code",
   "execution_count": 4,
   "source": [
    "def printLinkedList(head: ListNode) -> None:\r\n",
    "    result = []\r\n",
    "    node = head\r\n",
    "    while node:\r\n",
    "        result.append(str(node.val))\r\n",
    "        node = node.next\r\n",
    "    \r\n",
    "    print(\"->\".join(result)) "
   ],
   "outputs": [],
   "metadata": {}
  },
  {
   "cell_type": "code",
   "execution_count": 5,
   "source": [
    "head = listToLinkedList(input_1)\r\n",
    "printLinkedList(head)"
   ],
   "outputs": [
    {
     "output_type": "stream",
     "name": "stdout",
     "text": [
      "4->2->1->3\n"
     ]
    }
   ],
   "metadata": {}
  },
  {
   "cell_type": "code",
   "execution_count": 9,
   "source": [
    "# 다시 보기\r\n",
    "\r\n",
    "def insertionSortList(head: ListNode) -> ListNode:\r\n",
    "    cur = parent = ListNode(0)\r\n",
    "    while head:\r\n",
    "        while cur.next and cur.next.val < head.val:\r\n",
    "            cur = cur.next\r\n",
    "        \r\n",
    "        cur.next, head.next, head = head, cur.next, head.next\r\n",
    "\r\n",
    "        if head and cur.val > head.val:\r\n",
    "            cur = parent\r\n",
    "    return parent.next"
   ],
   "outputs": [],
   "metadata": {}
  },
  {
   "cell_type": "code",
   "execution_count": 10,
   "source": [
    "input_1 = [4, 2, 1, 3]\r\n",
    "head = listToLinkedList(input_1)\r\n",
    "\r\n",
    "sortedhead = insertionSortList(head)\r\n",
    "printLinkedList(sortedhead)"
   ],
   "outputs": [
    {
     "output_type": "stream",
     "name": "stdout",
     "text": [
      "1->2->3->4\n"
     ]
    }
   ],
   "metadata": {}
  },
  {
   "cell_type": "code",
   "execution_count": null,
   "source": [],
   "outputs": [],
   "metadata": {}
  }
 ]
}