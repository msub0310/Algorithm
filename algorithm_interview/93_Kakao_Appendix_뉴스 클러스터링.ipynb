{
 "metadata": {
  "language_info": {
   "codemirror_mode": {
    "name": "ipython",
    "version": 3
   },
   "file_extension": ".py",
   "mimetype": "text/x-python",
   "name": "python",
   "nbconvert_exporter": "python",
   "pygments_lexer": "ipython3",
   "version": "3.8.5"
  },
  "orig_nbformat": 2,
  "kernelspec": {
   "name": "python3",
   "display_name": "Python 3.8.5 64-bit ('algorithm': conda)"
  },
  "interpreter": {
   "hash": "6d1a3e62e6baacc997e7fd515824b0551567c542b1e37c125c97fb608db7a38d"
  }
 },
 "nbformat": 4,
 "nbformat_minor": 2,
 "cells": [
  {
   "cell_type": "code",
   "execution_count": 128,
   "source": [
    "str1, str2 = \"FRANCE\", \"french\""
   ],
   "outputs": [],
   "metadata": {}
  },
  {
   "cell_type": "code",
   "execution_count": 131,
   "source": [
    "str1, str2 = \"handshake\", \"shake hands\""
   ],
   "outputs": [],
   "metadata": {}
  },
  {
   "cell_type": "code",
   "execution_count": 139,
   "source": [
    "str1, str2 = \"aa1+aa2\", \"AAAA12\""
   ],
   "outputs": [],
   "metadata": {}
  },
  {
   "cell_type": "code",
   "execution_count": 144,
   "source": [
    "str1, str2 = \"E=M*C^2\", \"e=m*c^2\""
   ],
   "outputs": [],
   "metadata": {}
  },
  {
   "cell_type": "code",
   "execution_count": 140,
   "source": [
    "# 내 풀이\r\n",
    "def solution(str1: str, str2: str) -> int:\r\n",
    "    def bigram(strInput: str) -> [str]:\r\n",
    "        bigram = []\r\n",
    "        for i in range(len(strInput) - 1):\r\n",
    "            if all([char.isalpha() for char in strInput.lower()[i:i+2]]):\r\n",
    "                bigram.append(strInput.lower()[i:i+2])\r\n",
    "        return bigram\r\n",
    "\r\n",
    "    bigram1, bigram2 = bigram(str1), bigram(str2)\r\n",
    "    \r\n",
    "    intersect = [i for i in bigram1 if i in bigram2]\r\n",
    "\r\n",
    "    union = bigram1 + bigram2\r\n",
    "    for bi in intersect:\r\n",
    "        union.remove(bi)\r\n",
    "\r\n",
    "    if len(union) > 0:\r\n",
    "        return int(len(intersect) / len(union) * 65536)\r\n",
    "    else:\r\n",
    "        return 65536"
   ],
   "outputs": [],
   "metadata": {}
  },
  {
   "cell_type": "code",
   "execution_count": 141,
   "source": [
    "solution(str1, str2)"
   ],
   "outputs": [
    {
     "output_type": "execute_result",
     "data": {
      "text/plain": [
       "43690"
      ]
     },
     "metadata": {},
     "execution_count": 141
    }
   ],
   "metadata": {}
  },
  {
   "cell_type": "code",
   "execution_count": 147,
   "source": [
    "import re\r\n",
    "import collections\r\n",
    "def solutionOfficial(str1: str, str2: str) -> int:\r\n",
    "    str1s = [\r\n",
    "        str1[i:i + 2].lower()\r\n",
    "        for i in range(len(str1) - 1)\r\n",
    "        if re.findall(\"[a-z]{2}\", str1[i:i + 2].lower())\r\n",
    "    ]\r\n",
    "    str2s = [\r\n",
    "        str2[i:i + 2]\r\n",
    "        for i in range(len(str2) - 1)\r\n",
    "        if re.findall(\"[a-z]{2}\", str2[i:i + 2].lower())\r\n",
    "    ]\r\n",
    "\r\n",
    "    intersection = sum((collections.Counter(str1s) &\r\n",
    "                        collections.Counter(str2s)).values())\r\n",
    "    \r\n",
    "    union = sum((collections.Counter(str1s) |\r\n",
    "                 collections.Counter(str2s)).values())\r\n",
    "\r\n",
    "    jaccard_sim = 1 if union == 0 else intersection / union\r\n",
    "    return int(jaccard_sim * 65536)"
   ],
   "outputs": [],
   "metadata": {}
  },
  {
   "cell_type": "code",
   "execution_count": 148,
   "source": [
    "solutionOfficial(str1, str2)"
   ],
   "outputs": [
    {
     "output_type": "execute_result",
     "data": {
      "text/plain": [
       "65536"
      ]
     },
     "metadata": {},
     "execution_count": 148
    }
   ],
   "metadata": {}
  },
  {
   "cell_type": "code",
   "execution_count": null,
   "source": [],
   "outputs": [],
   "metadata": {}
  }
 ]
}