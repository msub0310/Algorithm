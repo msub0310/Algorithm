{
 "metadata": {
  "language_info": {
   "codemirror_mode": {
    "name": "ipython",
    "version": 3
   },
   "file_extension": ".py",
   "mimetype": "text/x-python",
   "name": "python",
   "nbconvert_exporter": "python",
   "pygments_lexer": "ipython3",
   "version": "3.8.5"
  },
  "orig_nbformat": 2,
  "kernelspec": {
   "name": "python3",
   "display_name": "Python 3.8.5 64-bit ('algorithm': conda)"
  },
  "interpreter": {
   "hash": "6d1a3e62e6baacc997e7fd515824b0551567c542b1e37c125c97fb608db7a38d"
  }
 },
 "nbformat": 4,
 "nbformat_minor": 2,
 "cells": [
  {
   "cell_type": "code",
   "execution_count": 3,
   "source": [
    "cities = [\"Jeju\", \"Pangyo\", \"Seoul\", \"NewYork\", \"LA\", \"Jeju\", \"Pangyo\", \"Seoul\", \"NewYork\", \"LA\"]\r\n",
    "cacheSize = 3"
   ],
   "outputs": [],
   "metadata": {}
  },
  {
   "cell_type": "code",
   "execution_count": 9,
   "source": [
    "# 내 풀이\r\n",
    "import collections\r\n",
    "def solution(cities, cacheSize):\r\n",
    "    queue = collections.deque()\r\n",
    "\r\n",
    "    time = 0 \r\n",
    "    for city in cities:\r\n",
    "        #city = city.lower()\r\n",
    "        if city in queue:\r\n",
    "            time += 1\r\n",
    "            #queue.remove(city)\r\n",
    "            #queue.append(city)\r\n",
    "        else:\r\n",
    "            queue.append(city)\r\n",
    "            time += 5\r\n",
    "            if len(queue) > cacheSize:\r\n",
    "                queue.popleft()\r\n",
    "    return time"
   ],
   "outputs": [],
   "metadata": {}
  },
  {
   "cell_type": "code",
   "execution_count": 10,
   "source": [
    "solution(cities, cacheSize)"
   ],
   "outputs": [
    {
     "output_type": "execute_result",
     "data": {
      "text/plain": [
       "50"
      ]
     },
     "metadata": {},
     "execution_count": 10
    }
   ],
   "metadata": {}
  },
  {
   "cell_type": "code",
   "execution_count": 11,
   "source": [
    "import collections\r\n",
    "def solutionClean(cities, cacheSize):\r\n",
    "    elapsed: int = 0\r\n",
    "    cache = collections.deque(maxlen=cacheSize)\r\n",
    "\r\n",
    "    for c in cities:\r\n",
    "        c = c.lower()\r\n",
    "        if c in cache:\r\n",
    "            cache.remove(c)\r\n",
    "            cache.append(c)\r\n",
    "            elapsed += 1\r\n",
    "        else:\r\n",
    "            cache.append(c)\r\n",
    "            elapsed += 5\r\n",
    "    return elapsed"
   ],
   "outputs": [],
   "metadata": {}
  },
  {
   "cell_type": "code",
   "execution_count": 12,
   "source": [
    "solutionClean(cities, cacheSize)"
   ],
   "outputs": [
    {
     "output_type": "execute_result",
     "data": {
      "text/plain": [
       "50"
      ]
     },
     "metadata": {},
     "execution_count": 12
    }
   ],
   "metadata": {}
  },
  {
   "cell_type": "code",
   "execution_count": null,
   "source": [],
   "outputs": [],
   "metadata": {}
  }
 ]
}