{
 "metadata": {
  "language_info": {
   "codemirror_mode": {
    "name": "ipython",
    "version": 3
   },
   "file_extension": ".py",
   "mimetype": "text/x-python",
   "name": "python",
   "nbconvert_exporter": "python",
   "pygments_lexer": "ipython3",
   "version": "3.8.5"
  },
  "orig_nbformat": 2,
  "kernelspec": {
   "name": "python3",
   "display_name": "Python 3.8.5 64-bit ('algorithm': conda)"
  },
  "interpreter": {
   "hash": "6d1a3e62e6baacc997e7fd515824b0551567c542b1e37c125c97fb608db7a38d"
  }
 },
 "nbformat": 4,
 "nbformat_minor": 2,
 "cells": [
  {
   "cell_type": "code",
   "execution_count": 3,
   "source": [
    "data_1 = [197, 130, 1]\r\n",
    "data_2 = [235, 140, 4]\r\n",
    "\r\n",
    "print(data_1, data_2)"
   ],
   "outputs": [
    {
     "output_type": "stream",
     "name": "stdout",
     "text": [
      "[197, 130, 1] [235, 140, 4]\n"
     ]
    }
   ],
   "metadata": {}
  },
  {
   "cell_type": "code",
   "execution_count": 4,
   "source": [
    "def validUtf8(data : [[int]]) -> bool:\r\n",
    "    def check(size):\r\n",
    "        for i in range(start + 1, start + size + 1):\r\n",
    "            if i >= len(data) or (data[i] >> 6) != 0b10:\r\n",
    "                return False\r\n",
    "        return True\r\n",
    "\r\n",
    "    start = 0\r\n",
    "    while start < len(data):\r\n",
    "        first = data[start]\r\n",
    "        if (first >> 3) == 0b11110 and check(3):\r\n",
    "            start += 4\r\n",
    "        elif (first >> 4) == 0b1110 and check(2):\r\n",
    "            start += 3\r\n",
    "        elif (first >> 5) == 0b110 and check(1):\r\n",
    "            start += 2\r\n",
    "        elif (first >> 7) == 0:\r\n",
    "            start += 1\r\n",
    "        else:\r\n",
    "            return False\r\n",
    "    return True"
   ],
   "outputs": [],
   "metadata": {}
  },
  {
   "cell_type": "code",
   "execution_count": 5,
   "source": [
    "print(validUtf8(data_1))\r\n",
    "print(validUtf8(data_2))"
   ],
   "outputs": [
    {
     "output_type": "stream",
     "name": "stdout",
     "text": [
      "True\n",
      "False\n"
     ]
    }
   ],
   "metadata": {}
  },
  {
   "cell_type": "code",
   "execution_count": null,
   "source": [],
   "outputs": [],
   "metadata": {}
  }
 ]
}