{
 "metadata": {
  "language_info": {
   "codemirror_mode": {
    "name": "ipython",
    "version": 3
   },
   "file_extension": ".py",
   "mimetype": "text/x-python",
   "name": "python",
   "nbconvert_exporter": "python",
   "pygments_lexer": "ipython3",
   "version": "3.8.5"
  },
  "orig_nbformat": 2,
  "kernelspec": {
   "name": "python3",
   "display_name": "Python 3.8.5 64-bit ('algorithm': conda)"
  },
  "interpreter": {
   "hash": "6d1a3e62e6baacc997e7fd515824b0551567c542b1e37c125c97fb608db7a38d"
  }
 },
 "nbformat": 4,
 "nbformat_minor": 2,
 "cells": [
  {
   "cell_type": "code",
   "execution_count": 26,
   "source": [
    "def climbStairs(n: int) -> int:\r\n",
    "    if n <= 2:\r\n",
    "        return n\r\n",
    "    return climbStairs(n - 1) + climbStairs(n - 2)"
   ],
   "outputs": [],
   "metadata": {}
  },
  {
   "cell_type": "code",
   "execution_count": 27,
   "source": [
    "climbStairs(3)"
   ],
   "outputs": [
    {
     "output_type": "execute_result",
     "data": {
      "text/plain": [
       "3"
      ]
     },
     "metadata": {},
     "execution_count": 27
    }
   ],
   "metadata": {}
  },
  {
   "cell_type": "code",
   "execution_count": 20,
   "source": [
    "import collections\r\n",
    "class Solution:\r\n",
    "    dp = collections.defaultdict(int)\r\n",
    "    def climbStairsT(self, n: int) -> int:\r\n",
    "        self.dp[1] = 1\r\n",
    "        self.dp[2] = 2\r\n",
    "\r\n",
    "        for i in range(3, n + 1):\r\n",
    "            self.dp[i] = self.climbStairsT(i - 1) + self.climbStairsT(i - 2)\r\n",
    "\r\n",
    "        return self.dp[n]"
   ],
   "outputs": [],
   "metadata": {}
  },
  {
   "cell_type": "code",
   "execution_count": 22,
   "source": [
    "Solution().climbStairsT(3)"
   ],
   "outputs": [
    {
     "output_type": "execute_result",
     "data": {
      "text/plain": [
       "5"
      ]
     },
     "metadata": {},
     "execution_count": 22
    }
   ],
   "metadata": {}
  },
  {
   "cell_type": "code",
   "execution_count": 24,
   "source": [
    "import collections\r\n",
    "class Solution:\r\n",
    "    dp = collections.defaultdict(int)\r\n",
    "    def climbStairsM(self, n: int) -> int:\r\n",
    "        if n <= 2:\r\n",
    "            return n\r\n",
    "        self.dp[n] = self.climbStairsM(n - 1) + self.climbStairsM(n - 2)\r\n",
    "        return self.dp[n]"
   ],
   "outputs": [],
   "metadata": {}
  },
  {
   "cell_type": "code",
   "execution_count": 25,
   "source": [
    "Solution().climbStairsM(3)"
   ],
   "outputs": [
    {
     "output_type": "execute_result",
     "data": {
      "text/plain": [
       "5"
      ]
     },
     "metadata": {},
     "execution_count": 25
    }
   ],
   "metadata": {}
  },
  {
   "cell_type": "code",
   "execution_count": null,
   "source": [],
   "outputs": [],
   "metadata": {}
  }
 ]
}