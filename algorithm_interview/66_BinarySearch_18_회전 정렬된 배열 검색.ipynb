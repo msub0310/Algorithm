{
 "metadata": {
  "language_info": {
   "codemirror_mode": {
    "name": "ipython",
    "version": 3
   },
   "file_extension": ".py",
   "mimetype": "text/x-python",
   "name": "python",
   "nbconvert_exporter": "python",
   "pygments_lexer": "ipython3",
   "version": "3.8.5"
  },
  "orig_nbformat": 2,
  "kernelspec": {
   "name": "python3",
   "display_name": "Python 3.8.5 64-bit ('algorithm': conda)"
  },
  "interpreter": {
   "hash": "6d1a3e62e6baacc997e7fd515824b0551567c542b1e37c125c97fb608db7a38d"
  }
 },
 "nbformat": 4,
 "nbformat_minor": 2,
 "cells": [
  {
   "cell_type": "code",
   "execution_count": 2,
   "source": [
    "nums = [4, 5, 6, 7, 0, 1, 2]\r\n",
    "target = 1\r\n",
    "\r\n",
    "print(nums,target)"
   ],
   "outputs": [
    {
     "output_type": "stream",
     "name": "stdout",
     "text": [
      "[4, 5, 6, 7, 0, 1, 2] 1\n"
     ]
    }
   ],
   "metadata": {}
  },
  {
   "cell_type": "code",
   "execution_count": null,
   "source": [
    "# 내 풀이\r\n",
    "import bisect\r\n",
    "\r\n",
    "def search(nums: [int], target: int) -> int:\r\n",
    "    if not nums or target not in nums:\r\n",
    "        return -1\r\n",
    "    \r\n",
    "    pivot = nums.index(min(nums))\r\n",
    "    index = bisect.bisect_left(sorted(nums), target)\r\n",
    "\r\n",
    "    return (pivot + index) % len(nums)"
   ],
   "outputs": [],
   "metadata": {}
  },
  {
   "cell_type": "code",
   "execution_count": 14,
   "source": [
    "search(nums, target)"
   ],
   "outputs": [
    {
     "output_type": "execute_result",
     "data": {
      "text/plain": [
       "5"
      ]
     },
     "metadata": {},
     "execution_count": 14
    }
   ],
   "metadata": {}
  },
  {
   "cell_type": "code",
   "execution_count": 15,
   "source": [
    "def searchBinary(nums: [int], target: int) -> int:\r\n",
    "    if not nums:\r\n",
    "        return -1\r\n",
    "    \r\n",
    "    left, right = 0, len(nums) - 1\r\n",
    "    while left < right:\r\n",
    "        mid  = left + (right - left) // 2\r\n",
    "        if nums[mid] > nums[right]:\r\n",
    "            left = mid + 1\r\n",
    "        else:\r\n",
    "            right = mid\r\n",
    "    pivot = left\r\n",
    "\r\n",
    "    left, right = 0, len(nums) - 1\r\n",
    "    while left <= right:\r\n",
    "        mid = left + (right - left) // 2\r\n",
    "        mid_pivot = (mid + pivot) % len(nums)\r\n",
    "\r\n",
    "        if nums[mid_pivot] < target:\r\n",
    "            left = mid + 1\r\n",
    "        elif nums[mid_pivot] > target:\r\n",
    "            right = mid - 1\r\n",
    "        else:\r\n",
    "            return mid_pivot\r\n",
    "    return -1"
   ],
   "outputs": [],
   "metadata": {}
  },
  {
   "cell_type": "code",
   "execution_count": 16,
   "source": [
    "searchBinary(nums, target)"
   ],
   "outputs": [
    {
     "output_type": "execute_result",
     "data": {
      "text/plain": [
       "5"
      ]
     },
     "metadata": {},
     "execution_count": 16
    }
   ],
   "metadata": {}
  },
  {
   "cell_type": "code",
   "execution_count": null,
   "source": [],
   "outputs": [],
   "metadata": {}
  }
 ]
}