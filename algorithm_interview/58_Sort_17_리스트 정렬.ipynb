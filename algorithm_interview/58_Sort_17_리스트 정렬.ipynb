{
 "metadata": {
  "language_info": {
   "codemirror_mode": {
    "name": "ipython",
    "version": 3
   },
   "file_extension": ".py",
   "mimetype": "text/x-python",
   "name": "python",
   "nbconvert_exporter": "python",
   "pygments_lexer": "ipython3",
   "version": "3.8.5"
  },
  "orig_nbformat": 2,
  "kernelspec": {
   "name": "python3",
   "display_name": "Python 3.8.5 64-bit ('algorithm': conda)"
  },
  "interpreter": {
   "hash": "6d1a3e62e6baacc997e7fd515824b0551567c542b1e37c125c97fb608db7a38d"
  }
 },
 "nbformat": 4,
 "nbformat_minor": 2,
 "cells": [
  {
   "cell_type": "code",
   "execution_count": 1,
   "source": [
    "nums = [4, 2, 1, 3]"
   ],
   "outputs": [],
   "metadata": {}
  },
  {
   "cell_type": "code",
   "execution_count": 2,
   "source": [
    "class ListNode:\r\n",
    "    def __init__(self, val, next=None):\r\n",
    "        self.val = val\r\n",
    "        self.next = next"
   ],
   "outputs": [],
   "metadata": {}
  },
  {
   "cell_type": "code",
   "execution_count": 3,
   "source": [
    "def listToLinkedList(lst: list) -> ListNode:\r\n",
    "    head = ListNode(lst[0])\r\n",
    "    def link(node, lst):\r\n",
    "        for val in lst[1:]:\r\n",
    "            node.next = ListNode(val)\r\n",
    "            node = node.next\r\n",
    "\r\n",
    "    link(head, lst)\r\n",
    "    return head"
   ],
   "outputs": [],
   "metadata": {}
  },
  {
   "cell_type": "code",
   "execution_count": 4,
   "source": [
    "def linkedListToList(head: ListNode) -> str:\r\n",
    "    result = []\r\n",
    "    \r\n",
    "    node = ListNode(head.val)\r\n",
    "    node.next = head.next\r\n",
    "    \r\n",
    "    while node:\r\n",
    "        result.append(str(node.val))\r\n",
    "        node = node.next\r\n",
    "\r\n",
    "    return \"->\".join(result)"
   ],
   "outputs": [],
   "metadata": {}
  },
  {
   "cell_type": "code",
   "execution_count": 15,
   "source": [
    "nums = [4, 2, 1, 3]\r\n",
    "head = listToLinkedList(nums)\r\n",
    "linkedListToList(head)"
   ],
   "outputs": [
    {
     "output_type": "execute_result",
     "data": {
      "text/plain": [
       "'4->2->1->3'"
      ]
     },
     "metadata": {},
     "execution_count": 15
    }
   ],
   "metadata": {}
  },
  {
   "cell_type": "code",
   "execution_count": 6,
   "source": [
    "def mergeTwoLists(l1: ListNode, l2: ListNode) -> ListNode:\r\n",
    "    if l1 and 12:\r\n",
    "        if l1.val > l2.val:\r\n",
    "            l1, l2 = l2, l1\r\n",
    "        l1.next = mergeTwoLists(l1.next, l2)\r\n",
    "\r\n",
    "    return l1 or l2"
   ],
   "outputs": [],
   "metadata": {}
  },
  {
   "cell_type": "code",
   "execution_count": 7,
   "source": [
    "def sortList(head: ListNode) -> ListNode:\r\n",
    "    if not (head and head.next):\r\n",
    "        return head\r\n",
    "    \r\n",
    "    half, slow, fast = None, head, head\r\n",
    "    while fast and fast.next:\r\n",
    "        half, slow, fast = slow, slow.next, fast.next.next\r\n",
    "    half.next = None\r\n",
    "\r\n",
    "    l1 = sortList(head)\r\n",
    "    l2 = sortList(slow)\r\n",
    "\r\n",
    "    return mergeTwoLists(l1, l2)"
   ],
   "outputs": [],
   "metadata": {}
  },
  {
   "cell_type": "code",
   "execution_count": 16,
   "source": [
    "nums = [4, 2, 1, 3]\r\n",
    "head = listToLinkedList(nums)\r\n",
    "sortedHead = sortList(head)\r\n",
    "linkedListToList(sortedHead)"
   ],
   "outputs": [
    {
     "output_type": "execute_result",
     "data": {
      "text/plain": [
       "'1->2->3->4'"
      ]
     },
     "metadata": {},
     "execution_count": 16
    }
   ],
   "metadata": {}
  },
  {
   "cell_type": "code",
   "execution_count": 9,
   "source": [
    "def sortListBuiltIn(head: ListNode):\r\n",
    "    node = ListNode(head.val)\r\n",
    "    node.next = head.next\r\n",
    "\r\n",
    "    output_list = []\r\n",
    "    while node:\r\n",
    "        output_list.append(node.val)\r\n",
    "        node = node.next\r\n",
    "\r\n",
    "    output_list.sort()\r\n",
    "\r\n",
    "    output_head = ListNode(output_list[0])\r\n",
    "    next_node = output_head\r\n",
    "    for val in output_list[1:]:\r\n",
    "        next_node.next = ListNode(val)\r\n",
    "        next_node = next_node.next\r\n",
    "\r\n",
    "    return output_head"
   ],
   "outputs": [],
   "metadata": {}
  },
  {
   "cell_type": "code",
   "execution_count": 17,
   "source": [
    "nums = [4, 2, 1, 3]\r\n",
    "head = listToLinkedList(nums)\r\n",
    "sortedHead = sortListBuiltIn(head)\r\n",
    "linkedListToList(sortedHead)"
   ],
   "outputs": [
    {
     "output_type": "execute_result",
     "data": {
      "text/plain": [
       "'1->2->3->4'"
      ]
     },
     "metadata": {},
     "execution_count": 17
    }
   ],
   "metadata": {}
  },
  {
   "cell_type": "code",
   "execution_count": null,
   "source": [],
   "outputs": [],
   "metadata": {}
  }
 ]
}