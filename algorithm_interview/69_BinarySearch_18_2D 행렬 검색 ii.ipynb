{
 "metadata": {
  "language_info": {
   "codemirror_mode": {
    "name": "ipython",
    "version": 3
   },
   "file_extension": ".py",
   "mimetype": "text/x-python",
   "name": "python",
   "nbconvert_exporter": "python",
   "pygments_lexer": "ipython3",
   "version": "3.8.5"
  },
  "orig_nbformat": 2,
  "kernelspec": {
   "name": "python3",
   "display_name": "Python 3.8.5 64-bit ('algorithm': conda)"
  },
  "interpreter": {
   "hash": "6d1a3e62e6baacc997e7fd515824b0551567c542b1e37c125c97fb608db7a38d"
  }
 },
 "nbformat": 4,
 "nbformat_minor": 2,
 "cells": [
  {
   "cell_type": "code",
   "execution_count": 2,
   "source": [
    "input_1 = [\r\n",
    "    [1, 4, 7, 11, 15],\r\n",
    "    [2, 5, 8, 12, 19],\r\n",
    "    [3, 6, 9, 16, 22],\r\n",
    "    [10, 13, 14, 17, 24],\r\n",
    "    [18, 21, 23, 26, 30]]\r\n",
    "target = 23\r\n",
    "input_1"
   ],
   "outputs": [
    {
     "output_type": "execute_result",
     "data": {
      "text/plain": [
       "[[1, 4, 7, 11, 15],\n",
       " [2, 5, 8, 12, 19],\n",
       " [3, 6, 9, 16, 22],\n",
       " [10, 13, 14, 17, 24],\n",
       " [18, 21, 23, 26, 30]]"
      ]
     },
     "metadata": {},
     "execution_count": 2
    }
   ],
   "metadata": {}
  },
  {
   "cell_type": "code",
   "execution_count": 5,
   "source": [
    "# 내 풀이, Brute Force\r\n",
    "def search(matrix: [[int]], target: int) -> bool:\r\n",
    "    for vector in matrix:\r\n",
    "        for elem in vector:\r\n",
    "            if elem == target:\r\n",
    "                return True\r\n",
    "    return False"
   ],
   "outputs": [],
   "metadata": {}
  },
  {
   "cell_type": "code",
   "execution_count": 6,
   "source": [
    "search(input_1, target)"
   ],
   "outputs": [
    {
     "output_type": "execute_result",
     "data": {
      "text/plain": [
       "True"
      ]
     },
     "metadata": {},
     "execution_count": 6
    }
   ],
   "metadata": {}
  },
  {
   "cell_type": "code",
   "execution_count": 13,
   "source": [
    "# 내 풀이, DFS\r\n",
    "class Solution:\r\n",
    "    result = False\r\n",
    "    def searchDFS(self, matrix: [[int]], target: int) -> bool:\r\n",
    "        def dfs(row, col):\r\n",
    "            if matrix[row][col] == target:\r\n",
    "                self.result = True\r\n",
    "            if row < len(matrix) - 1 and not self.result:\r\n",
    "                dfs(row + 1, col)\r\n",
    "            if col < len(matrix[0]) - 1 and not self.result:\r\n",
    "                dfs(row, col + 1)\r\n",
    "\r\n",
    "        dfs(0, 0)\r\n",
    "        return self.result"
   ],
   "outputs": [],
   "metadata": {}
  },
  {
   "cell_type": "code",
   "execution_count": 14,
   "source": [
    "Solution().searchDFS(input_1, target)"
   ],
   "outputs": [
    {
     "output_type": "execute_result",
     "data": {
      "text/plain": [
       "True"
      ]
     },
     "metadata": {},
     "execution_count": 14
    }
   ],
   "metadata": {}
  },
  {
   "cell_type": "code",
   "execution_count": 3,
   "source": [
    "def searchPythonic(matrix: [[int]], target: int) -> bool:\r\n",
    "    return any(target in row for row in matrix)"
   ],
   "outputs": [],
   "metadata": {}
  },
  {
   "cell_type": "code",
   "execution_count": 4,
   "source": [
    "searchPythonic(input_1, target)"
   ],
   "outputs": [
    {
     "output_type": "execute_result",
     "data": {
      "text/plain": [
       "True"
      ]
     },
     "metadata": {},
     "execution_count": 4
    }
   ],
   "metadata": {}
  },
  {
   "cell_type": "code",
   "execution_count": 44,
   "source": [
    "def searchMatirx(matrix: [[int]], target: int) -> bool:\r\n",
    "    if not matrix:\r\n",
    "        return False\r\n",
    "\r\n",
    "    row = 0\r\n",
    "    col = len(matrix[0]) - 1\r\n",
    "\r\n",
    "    while row <= len(matrix) - 1 and col >= 0:\r\n",
    "        if target == matrix[row][col]:\r\n",
    "            return True\r\n",
    "        elif target < matrix[row][col]:\r\n",
    "            col -= 1\r\n",
    "        elif target > matrix[row][col]:\r\n",
    "            row += 1\r\n",
    "    return False"
   ],
   "outputs": [],
   "metadata": {}
  },
  {
   "cell_type": "code",
   "execution_count": 45,
   "source": [
    "searchMatirx(input_1, target)"
   ],
   "outputs": [
    {
     "output_type": "execute_result",
     "data": {
      "text/plain": [
       "True"
      ]
     },
     "metadata": {},
     "execution_count": 45
    }
   ],
   "metadata": {}
  },
  {
   "cell_type": "code",
   "execution_count": null,
   "source": [],
   "outputs": [],
   "metadata": {}
  }
 ]
}