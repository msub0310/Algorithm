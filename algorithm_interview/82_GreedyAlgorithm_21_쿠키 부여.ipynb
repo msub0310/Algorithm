{
 "metadata": {
  "language_info": {
   "codemirror_mode": {
    "name": "ipython",
    "version": 3
   },
   "file_extension": ".py",
   "mimetype": "text/x-python",
   "name": "python",
   "nbconvert_exporter": "python",
   "pygments_lexer": "ipython3",
   "version": "3.8.5"
  },
  "orig_nbformat": 2,
  "kernelspec": {
   "name": "python3",
   "display_name": "Python 3.8.5 64-bit ('algorithm': conda)"
  },
  "interpreter": {
   "hash": "6d1a3e62e6baacc997e7fd515824b0551567c542b1e37c125c97fb608db7a38d"
  }
 },
 "nbformat": 4,
 "nbformat_minor": 2,
 "cells": [
  {
   "cell_type": "code",
   "execution_count": 2,
   "source": [
    "g_1, s_1 = [1, 2, 3], [1, 1]\r\n",
    "g_2, s_2 = [1, 2], [1, 2, 3]\r\n",
    "\r\n",
    "print(g_1, s_1)\r\n",
    "print(g_2, s_2)"
   ],
   "outputs": [
    {
     "output_type": "stream",
     "name": "stdout",
     "text": [
      "[1, 2, 3] [1, 1]\n",
      "[1, 2] [1, 2, 3]\n"
     ]
    }
   ],
   "metadata": {}
  },
  {
   "cell_type": "code",
   "execution_count": 5,
   "source": [
    "def findContextChildren(g: [int], s: [int]) -> int:\r\n",
    "    s.sort()\r\n",
    "    g.sort()\r\n",
    "\r\n",
    "    child_i = cookie_j = 0\r\n",
    "    while child_i < len(g) and cookie_j < len(s):\r\n",
    "        if s[cookie_j] >= g[child_i]:\r\n",
    "            child_i += 1\r\n",
    "        cookie_j += 1\r\n",
    "    \r\n",
    "    return child_i"
   ],
   "outputs": [],
   "metadata": {}
  },
  {
   "cell_type": "code",
   "execution_count": 6,
   "source": [
    "print(findContextChildren(g_1, s_1))\r\n",
    "print(findContextChildren(g_2, s_2))"
   ],
   "outputs": [
    {
     "output_type": "stream",
     "name": "stdout",
     "text": [
      "1\n",
      "2\n"
     ]
    }
   ],
   "metadata": {}
  },
  {
   "cell_type": "code",
   "execution_count": 7,
   "source": [
    "import bisect\r\n",
    "def findContextChildrenBinary(g: [int], s: [int]) -> int:\r\n",
    "    g.sort()\r\n",
    "    s.sort()\r\n",
    "\r\n",
    "    result = 0\r\n",
    "    for i in s:\r\n",
    "        index = bisect.bisect_right(g, i)\r\n",
    "        if index > result:\r\n",
    "            result += 1\r\n",
    "    return result"
   ],
   "outputs": [],
   "metadata": {}
  },
  {
   "cell_type": "code",
   "execution_count": 8,
   "source": [
    "print(findContextChildrenBinary(g_1, s_1))\r\n",
    "print(findContextChildrenBinary(g_2, s_2))"
   ],
   "outputs": [
    {
     "output_type": "stream",
     "name": "stdout",
     "text": [
      "1\n",
      "2\n"
     ]
    }
   ],
   "metadata": {}
  },
  {
   "cell_type": "code",
   "execution_count": null,
   "source": [],
   "outputs": [],
   "metadata": {}
  }
 ]
}