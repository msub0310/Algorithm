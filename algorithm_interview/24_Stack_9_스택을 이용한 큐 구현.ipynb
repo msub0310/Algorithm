{
 "metadata": {
  "language_info": {
   "codemirror_mode": {
    "name": "ipython",
    "version": 3
   },
   "file_extension": ".py",
   "mimetype": "text/x-python",
   "name": "python",
   "nbconvert_exporter": "python",
   "pygments_lexer": "ipython3",
   "version": "3.8.5"
  },
  "orig_nbformat": 2,
  "kernelspec": {
   "name": "python3",
   "display_name": "Python 3.8.5 64-bit ('at_augmentation': conda)"
  },
  "interpreter": {
   "hash": "828202fa85a8b396542176841487990126fada61002bf35be36a9dd70b81875f"
  }
 },
 "nbformat": 4,
 "nbformat_minor": 2,
 "cells": [
  {
   "cell_type": "code",
   "execution_count": 1,
   "source": [
    "import collections"
   ],
   "outputs": [],
   "metadata": {}
  },
  {
   "cell_type": "code",
   "execution_count": 3,
   "source": [
    "class MyQueue:\r\n",
    "    def __init__(self):\r\n",
    "        self.input = []\r\n",
    "        self.output = []\r\n",
    "\r\n",
    "    def push(self, x):\r\n",
    "        self.input.append(x)\r\n",
    "\r\n",
    "    def pop(self):\r\n",
    "        self.peek()\r\n",
    "        return self.output.pop()\r\n",
    "\r\n",
    "    def peek(self):\r\n",
    "        if not self.output:\r\n",
    "            while self.input:\r\n",
    "                self.output.append(self.input.pop())\r\n",
    "        return self.output[-1]\r\n",
    "\r\n",
    "    def empty(self):\r\n",
    "        return self.input == [] and self.output == []"
   ],
   "outputs": [],
   "metadata": {}
  },
  {
   "cell_type": "code",
   "execution_count": 29,
   "source": [
    "input = []\r\n",
    "output = []\r\n",
    "\r\n",
    "def push(x):\r\n",
    "    input.append(x)\r\n",
    "\r\n",
    "def pop():\r\n",
    "    peek()\r\n",
    "    return output.pop()\r\n",
    "\r\n",
    "def peek():\r\n",
    "    if not output:\r\n",
    "        while input:\r\n",
    "            output.append(input.pop())\r\n",
    "    return output[-1]\r\n",
    "\r\n",
    "def empty():\r\n",
    "    return input == [] and output == []"
   ],
   "outputs": [],
   "metadata": {}
  },
  {
   "cell_type": "code",
   "execution_count": 52,
   "source": [
    "myqueue = MyQueue()"
   ],
   "outputs": [],
   "metadata": {}
  },
  {
   "cell_type": "code",
   "execution_count": 53,
   "source": [
    "for i in range(5):\r\n",
    "\r\n",
    "    myqueue.push(i + 1)"
   ],
   "outputs": [],
   "metadata": {}
  },
  {
   "cell_type": "code",
   "execution_count": 54,
   "source": [
    "print(myqueue.peek())\r\n",
    "print()\r\n",
    "\r\n",
    "while not myqueue.empty():\r\n",
    "    print(myqueue.pop())\r\n",
    "\r\n",
    "print()\r\n",
    "print(myqueue.empty())"
   ],
   "outputs": [
    {
     "output_type": "stream",
     "name": "stdout",
     "text": [
      "1\n",
      "\n",
      "1\n",
      "2\n",
      "3\n",
      "4\n",
      "5\n",
      "\n",
      "True\n"
     ]
    }
   ],
   "metadata": {}
  },
  {
   "cell_type": "code",
   "execution_count": null,
   "source": [],
   "outputs": [],
   "metadata": {}
  }
 ]
}