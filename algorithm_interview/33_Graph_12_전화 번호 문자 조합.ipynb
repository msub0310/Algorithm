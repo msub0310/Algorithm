{
 "metadata": {
  "language_info": {
   "codemirror_mode": {
    "name": "ipython",
    "version": 3
   },
   "file_extension": ".py",
   "mimetype": "text/x-python",
   "name": "python",
   "nbconvert_exporter": "python",
   "pygments_lexer": "ipython3",
   "version": "3.8.5"
  },
  "orig_nbformat": 2,
  "kernelspec": {
   "name": "python3",
   "display_name": "Python 3.8.5 64-bit ('algorithm': conda)"
  },
  "interpreter": {
   "hash": "6d1a3e62e6baacc997e7fd515824b0551567c542b1e37c125c97fb608db7a38d"
  }
 },
 "nbformat": 4,
 "nbformat_minor": 2,
 "cells": [
  {
   "cell_type": "code",
   "execution_count": 2,
   "source": [
    "digits = \"387\""
   ],
   "outputs": [],
   "metadata": {}
  },
  {
   "cell_type": "code",
   "execution_count": 3,
   "source": [
    "def letterCombinations(digits: str) -> [str]:\r\n",
    "    def dfs(index, path):\r\n",
    "        if len(path) == len(digits):\r\n",
    "            result.append(path)\r\n",
    "            return\r\n",
    "        \r\n",
    "        for i in range(index, len(digits)):\r\n",
    "            for j in dic[digits[i]]:\r\n",
    "                dfs(i + 1, path + j)\r\n",
    "\r\n",
    "    if not digits:\r\n",
    "        return []\r\n",
    "\r\n",
    "    dic = {\"2\": \"abc\", \"3\": \"def\", \"4\": \"ghi\", \"5\": \"jkl\",\r\n",
    "           \"6\": \"mno\", \"7\": \"pqrs\", \"8\": \"tuv\", \"9\": \"wxyz\"}\r\n",
    "    result = []\r\n",
    "    dfs(0, \"\")\r\n",
    "\r\n",
    "    return result\r\n",
    "\r\n",
    "print(letterCombinations(digits))"
   ],
   "outputs": [
    {
     "output_type": "stream",
     "name": "stdout",
     "text": [
      "['dtp', 'dtq', 'dtr', 'dts', 'dup', 'duq', 'dur', 'dus', 'dvp', 'dvq', 'dvr', 'dvs', 'etp', 'etq', 'etr', 'ets', 'eup', 'euq', 'eur', 'eus', 'evp', 'evq', 'evr', 'evs', 'ftp', 'ftq', 'ftr', 'fts', 'fup', 'fuq', 'fur', 'fus', 'fvp', 'fvq', 'fvr', 'fvs']\n"
     ]
    }
   ],
   "metadata": {}
  },
  {
   "cell_type": "code",
   "execution_count": null,
   "source": [],
   "outputs": [],
   "metadata": {}
  }
 ]
}