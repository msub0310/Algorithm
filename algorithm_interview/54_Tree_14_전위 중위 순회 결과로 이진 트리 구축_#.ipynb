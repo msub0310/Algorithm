{
 "metadata": {
  "language_info": {
   "codemirror_mode": {
    "name": "ipython",
    "version": 3
   },
   "file_extension": ".py",
   "mimetype": "text/x-python",
   "name": "python",
   "nbconvert_exporter": "python",
   "pygments_lexer": "ipython3",
   "version": "3.8.5"
  },
  "orig_nbformat": 2,
  "kernelspec": {
   "name": "python3",
   "display_name": "Python 3.8.5 64-bit ('algorithm': conda)"
  },
  "interpreter": {
   "hash": "6d1a3e62e6baacc997e7fd515824b0551567c542b1e37c125c97fb608db7a38d"
  }
 },
 "nbformat": 4,
 "nbformat_minor": 2,
 "cells": [
  {
   "cell_type": "code",
   "execution_count": 109,
   "source": [
    "preorder = [3, 9, 20, 15, 7]\r\n",
    "inorder = [9, 3, 15, 20, 7]"
   ],
   "outputs": [],
   "metadata": {}
  },
  {
   "cell_type": "code",
   "execution_count": 110,
   "source": [
    "class TreeNode:\r\n",
    "    def __init__(self, val=0, left=None, right=None):\r\n",
    "        self.val = val\r\n",
    "        self.left = left\r\n",
    "        self.right = right"
   ],
   "outputs": [],
   "metadata": {}
  },
  {
   "cell_type": "code",
   "execution_count": 111,
   "source": [
    "\"\"\"왜 안되는지 확인하기!\"\"\"\r\n",
    "\r\n",
    "#import collections\r\n",
    "#\r\n",
    "#def buildTree(preorder: [int], inorder: [int]) -> TreeNode:\r\n",
    "#    preQueue = collections.deque(preorder)\r\n",
    "#    inQueue = collections.deque(inorder)\r\n",
    "#\r\n",
    "#    if inQueue:\r\n",
    "#        index = inQueue.index(preQueue.popleft())\r\n",
    "#\r\n",
    "#        node = TreeNode(inQueue[index])\r\n",
    "#        node.left = buildTree(list(preQueue), list(inQueue)[0:index])\r\n",
    "#        node.right = buildTree(list(preQueue), list(inQueue)[index+1:])\r\n",
    "#\r\n",
    "#        return node"
   ],
   "outputs": [
    {
     "output_type": "execute_result",
     "data": {
      "text/plain": [
       "'왜 안되는지 확인하기!'"
      ]
     },
     "metadata": {},
     "execution_count": 111
    }
   ],
   "metadata": {}
  },
  {
   "cell_type": "code",
   "execution_count": 112,
   "source": [
    "import collections\r\n",
    "\r\n",
    "def buildTree(preorder: [int], inorder: [int]) -> TreeNode:\r\n",
    "\r\n",
    "    if inorder:\r\n",
    "        index = inorder.index(preorder.pop(0))\r\n",
    "\r\n",
    "        node = TreeNode(inorder[index])\r\n",
    "        node.left = buildTree(preorder, inorder[0:index])\r\n",
    "        node.right = buildTree(preorder, inorder[index+1:])\r\n",
    "\r\n",
    "        return node"
   ],
   "outputs": [],
   "metadata": {}
  },
  {
   "cell_type": "code",
   "execution_count": 113,
   "source": [
    "root = buildTree(preorder, inorder)"
   ],
   "outputs": [],
   "metadata": {}
  },
  {
   "cell_type": "code",
   "execution_count": 114,
   "source": [
    "import collections\r\n",
    "\r\n",
    "def BTreeToList(root: TreeNode) -> list:\r\n",
    "    queue = collections.deque([root])\r\n",
    "    result = []\r\n",
    "    \r\n",
    "    while queue:\r\n",
    "        node = queue.popleft()\r\n",
    "        if node:\r\n",
    "            result.append(node.val)\r\n",
    "            queue.append(node.left)\r\n",
    "            queue.append(node.right)\r\n",
    "        else:\r\n",
    "            result.append(None)\r\n",
    "\r\n",
    "        if all((x is None for x in queue)):\r\n",
    "            break\r\n",
    "\r\n",
    "    return result\r\n"
   ],
   "outputs": [],
   "metadata": {}
  },
  {
   "cell_type": "code",
   "execution_count": 115,
   "source": [
    "BTreeToList(root)"
   ],
   "outputs": [
    {
     "output_type": "execute_result",
     "data": {
      "text/plain": [
       "[3, 9, 20, None, None, 15, 7]"
      ]
     },
     "metadata": {},
     "execution_count": 115
    }
   ],
   "metadata": {}
  },
  {
   "cell_type": "code",
   "execution_count": null,
   "source": [],
   "outputs": [],
   "metadata": {}
  }
 ]
}