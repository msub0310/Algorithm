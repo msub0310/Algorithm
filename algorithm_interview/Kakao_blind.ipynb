{
 "metadata": {
  "language_info": {
   "codemirror_mode": {
    "name": "ipython",
    "version": 3
   },
   "file_extension": ".py",
   "mimetype": "text/x-python",
   "name": "python",
   "nbconvert_exporter": "python",
   "pygments_lexer": "ipython3",
   "version": "3.8.5"
  },
  "orig_nbformat": 2,
  "kernelspec": {
   "name": "python3",
   "display_name": "Python 3.8.5 64-bit ('algorithm': conda)"
  },
  "interpreter": {
   "hash": "6d1a3e62e6baacc997e7fd515824b0551567c542b1e37c125c97fb608db7a38d"
  }
 },
 "nbformat": 4,
 "nbformat_minor": 2,
 "cells": [
  {
   "cell_type": "code",
   "execution_count": 1,
   "source": [
    "\"\"\"\r\n",
    "5.\r\n",
    "늑대와 양 문제\r\n",
    "이진 트리에서 각 노드에 양 또는 늑대 존재\r\n",
    "노드를 방문하면 늑대와 양이 따라옴\r\n",
    "늑대 숫자가 더 많아지면 실패\r\n",
    "최대로 많은 양을 모아 루트 노드로 귀환\r\n",
    "양의 숫자를 리턴\r\n",
    "info 0: 양, 1: 늑대\r\n",
    "edge: 연결정보\r\n",
    "\"\"\""
   ],
   "outputs": [
    {
     "output_type": "execute_result",
     "data": {
      "text/plain": [
       "'\\n5.\\n늑대와 양 문제\\n이진 트리에서 각 노드에 양 또는 늑대 존재\\n노드를 방문하면 늑대와 양이 따라옴\\n늑대 숫자가 더 많아지면 실패\\n최대로 많은 양을 모아 루트 노드로 귀환\\n양의 숫자를 리턴\\ninfo 0: 양, 1: 늑대\\nedge: 연결정보\\n'"
      ]
     },
     "metadata": {},
     "execution_count": 1
    }
   ],
   "metadata": {}
  },
  {
   "cell_type": "code",
   "execution_count": 2,
   "source": [
    "info = [0, 0, 1, 1, 1, 0, 1, 0, 1, 0, 1, 1]\r\n",
    "edges = [[0, 1], [1, 2], [1, 4], [0, 8], [9, 11], [4, 3], [6, 5], [4, 6], [8, 9]]"
   ],
   "outputs": [],
   "metadata": {}
  },
  {
   "cell_type": "code",
   "execution_count": 3,
   "source": [
    "import collections\r\n",
    "BTree = collections.defaultdict(list)\r\n",
    "\r\n",
    "for edge in edges:\r\n",
    "    BTree[edge[0]].append(edge[1])\r\n",
    "\r\n",
    "BTree"
   ],
   "outputs": [
    {
     "output_type": "execute_result",
     "data": {
      "text/plain": [
       "defaultdict(list, {0: [1, 8], 1: [2, 4], 9: [11], 4: [3, 6], 6: [5], 8: [9]})"
      ]
     },
     "metadata": {},
     "execution_count": 3
    }
   ],
   "metadata": {}
  },
  {
   "cell_type": "code",
   "execution_count": 40,
   "source": [
    "class solution:\r\n",
    "    stack = collections.deque()\r\n",
    "    wolf, sheep = 0, 0\r\n",
    "\r\n",
    "    def dfs(self, node):\r\n",
    "        print(self.sheep)\r\n",
    "        if info[node] == 0:\r\n",
    "            info[node] = -1\r\n",
    "            self.sheep += 1\r\n",
    "            for child_node in BTree[node]:\r\n",
    "                self.stack.append(child_node)\r\n",
    "            self.dfs(self.stack.pop())\r\n",
    "        elif info[node] == 1:\r\n",
    "            if self.sheep > self.wolf:\r\n",
    "                info[node] = -1\r\n",
    "                self.wolf += 1\r\n",
    "                for child_node in BTree[node]:\r\n",
    "                    self.stack.append(child_node)\r\n",
    "                self.dfs(self.stack.pop())\r\n",
    "            else:\r\n",
    "                self.dfs(0)\r\n",
    "        elif info[node] < 0:\r\n",
    "            info[node] -= 1\r\n",
    "            if info[node] > -len(info):\r\n",
    "                for child_node in BTree[node]:\r\n",
    "                    self.stack.append(child_node)\r\n",
    "                self.dfs(self.stack.pop())\r\n",
    "            else:\r\n",
    "                return self.sheep"
   ],
   "outputs": [],
   "metadata": {}
  },
  {
   "cell_type": "code",
   "execution_count": 41,
   "source": [
    "solution().dfs(0)"
   ],
   "outputs": [
    {
     "output_type": "stream",
     "name": "stdout",
     "text": [
      "0\n"
     ]
    },
    {
     "output_type": "execute_result",
     "data": {
      "text/plain": [
       "0"
      ]
     },
     "metadata": {},
     "execution_count": 41
    }
   ],
   "metadata": {}
  },
  {
   "cell_type": "code",
   "execution_count": null,
   "source": [],
   "outputs": [],
   "metadata": {}
  }
 ]
}