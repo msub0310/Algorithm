{
 "metadata": {
  "language_info": {
   "codemirror_mode": {
    "name": "ipython",
    "version": 3
   },
   "file_extension": ".py",
   "mimetype": "text/x-python",
   "name": "python",
   "nbconvert_exporter": "python",
   "pygments_lexer": "ipython3",
   "version": "3.8.5"
  },
  "orig_nbformat": 2,
  "kernelspec": {
   "name": "python3",
   "display_name": "Python 3.8.5 64-bit ('algorithm': conda)"
  },
  "interpreter": {
   "hash": "6d1a3e62e6baacc997e7fd515824b0551567c542b1e37c125c97fb608db7a38d"
  }
 },
 "nbformat": 4,
 "nbformat_minor": 2,
 "cells": [
  {
   "cell_type": "code",
   "execution_count": 1,
   "source": [
    "class MyCircularQueue:\r\n",
    "    def __init__(self, k: int):\r\n",
    "        self.q = [None] * k\r\n",
    "        self.maxlen = k\r\n",
    "        self.p1 = 0\r\n",
    "        self.p2 = 0\r\n",
    "\r\n",
    "    def enQueue(self, value: int) -> bool:\r\n",
    "        if self.q[self.p2] is None:\r\n",
    "            self.q[self.p2] = value\r\n",
    "            self.p2 = (self.p2 + 1) % self.maxlen\r\n",
    "            return True\r\n",
    "\r\n",
    "        else:\r\n",
    "            return False\r\n",
    "\r\n",
    "    def deQueue(self) -> bool:\r\n",
    "        if self.q[self.p1] is None:\r\n",
    "            return False\r\n",
    "        else:\r\n",
    "            self.q[self.p1] = None\r\n",
    "            self.p1 = (self.p1 + 1) % self.maxlen\r\n",
    "            return True\r\n",
    "\r\n",
    "    def Front(self) -> int:\r\n",
    "        return -1 if self.q[self.p1] is None else self.q[self.p1]\r\n",
    "\r\n",
    "    def Rear(self) -> int:\r\n",
    "        return -1 if self.q[self.p2 - 1] is None else self.q[self.p2 - 1]\r\n",
    "\r\n",
    "    def isEmpty(self) -> bool:\r\n",
    "        return self.p1 == self.p2 and self.q[self.p1] is None\r\n",
    "\r\n",
    "    def isFull(self) -> bool:\r\n",
    "        return self.p1 == self.p2 and self.q[self.p1] is not None"
   ],
   "outputs": [],
   "metadata": {}
  },
  {
   "cell_type": "code",
   "execution_count": 2,
   "source": [
    "mycircularqueue = MyCircularQueue(k = 5)\r\n",
    "\r\n",
    "mycircularqueue.isEmpty()"
   ],
   "outputs": [
    {
     "output_type": "execute_result",
     "data": {
      "text/plain": [
       "True"
      ]
     },
     "metadata": {},
     "execution_count": 2
    }
   ],
   "metadata": {}
  },
  {
   "cell_type": "code",
   "execution_count": 3,
   "source": [
    "for i in range(5):\r\n",
    "    mycircularqueue.enQueue(i + 1)\r\n",
    "    print(mycircularqueue.Rear())"
   ],
   "outputs": [
    {
     "output_type": "stream",
     "name": "stdout",
     "text": [
      "1\n",
      "2\n",
      "3\n",
      "4\n",
      "5\n"
     ]
    }
   ],
   "metadata": {}
  },
  {
   "cell_type": "code",
   "execution_count": 4,
   "source": [
    "mycircularqueue.isFull()"
   ],
   "outputs": [
    {
     "output_type": "execute_result",
     "data": {
      "text/plain": [
       "True"
      ]
     },
     "metadata": {},
     "execution_count": 4
    }
   ],
   "metadata": {}
  },
  {
   "cell_type": "code",
   "execution_count": 5,
   "source": [
    "while not mycircularqueue.isEmpty():\r\n",
    "    mycircularqueue.deQueue()\r\n",
    "    print(mycircularqueue.Front())\r\n",
    "\r\n",
    "print()\r\n",
    "print(mycircularqueue.isEmpty())"
   ],
   "outputs": [
    {
     "output_type": "stream",
     "name": "stdout",
     "text": [
      "True\n",
      "2\n",
      "True\n",
      "3\n",
      "True\n",
      "4\n",
      "True\n",
      "5\n",
      "True\n",
      "-1\n",
      "\n",
      "True\n"
     ]
    }
   ],
   "metadata": {}
  },
  {
   "cell_type": "code",
   "execution_count": null,
   "source": [],
   "outputs": [],
   "metadata": {}
  }
 ]
}