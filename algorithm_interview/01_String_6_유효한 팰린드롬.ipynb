{
 "metadata": {
  "language_info": {
   "codemirror_mode": {
    "name": "ipython",
    "version": 3
   },
   "file_extension": ".py",
   "mimetype": "text/x-python",
   "name": "python",
   "nbconvert_exporter": "python",
   "pygments_lexer": "ipython3",
   "version": "3.8.5"
  },
  "orig_nbformat": 2,
  "kernelspec": {
   "name": "python3",
   "display_name": "Python 3.8.5 64-bit ('at_augmentation': conda)"
  },
  "interpreter": {
   "hash": "828202fa85a8b396542176841487990126fada61002bf35be36a9dd70b81875f"
  }
 },
 "nbformat": 4,
 "nbformat_minor": 2,
 "cells": [
  {
   "cell_type": "code",
   "execution_count": 44,
   "source": [
    "s = \"A man, a plan, a canal: Panama\""
   ],
   "outputs": [],
   "metadata": {}
  },
  {
   "cell_type": "code",
   "execution_count": 35,
   "source": [
    "#s = \"race a car\""
   ],
   "outputs": [],
   "metadata": {}
  },
  {
   "cell_type": "code",
   "execution_count": 36,
   "source": [
    "# 내 풀이, Stack\r\n",
    "import collections\r\n",
    "def isPallendrome(s: str) -> bool:\r\n",
    "    s = s.lower()\r\n",
    "    s = \"\".join([char for char in s if char.isalnum()])\r\n",
    "    stack = collections.deque(s[:len(s)//2])\r\n",
    "    for i in range(len(stack)):\r\n",
    "        if s[len(s)//2 + 1 + i] != stack.pop():\r\n",
    "            return False\r\n",
    "    return True"
   ],
   "outputs": [],
   "metadata": {}
  },
  {
   "cell_type": "code",
   "execution_count": 37,
   "source": [
    "isPallendrome(s)"
   ],
   "outputs": [
    {
     "output_type": "execute_result",
     "data": {
      "text/plain": [
       "True"
      ]
     },
     "metadata": {},
     "execution_count": 37
    }
   ],
   "metadata": {}
  },
  {
   "cell_type": "code",
   "execution_count": 40,
   "source": [
    "# 내 풀이, Indexing\r\n",
    "def isPallendromeIndexing(s: str) -> bool:\r\n",
    "    s = \"\".join([char for char in s.lower() if char.isalnum()])\r\n",
    "    for i in range(len(s)//2):\r\n",
    "        if s[i] != s[-(i + 1)]:\r\n",
    "            return False\r\n",
    "    return True"
   ],
   "outputs": [],
   "metadata": {}
  },
  {
   "cell_type": "code",
   "execution_count": 41,
   "source": [
    "isPallendromeIndexing(s)"
   ],
   "outputs": [
    {
     "output_type": "execute_result",
     "data": {
      "text/plain": [
       "True"
      ]
     },
     "metadata": {},
     "execution_count": 41
    }
   ],
   "metadata": {}
  },
  {
   "cell_type": "code",
   "execution_count": 47,
   "source": [
    "def isPalClean(s: str) -> bool:\r\n",
    "    s = \"\".join([c for c in s.lower() if c.isalnum()])\r\n",
    "    return s == s[::-1]"
   ],
   "outputs": [],
   "metadata": {}
  },
  {
   "cell_type": "code",
   "execution_count": 48,
   "source": [
    "isPalClean(s)"
   ],
   "outputs": [
    {
     "output_type": "execute_result",
     "data": {
      "text/plain": [
       "True"
      ]
     },
     "metadata": {},
     "execution_count": 48
    }
   ],
   "metadata": {}
  },
  {
   "cell_type": "code",
   "execution_count": null,
   "source": [],
   "outputs": [],
   "metadata": {}
  }
 ]
}