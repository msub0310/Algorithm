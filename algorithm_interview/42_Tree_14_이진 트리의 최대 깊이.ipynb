{
 "metadata": {
  "language_info": {
   "codemirror_mode": {
    "name": "ipython",
    "version": 3
   },
   "file_extension": ".py",
   "mimetype": "text/x-python",
   "name": "python",
   "nbconvert_exporter": "python",
   "pygments_lexer": "ipython3",
   "version": "3.8.5"
  },
  "orig_nbformat": 2,
  "kernelspec": {
   "name": "python3",
   "display_name": "Python 3.8.5 64-bit ('algorithm': conda)"
  },
  "interpreter": {
   "hash": "6d1a3e62e6baacc997e7fd515824b0551567c542b1e37c125c97fb608db7a38d"
  }
 },
 "nbformat": 4,
 "nbformat_minor": 2,
 "cells": [
  {
   "cell_type": "code",
   "execution_count": 33,
   "source": [
    "input_1 = [3, 9, 20, None, None, 15, 7]\r\n",
    "\r\n",
    "input_1"
   ],
   "outputs": [
    {
     "output_type": "execute_result",
     "data": {
      "text/plain": [
       "[3, 9, 20, None, None, 15, 7]"
      ]
     },
     "metadata": {},
     "execution_count": 33
    }
   ],
   "metadata": {}
  },
  {
   "cell_type": "code",
   "execution_count": 34,
   "source": [
    "class TreeNode():\r\n",
    "    def __init__(self, val=0, left=None, right=None):\r\n",
    "        self.val = val\r\n",
    "        self.left = left\r\n",
    "        self.right = right"
   ],
   "outputs": [],
   "metadata": {}
  },
  {
   "cell_type": "code",
   "execution_count": 35,
   "source": [
    "def createBTree(data, index):\r\n",
    "    pNode = None\r\n",
    "    if index < len(data):\r\n",
    "        if data[index] == None:\r\n",
    "            return\r\n",
    "        pNode = TreeNode(data[index])\r\n",
    "        pNode.left = createBTree(data, 2 * index + 1)\r\n",
    "        pNode.right = createBTree(data, 2 * index + 2)\r\n",
    "    return pNode"
   ],
   "outputs": [],
   "metadata": {}
  },
  {
   "cell_type": "code",
   "execution_count": 36,
   "source": [
    "root = createBTree(input_1, 0)"
   ],
   "outputs": [],
   "metadata": {}
  },
  {
   "cell_type": "code",
   "execution_count": 37,
   "source": [
    "import collections\r\n",
    "\r\n",
    "def maxDepth(root: TreeNode) -> int:\r\n",
    "    if root is None:\r\n",
    "        return 0\r\n",
    "    queue = collections.deque([root])\r\n",
    "    depth = 0\r\n",
    "\r\n",
    "    while queue:\r\n",
    "        depth += 1\r\n",
    "\r\n",
    "        for _ in range(len(queue)):\r\n",
    "            cur_root = queue.popleft()\r\n",
    "            if cur_root.left:\r\n",
    "                queue.append(cur_root.left)\r\n",
    "            if cur_root.right:\r\n",
    "                queue.append(cur_root.right)\r\n",
    "\r\n",
    "    return depth"
   ],
   "outputs": [],
   "metadata": {}
  },
  {
   "cell_type": "code",
   "execution_count": 38,
   "source": [
    "maxDepth(root)"
   ],
   "outputs": [
    {
     "output_type": "execute_result",
     "data": {
      "text/plain": [
       "3"
      ]
     },
     "metadata": {},
     "execution_count": 38
    }
   ],
   "metadata": {}
  },
  {
   "cell_type": "code",
   "execution_count": null,
   "source": [],
   "outputs": [],
   "metadata": {}
  }
 ]
}