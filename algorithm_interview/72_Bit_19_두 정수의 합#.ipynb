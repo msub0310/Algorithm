{
 "metadata": {
  "language_info": {
   "codemirror_mode": {
    "name": "ipython",
    "version": 3
   },
   "file_extension": ".py",
   "mimetype": "text/x-python",
   "name": "python",
   "nbconvert_exporter": "python",
   "pygments_lexer": "ipython3",
   "version": "3.8.5"
  },
  "orig_nbformat": 2,
  "kernelspec": {
   "name": "python3",
   "display_name": "Python 3.8.5 64-bit ('algorithm': conda)"
  },
  "interpreter": {
   "hash": "6d1a3e62e6baacc997e7fd515824b0551567c542b1e37c125c97fb608db7a38d"
  }
 },
 "nbformat": 4,
 "nbformat_minor": 2,
 "cells": [
  {
   "cell_type": "code",
   "execution_count": 1,
   "source": [
    "a, b = 1, 2\r\n",
    "\r\n",
    "print(a, b)"
   ],
   "outputs": [
    {
     "output_type": "stream",
     "name": "stdout",
     "text": [
      "1 2\n"
     ]
    }
   ],
   "metadata": {}
  },
  {
   "cell_type": "code",
   "execution_count": 18,
   "source": [
    "# 다시 보기\r\n",
    "\r\n",
    "def getSum(a: int, b: int) -> int:\r\n",
    "    MASK = 0xFFFFFFFF\r\n",
    "    INT_MAX = 0x7FFFFFFF\r\n",
    "\r\n",
    "    a_bin = bin(a & MASK)[2:].zfill(32)\r\n",
    "    b_bin = bin(b & MASK)[2:].zfill(32)\r\n",
    "\r\n",
    "    result = []\r\n",
    "    carry = 0\r\n",
    "    sum = 0\r\n",
    "    for i in range(32):\r\n",
    "        A = int(a_bin[31 - i])\r\n",
    "        B = int(b_bin[31 - i])\r\n",
    "\r\n",
    "        Q1 = A & B\r\n",
    "        Q2 = A ^ B\r\n",
    "        Q3 = Q2 & carry\r\n",
    "        sum = carry ^ Q2\r\n",
    "        carry = Q1 | Q3\r\n",
    "\r\n",
    "        result.append(str(sum))\r\n",
    "    \r\n",
    "    if carry == 1:\r\n",
    "        result.append(\"1\")\r\n",
    "    \r\n",
    "    result = int(\"\".join(result[::-1]), 2) & MASK\r\n",
    "\r\n",
    "    if result > INT_MAX:\r\n",
    "        result = ~(result & MASK)\r\n",
    "\r\n",
    "    return result"
   ],
   "outputs": [],
   "metadata": {}
  },
  {
   "cell_type": "code",
   "execution_count": 19,
   "source": [
    "getSum(232, 123)"
   ],
   "outputs": [
    {
     "output_type": "execute_result",
     "data": {
      "text/plain": [
       "355"
      ]
     },
     "metadata": {},
     "execution_count": 19
    }
   ],
   "metadata": {}
  },
  {
   "cell_type": "code",
   "execution_count": 48,
   "source": [
    "def getSumSimple(a: int, b: int) -> int:\r\n",
    "    MASK = 0xFFFFFFFF\r\n",
    "    INT_MAX = 0x7FFFFFFF\r\n",
    "\r\n",
    "    while b != 0:\r\n",
    "        a, b = (a ^ b) & MASK, ((a & b) << 1) & MASK\r\n",
    "\r\n",
    "    if a > INT_MAX:\r\n",
    "        a = ~(a ^ MASK)\r\n",
    "    return a"
   ],
   "outputs": [],
   "metadata": {}
  },
  {
   "cell_type": "code",
   "execution_count": 49,
   "source": [
    "getSumSimple(23, 45)"
   ],
   "outputs": [
    {
     "output_type": "execute_result",
     "data": {
      "text/plain": [
       "68"
      ]
     },
     "metadata": {},
     "execution_count": 49
    }
   ],
   "metadata": {}
  },
  {
   "cell_type": "code",
   "execution_count": 3,
   "source": [
    "def 정수두개의합을구해보자(첫번째숫자: int, 두번째숫자: int) -> int:\r\n",
    "    마스크 = 0xFFFFFFFF\r\n",
    "    최대정수값 = 0x7FFFFFFF\r\n",
    "    일 = 1\r\n",
    "    영 = 0\r\n",
    "\r\n",
    "    while 두번째숫자 != 영:\r\n",
    "        첫번째숫자, 두번째숫자 = (첫번째숫자 ^ 두번째숫자) & 마스크, ((첫번째숫자 & 두번째숫자) << 일) & 마스크\r\n",
    "\r\n",
    "    if 첫번째숫자 > 최대정수값:\r\n",
    "        첫번째숫자 = ~(첫번째숫자 ^ 마스크)\r\n",
    "\r\n",
    "    return 첫번째숫자"
   ],
   "outputs": [],
   "metadata": {}
  },
  {
   "cell_type": "code",
   "execution_count": 4,
   "source": [
    "정수두개의합을구해보자(247, 125)"
   ],
   "outputs": [
    {
     "output_type": "execute_result",
     "data": {
      "text/plain": [
       "372"
      ]
     },
     "metadata": {},
     "execution_count": 4
    }
   ],
   "metadata": {}
  },
  {
   "cell_type": "code",
   "execution_count": null,
   "source": [],
   "outputs": [],
   "metadata": {}
  }
 ]
}