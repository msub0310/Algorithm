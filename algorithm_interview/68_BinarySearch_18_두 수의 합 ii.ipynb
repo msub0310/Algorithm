{
 "metadata": {
  "language_info": {
   "codemirror_mode": {
    "name": "ipython",
    "version": 3
   },
   "file_extension": ".py",
   "mimetype": "text/x-python",
   "name": "python",
   "nbconvert_exporter": "python",
   "pygments_lexer": "ipython3",
   "version": "3.8.5"
  },
  "orig_nbformat": 2,
  "kernelspec": {
   "name": "python3",
   "display_name": "Python 3.8.5 64-bit ('algorithm': conda)"
  },
  "interpreter": {
   "hash": "6d1a3e62e6baacc997e7fd515824b0551567c542b1e37c125c97fb608db7a38d"
  }
 },
 "nbformat": 4,
 "nbformat_minor": 2,
 "cells": [
  {
   "cell_type": "code",
   "execution_count": 1,
   "source": [
    "nums, target = [2, 7, 11, 15], 9\r\n",
    "\r\n",
    "print(nums, target)"
   ],
   "outputs": [
    {
     "output_type": "stream",
     "name": "stdout",
     "text": [
      "[2, 7, 11, 15] 9\n"
     ]
    }
   ],
   "metadata": {}
  },
  {
   "cell_type": "code",
   "execution_count": 2,
   "source": [
    "def twoSum(numbers: [int], target: int) -> [int]:\r\n",
    "    left, right = 0, len(numbers) - 1\r\n",
    "    while not left == right:\r\n",
    "        if numbers[left] + numbers[right] < target:\r\n",
    "            left += 1\r\n",
    "        elif numbers[left] + numbers[right] > target:\r\n",
    "            right -= 1\r\n",
    "        else:\r\n",
    "            return [left + 1, right + 1]\r\n",
    "    return -1"
   ],
   "outputs": [],
   "metadata": {}
  },
  {
   "cell_type": "code",
   "execution_count": 3,
   "source": [
    "twoSum(nums, target)"
   ],
   "outputs": [
    {
     "output_type": "execute_result",
     "data": {
      "text/plain": [
       "[1, 2]"
      ]
     },
     "metadata": {},
     "execution_count": 3
    }
   ],
   "metadata": {}
  },
  {
   "cell_type": "code",
   "execution_count": 6,
   "source": [
    "def twoSumBinary(numbers: [int], target: int) -> [int]:\r\n",
    "    for k, v in enumerate(numbers):\r\n",
    "        expected = target - v\r\n",
    "\r\n",
    "        left, right = k + 1, len(numbers) - 1\r\n",
    "        while left <= right:\r\n",
    "            mid = left + (right - left) // 2\r\n",
    "            if numbers[mid] > expected:\r\n",
    "                right = mid - 1\r\n",
    "            elif numbers[mid] < expected:\r\n",
    "                left = mid + 1\r\n",
    "            else:\r\n",
    "                return k + 1, mid + 1"
   ],
   "outputs": [],
   "metadata": {}
  },
  {
   "cell_type": "code",
   "execution_count": 7,
   "source": [
    "twoSumBinary(nums, target)"
   ],
   "outputs": [
    {
     "output_type": "execute_result",
     "data": {
      "text/plain": [
       "(1, 2)"
      ]
     },
     "metadata": {},
     "execution_count": 7
    }
   ],
   "metadata": {}
  },
  {
   "cell_type": "code",
   "execution_count": 24,
   "source": [
    "import bisect\r\n",
    "def twoSumBisect(numbers: [int], target: int) -> [int]:\r\n",
    "    for k, v in enumerate(numbers):\r\n",
    "        expected = target - v\r\n",
    "        i = bisect.bisect_left(numbers[k + 1:], expected)\r\n",
    "\r\n",
    "        if i < len(numbers[k + 1:]) and numbers[i + k + 1] == expected:\r\n",
    "            return k + 1, i + k + 2"
   ],
   "outputs": [],
   "metadata": {}
  },
  {
   "cell_type": "code",
   "execution_count": 25,
   "source": [
    "twoSumBisect(nums, target)"
   ],
   "outputs": [
    {
     "output_type": "execute_result",
     "data": {
      "text/plain": [
       "(1, 2)"
      ]
     },
     "metadata": {},
     "execution_count": 25
    }
   ],
   "metadata": {}
  },
  {
   "cell_type": "code",
   "execution_count": 26,
   "source": [
    "import bisect\r\n",
    "def twoSumBisectSlicing(numbers: [int], target: int) -> [int]:\r\n",
    "    for k, v in enumerate(numbers):\r\n",
    "        expected = target - v\r\n",
    "        nums = numbers[k + 1:]\r\n",
    "        i = bisect.bisect_left(nums, expected)\r\n",
    "        if i < len(nums) and numbers[i + k + 1] == expected:\r\n",
    "            return k + 1, i + k + 2"
   ],
   "outputs": [],
   "metadata": {}
  },
  {
   "cell_type": "code",
   "execution_count": 27,
   "source": [
    "twoSumBisectSlicing(nums, target)"
   ],
   "outputs": [
    {
     "output_type": "execute_result",
     "data": {
      "text/plain": [
       "(1, 2)"
      ]
     },
     "metadata": {},
     "execution_count": 27
    }
   ],
   "metadata": {}
  },
  {
   "cell_type": "code",
   "execution_count": 30,
   "source": [
    "def twoSumBisectParams(numbers: [int], target: int) -> [int]:\r\n",
    "    for k, v in enumerate(numbers):\r\n",
    "        expected = target - v\r\n",
    "        i = bisect.bisect_left(numbers, expected, k + 1)\r\n",
    "        if i < len(numbers) and numbers[i] == expected:\r\n",
    "            return k + 1, i + 1"
   ],
   "outputs": [],
   "metadata": {}
  },
  {
   "cell_type": "code",
   "execution_count": 31,
   "source": [
    "twoSumBisectParams(nums, target)"
   ],
   "outputs": [
    {
     "output_type": "execute_result",
     "data": {
      "text/plain": [
       "(1, 2)"
      ]
     },
     "metadata": {},
     "execution_count": 31
    }
   ],
   "metadata": {}
  },
  {
   "cell_type": "code",
   "execution_count": null,
   "source": [],
   "outputs": [],
   "metadata": {}
  }
 ]
}