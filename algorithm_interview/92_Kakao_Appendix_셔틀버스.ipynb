{
 "metadata": {
  "language_info": {
   "codemirror_mode": {
    "name": "ipython",
    "version": 3
   },
   "file_extension": ".py",
   "mimetype": "text/x-python",
   "name": "python",
   "nbconvert_exporter": "python",
   "pygments_lexer": "ipython3",
   "version": "3.8.5"
  },
  "orig_nbformat": 2,
  "kernelspec": {
   "name": "python3",
   "display_name": "Python 3.8.5 64-bit ('algorithm': conda)"
  },
  "interpreter": {
   "hash": "6d1a3e62e6baacc997e7fd515824b0551567c542b1e37c125c97fb608db7a38d"
  }
 },
 "nbformat": 4,
 "nbformat_minor": 2,
 "cells": [
  {
   "cell_type": "code",
   "execution_count": 204,
   "source": [
    "timetable = [\"08:00\", \"08:01\", \"08:02\", \"08:03\"]\r\n",
    "n, t, m = 1, 1, 5"
   ],
   "outputs": [],
   "metadata": {}
  },
  {
   "cell_type": "code",
   "execution_count": 207,
   "source": [
    "timetable = [\"09:10\", \"09:09\", \"08:00\"]\r\n",
    "n, t, m = 2, 10, 2"
   ],
   "outputs": [],
   "metadata": {}
  },
  {
   "cell_type": "code",
   "execution_count": 210,
   "source": [
    "timetable = [\"09:00\", \"09:00\", \"09:00\", \"09:00\"]\r\n",
    "n, t, m = 2, 1, 2"
   ],
   "outputs": [],
   "metadata": {}
  },
  {
   "cell_type": "code",
   "execution_count": 213,
   "source": [
    "timetable = [\"00:01\", \"00:01\", \"00:01\", \"00:01\", \"00:01\"]\r\n",
    "n, t, m = 1, 1, 5"
   ],
   "outputs": [],
   "metadata": {}
  },
  {
   "cell_type": "code",
   "execution_count": 216,
   "source": [
    "timetable = [\"23:59\"]\r\n",
    "n, t, m = 1, 1, 1"
   ],
   "outputs": [],
   "metadata": {}
  },
  {
   "cell_type": "code",
   "execution_count": 219,
   "source": [
    "timetable = [\"23:59\", \"23:59\", \"23:59\", \"23:59\", \"23:59\", \"23:59\",\r\n",
    "             \"23:59\", \"23:59\", \"23:59\", \"23:59\", \"23:59\", \"23:59\",\r\n",
    "             \"23:59\", \"23:59\", \"23:59\", \"23:59\"]\r\n",
    "n, t, m = 10, 60, 45"
   ],
   "outputs": [],
   "metadata": {}
  },
  {
   "cell_type": "code",
   "execution_count": 220,
   "source": [
    "#내 풀이\r\n",
    "import collections\r\n",
    "def solution(timetable, n, t, m):\r\n",
    "    minTimeTable = collections.deque()\r\n",
    "\r\n",
    "    arrivalTime = 540\r\n",
    "\r\n",
    "    for x in sorted(timetable):\r\n",
    "        min_ = int(x.split(\":\")[0]) * 60 + int(x.split(\":\")[1])\r\n",
    "        if min_ <= arrivalTime + t * n:\r\n",
    "            minTimeTable.append(min_)\r\n",
    "\r\n",
    "    i = 0\r\n",
    "    while i < n-1:\r\n",
    "        for _ in range(m):\r\n",
    "            if minTimeTable and minTimeTable[0] <= arrivalTime:\r\n",
    "                minTimeTable.popleft()\r\n",
    "        i += 1\r\n",
    "        arrivalTime += t\r\n",
    "\r\n",
    "    if len(minTimeTable) == m:\r\n",
    "        result = minTimeTable[-1] - 1\r\n",
    "    else:\r\n",
    "        result = arrivalTime\r\n",
    "\r\n",
    "    return str(result // 60).zfill(2) + \":\" + str(result % 60).zfill(2)"
   ],
   "outputs": [],
   "metadata": {}
  },
  {
   "cell_type": "code",
   "execution_count": 221,
   "source": [
    "solution(timetable, n, t, m)"
   ],
   "outputs": [
    {
     "output_type": "execute_result",
     "data": {
      "text/plain": [
       "'18:00'"
      ]
     },
     "metadata": {},
     "execution_count": 221
    }
   ],
   "metadata": {}
  },
  {
   "cell_type": "code",
   "execution_count": 222,
   "source": [
    "def solutionClean(n: int, t: int, m: int, timetable: [str]) -> str:\r\n",
    "    timetable = [int(time[:2]) * 60 + int(time[3:]) for time in timetable]\r\n",
    "    timetable.sort()\r\n",
    "\r\n",
    "    current = 540\r\n",
    "    for _ in range(n):\r\n",
    "        for _ in range(m):\r\n",
    "            if timetable and timetable[0] <= current:\r\n",
    "                candidate = timetable.pop(0) - 1\r\n",
    "            else:\r\n",
    "                candidate = current\r\n",
    "        current += t\r\n",
    "    h, m = divmod(candidate, 60)\r\n",
    "    return str(h).zfill(2) + \":\" + str(m).zfill(2)"
   ],
   "outputs": [],
   "metadata": {}
  },
  {
   "cell_type": "code",
   "execution_count": 223,
   "source": [
    "solutionClean(n, t, m, timetable)"
   ],
   "outputs": [
    {
     "output_type": "execute_result",
     "data": {
      "text/plain": [
       "'18:00'"
      ]
     },
     "metadata": {},
     "execution_count": 223
    }
   ],
   "metadata": {}
  },
  {
   "cell_type": "code",
   "execution_count": null,
   "source": [],
   "outputs": [],
   "metadata": {}
  }
 ]
}