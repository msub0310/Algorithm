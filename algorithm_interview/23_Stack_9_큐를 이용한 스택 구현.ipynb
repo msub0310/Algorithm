{
 "metadata": {
  "language_info": {
   "codemirror_mode": {
    "name": "ipython",
    "version": 3
   },
   "file_extension": ".py",
   "mimetype": "text/x-python",
   "name": "python",
   "nbconvert_exporter": "python",
   "pygments_lexer": "ipython3",
   "version": "3.8.5"
  },
  "orig_nbformat": 2,
  "kernelspec": {
   "name": "python3",
   "display_name": "Python 3.8.5 64-bit ('at_augmentation': conda)"
  },
  "interpreter": {
   "hash": "828202fa85a8b396542176841487990126fada61002bf35be36a9dd70b81875f"
  }
 },
 "nbformat": 4,
 "nbformat_minor": 2,
 "cells": [
  {
   "cell_type": "code",
   "execution_count": 16,
   "source": [
    "import collections"
   ],
   "outputs": [],
   "metadata": {}
  },
  {
   "cell_type": "code",
   "execution_count": 17,
   "source": [
    "class MyStack:\r\n",
    "    def __init__(self):\r\n",
    "        self.q = collections.deque()\r\n",
    "\r\n",
    "    def push(self, x):\r\n",
    "        self.q.append(x)\r\n",
    "\r\n",
    "        for _ in range(len(self.q) - 1):\r\n",
    "            self.q.append(self.q.popleft())\r\n",
    "\r\n",
    "    def pop(self):\r\n",
    "        return self.q.popleft()\r\n",
    "\r\n",
    "    def top(self):\r\n",
    "        return self.q[0]\r\n",
    "\r\n",
    "    def empty(self):\r\n",
    "        return len(self.q) == 0"
   ],
   "outputs": [],
   "metadata": {}
  },
  {
   "cell_type": "code",
   "execution_count": 22,
   "source": [
    "mystack = MyStack()"
   ],
   "outputs": [],
   "metadata": {}
  },
  {
   "cell_type": "code",
   "execution_count": 23,
   "source": [
    "for i in range(5):\r\n",
    "    mystack.push(i + 1)"
   ],
   "outputs": [],
   "metadata": {}
  },
  {
   "cell_type": "code",
   "execution_count": 24,
   "source": [
    "print(mystack.top())\r\n",
    "print()\r\n",
    "\r\n",
    "while not mystack.empty():\r\n",
    "    print(mystack.pop())\r\n",
    "\r\n",
    "print()\r\n",
    "print(mystack.empty())"
   ],
   "outputs": [
    {
     "output_type": "stream",
     "name": "stdout",
     "text": [
      "5\n",
      "\n",
      "5\n",
      "4\n",
      "3\n",
      "2\n",
      "1\n",
      "\n",
      "True\n"
     ]
    }
   ],
   "metadata": {}
  },
  {
   "cell_type": "code",
   "execution_count": null,
   "source": [],
   "outputs": [],
   "metadata": {}
  }
 ]
}