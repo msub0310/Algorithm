{
 "metadata": {
  "language_info": {
   "codemirror_mode": {
    "name": "ipython",
    "version": 3
   },
   "file_extension": ".py",
   "mimetype": "text/x-python",
   "name": "python",
   "nbconvert_exporter": "python",
   "pygments_lexer": "ipython3",
   "version": "3.8.5"
  },
  "orig_nbformat": 2,
  "kernelspec": {
   "name": "python3",
   "display_name": "Python 3.8.5 64-bit ('algorithm': conda)"
  },
  "interpreter": {
   "hash": "6d1a3e62e6baacc997e7fd515824b0551567c542b1e37c125c97fb608db7a38d"
  }
 },
 "nbformat": 4,
 "nbformat_minor": 2,
 "cells": [
  {
   "cell_type": "code",
   "execution_count": 6,
   "source": [
    "cargo = [\r\n",
    "    (4, 12),\r\n",
    "    (2, 1),\r\n",
    "    (10, 4),\r\n",
    "    (1, 1),\r\n",
    "    (2, 2)]\r\n",
    "\r\n",
    "capacity = 15\r\n",
    "\r\n",
    "print(cargo, capacity)"
   ],
   "outputs": [
    {
     "output_type": "stream",
     "name": "stdout",
     "text": [
      "[(4, 12), (2, 1), (10, 4), (1, 1), (2, 2)] 15\n"
     ]
    }
   ],
   "metadata": {}
  },
  {
   "cell_type": "code",
   "execution_count": 11,
   "source": [
    "def fractional_knapsack(cargo, capacity):\r\n",
    "    pack = []\r\n",
    "\r\n",
    "    for c in cargo:\r\n",
    "        pack.append((c[0] / c[1], c[0], c[1]))\r\n",
    "    pack.sort(reverse=True)\r\n",
    "\r\n",
    "    total_value: float = 0\r\n",
    "    for p in pack:\r\n",
    "        if capacity - p[2] >= 0:\r\n",
    "            capacity -= p[2]\r\n",
    "            total_value += p[1]\r\n",
    "        else:\r\n",
    "            fraction = capacity / p[2]\r\n",
    "            total_value += p[1] * fraction\r\n",
    "            break\r\n",
    "    \r\n",
    "    return total_value"
   ],
   "outputs": [],
   "metadata": {}
  },
  {
   "cell_type": "code",
   "execution_count": 12,
   "source": [
    "fractional_knapsack(cargo, capacity)"
   ],
   "outputs": [
    {
     "output_type": "execute_result",
     "data": {
      "text/plain": [
       "17.333333333333332"
      ]
     },
     "metadata": {},
     "execution_count": 12
    }
   ],
   "metadata": {}
  },
  {
   "cell_type": "code",
   "execution_count": null,
   "source": [],
   "outputs": [],
   "metadata": {}
  }
 ]
}