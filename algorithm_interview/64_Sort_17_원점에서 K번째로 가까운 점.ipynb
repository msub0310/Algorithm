{
 "metadata": {
  "language_info": {
   "codemirror_mode": {
    "name": "ipython",
    "version": 3
   },
   "file_extension": ".py",
   "mimetype": "text/x-python",
   "name": "python",
   "nbconvert_exporter": "python",
   "pygments_lexer": "ipython3",
   "version": "3.8.5"
  },
  "orig_nbformat": 2,
  "kernelspec": {
   "name": "python3",
   "display_name": "Python 3.8.5 64-bit ('algorithm': conda)"
  },
  "interpreter": {
   "hash": "6d1a3e62e6baacc997e7fd515824b0551567c542b1e37c125c97fb608db7a38d"
  }
 },
 "nbformat": 4,
 "nbformat_minor": 2,
 "cells": [
  {
   "cell_type": "code",
   "execution_count": 1,
   "source": [
    "points_1, K_1 = [[1, 3], [-2, 2]], 1\r\n",
    "points_2, K_2 = [[3, 3], [5, -1], [-2, 4]], 2\r\n",
    "\r\n",
    "print(points_1, K_1)\r\n",
    "print(points_2, K_2)"
   ],
   "outputs": [
    {
     "output_type": "stream",
     "name": "stdout",
     "text": [
      "[[1, 3], [-2, 2]] 1\n",
      "[[3, 3], [5, -1], [-2, 4]] 2\n"
     ]
    }
   ],
   "metadata": {}
  },
  {
   "cell_type": "code",
   "execution_count": 2,
   "source": [
    "# 내 풀이\r\n",
    "import math\r\n",
    "\r\n",
    "def kClosest(points: [[int]], k: int) -> [int]:\r\n",
    "    return sorted(points, key=lambda x: math.sqrt(x[0] ** 2 + x[1] ** 2))[:k]"
   ],
   "outputs": [],
   "metadata": {}
  },
  {
   "cell_type": "code",
   "execution_count": 3,
   "source": [
    "print(kClosest(points_1, K_1))\r\n",
    "print(kClosest(points_2, K_2))"
   ],
   "outputs": [
    {
     "output_type": "stream",
     "name": "stdout",
     "text": [
      "[[-2, 2]]\n",
      "[[3, 3], [-2, 4]]\n"
     ]
    }
   ],
   "metadata": {}
  },
  {
   "cell_type": "code",
   "execution_count": 4,
   "source": [
    "# 더 좋은 풀이\r\n",
    "def kClosestBetter(points: [[int]], k: int) -> [int]:\r\n",
    "    return sorted(points, key=lambda x: x[0] ** 2 + x[1] ** 2)[:k]"
   ],
   "outputs": [],
   "metadata": {}
  },
  {
   "cell_type": "code",
   "execution_count": 5,
   "source": [
    "print(kClosestBetter(points_1, K_1))\r\n",
    "print(kClosestBetter(points_2, K_2))"
   ],
   "outputs": [
    {
     "output_type": "stream",
     "name": "stdout",
     "text": [
      "[[-2, 2]]\n",
      "[[3, 3], [-2, 4]]\n"
     ]
    }
   ],
   "metadata": {}
  },
  {
   "cell_type": "code",
   "execution_count": 13,
   "source": [
    "import heapq\r\n",
    "\r\n",
    "def kClosestHeap(points: [[int]], k: int) -> [[int]]:\r\n",
    "    heap = []\r\n",
    "    for x, y in points:\r\n",
    "        dist = x ** 2 + y ** 2\r\n",
    "        heapq.heappush(heap, (dist, x, y))\r\n",
    "\r\n",
    "    result = []\r\n",
    "    for _ in range(k):\r\n",
    "        dist, x, y = heapq.heappop(heap)\r\n",
    "        result.append([x, y])\r\n",
    "\r\n",
    "    return result"
   ],
   "outputs": [],
   "metadata": {}
  },
  {
   "cell_type": "code",
   "execution_count": 15,
   "source": [
    "kClosestHeap(points_2, K_2)"
   ],
   "outputs": [
    {
     "output_type": "execute_result",
     "data": {
      "text/plain": [
       "[[3, 3], [-2, 4]]"
      ]
     },
     "metadata": {},
     "execution_count": 15
    }
   ],
   "metadata": {}
  },
  {
   "cell_type": "code",
   "execution_count": null,
   "source": [],
   "outputs": [],
   "metadata": {}
  }
 ]
}